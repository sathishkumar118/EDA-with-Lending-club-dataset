{
 "cells": [
  {
   "cell_type": "markdown",
   "id": "martial-metallic",
   "metadata": {
    "papermill": {
     "duration": 0.130703,
     "end_time": "2021-04-19T05:43:08.541207",
     "exception": false,
     "start_time": "2021-04-19T05:43:08.410504",
     "status": "completed"
    },
    "tags": []
   },
   "source": [
    "<a href=\"https://www.pieriandata.com\"><img src=\"../Pierian_Data_Logo.PNG\"></a>\n",
    "<strong><center>Copyright by Pierian Data Inc.</center></strong> \n",
    "<strong><center>Created by Jose Marcial Portilla.</center></strong>"
   ]
  },
  {
   "cell_type": "markdown",
   "id": "welsh-microphone",
   "metadata": {
    "papermill": {
     "duration": 0.125576,
     "end_time": "2021-04-19T05:43:08.793805",
     "exception": false,
     "start_time": "2021-04-19T05:43:08.668229",
     "status": "completed"
    },
    "tags": []
   },
   "source": [
    "# Keras API Project Exercise\n",
    "\n",
    "## The Data\n",
    "\n",
    "We will be using a subset of the LendingClub DataSet obtained from Kaggle: https://www.kaggle.com/wordsforthewise/lending-club\n",
    "\n",
    "## NOTE: Do not download the full zip from the link! We provide a special version of this file that has some extra feature engineering for you to do. You won't be able to follow along with the original file!\n",
    "\n",
    "LendingClub is a US peer-to-peer lending company, headquartered in San Francisco, California.[3] It was the first peer-to-peer lender to register its offerings as securities with the Securities and Exchange Commission (SEC), and to offer loan trading on a secondary market. LendingClub is the world's largest peer-to-peer lending platform.\n",
    "\n",
    "### Our Goal\n",
    "\n",
    "Given historical data on loans given out with information on whether or not the borrower defaulted (charge-off), can we build a model thatcan predict wether or nor a borrower will pay back their loan? This way in the future when we get a new potential customer we can assess whether or not they are likely to pay back the loan. Keep in mind classification metrics when evaluating the performance of your model!\n",
    "\n",
    "The \"loan_status\" column contains our label.\n",
    "\n",
    "### Data Overview"
   ]
  },
  {
   "cell_type": "markdown",
   "id": "funny-contribution",
   "metadata": {
    "papermill": {
     "duration": 0.126996,
     "end_time": "2021-04-19T05:43:09.048841",
     "exception": false,
     "start_time": "2021-04-19T05:43:08.921845",
     "status": "completed"
    },
    "tags": []
   },
   "source": [
    "----\n",
    "-----\n",
    "There are many LendingClub data sets on Kaggle. Here is the information on this particular data set:\n",
    "\n",
    "<table border=\"1\" class=\"dataframe\">\n",
    "  <thead>\n",
    "    <tr style=\"text-align: right;\">\n",
    "      <th></th>\n",
    "      <th>LoanStatNew</th>\n",
    "      <th>Description</th>\n",
    "    </tr>\n",
    "  </thead>\n",
    "  <tbody>\n",
    "    <tr>\n",
    "      <th>0</th>\n",
    "      <td>loan_amnt</td>\n",
    "      <td>The listed amount of the loan applied for by the borrower. If at some point in time, the credit department reduces the loan amount, then it will be reflected in this value.</td>\n",
    "    </tr>\n",
    "    <tr>\n",
    "      <th>1</th>\n",
    "      <td>term</td>\n",
    "      <td>The number of payments on the loan. Values are in months and can be either 36 or 60.</td>\n",
    "    </tr>\n",
    "    <tr>\n",
    "      <th>2</th>\n",
    "      <td>int_rate</td>\n",
    "      <td>Interest Rate on the loan</td>\n",
    "    </tr>\n",
    "    <tr>\n",
    "      <th>3</th>\n",
    "      <td>installment</td>\n",
    "      <td>The monthly payment owed by the borrower if the loan originates.</td>\n",
    "    </tr>\n",
    "    <tr>\n",
    "      <th>4</th>\n",
    "      <td>grade</td>\n",
    "      <td>LC assigned loan grade</td>\n",
    "    </tr>\n",
    "    <tr>\n",
    "      <th>5</th>\n",
    "      <td>sub_grade</td>\n",
    "      <td>LC assigned loan subgrade</td>\n",
    "    </tr>\n",
    "    <tr>\n",
    "      <th>6</th>\n",
    "      <td>emp_title</td>\n",
    "      <td>The job title supplied by the Borrower when applying for the loan.*</td>\n",
    "    </tr>\n",
    "    <tr>\n",
    "      <th>7</th>\n",
    "      <td>emp_length</td>\n",
    "      <td>Employment length in years. Possible values are between 0 and 10 where 0 means less than one year and 10 means ten or more years.</td>\n",
    "    </tr>\n",
    "    <tr>\n",
    "      <th>8</th>\n",
    "      <td>home_ownership</td>\n",
    "      <td>The home ownership status provided by the borrower during registration or obtained from the credit report. Our values are: RENT, OWN, MORTGAGE, OTHER</td>\n",
    "    </tr>\n",
    "    <tr>\n",
    "      <th>9</th>\n",
    "      <td>annual_inc</td>\n",
    "      <td>The self-reported annual income provided by the borrower during registration.</td>\n",
    "    </tr>\n",
    "    <tr>\n",
    "      <th>10</th>\n",
    "      <td>verification_status</td>\n",
    "      <td>Indicates if income was verified by LC, not verified, or if the income source was verified</td>\n",
    "    </tr>\n",
    "    <tr>\n",
    "      <th>11</th>\n",
    "      <td>issue_d</td>\n",
    "      <td>The month which the loan was funded</td>\n",
    "    </tr>\n",
    "    <tr>\n",
    "      <th>12</th>\n",
    "      <td>loan_status</td>\n",
    "      <td>Current status of the loan</td>\n",
    "    </tr>\n",
    "    <tr>\n",
    "      <th>13</th>\n",
    "      <td>purpose</td>\n",
    "      <td>A category provided by the borrower for the loan request.</td>\n",
    "    </tr>\n",
    "    <tr>\n",
    "      <th>14</th>\n",
    "      <td>title</td>\n",
    "      <td>The loan title provided by the borrower</td>\n",
    "    </tr>\n",
    "    <tr>\n",
    "      <th>15</th>\n",
    "      <td>zip_code</td>\n",
    "      <td>The first 3 numbers of the zip code provided by the borrower in the loan application.</td>\n",
    "    </tr>\n",
    "    <tr>\n",
    "      <th>16</th>\n",
    "      <td>addr_state</td>\n",
    "      <td>The state provided by the borrower in the loan application</td>\n",
    "    </tr>\n",
    "    <tr>\n",
    "      <th>17</th>\n",
    "      <td>dti</td>\n",
    "      <td>A ratio calculated using the borrower’s total monthly debt payments on the total debt obligations, excluding mortgage and the requested LC loan, divided by the borrower’s self-reported monthly income.</td>\n",
    "    </tr>\n",
    "    <tr>\n",
    "      <th>18</th>\n",
    "      <td>earliest_cr_line</td>\n",
    "      <td>The month the borrower's earliest reported credit line was opened</td>\n",
    "    </tr>\n",
    "    <tr>\n",
    "      <th>19</th>\n",
    "      <td>open_acc</td>\n",
    "      <td>The number of open credit lines in the borrower's credit file.</td>\n",
    "    </tr>\n",
    "    <tr>\n",
    "      <th>20</th>\n",
    "      <td>pub_rec</td>\n",
    "      <td>Number of derogatory public records</td>\n",
    "    </tr>\n",
    "    <tr>\n",
    "      <th>21</th>\n",
    "      <td>revol_bal</td>\n",
    "      <td>Total credit revolving balance</td>\n",
    "    </tr>\n",
    "    <tr>\n",
    "      <th>22</th>\n",
    "      <td>revol_util</td>\n",
    "      <td>Revolving line utilization rate, or the amount of credit the borrower is using relative to all available revolving credit.</td>\n",
    "    </tr>\n",
    "    <tr>\n",
    "      <th>23</th>\n",
    "      <td>total_acc</td>\n",
    "      <td>The total number of credit lines currently in the borrower's credit file</td>\n",
    "    </tr>\n",
    "    <tr>\n",
    "      <th>24</th>\n",
    "      <td>initial_list_status</td>\n",
    "      <td>The initial listing status of the loan. Possible values are – W, F</td>\n",
    "    </tr>\n",
    "    <tr>\n",
    "      <th>25</th>\n",
    "      <td>application_type</td>\n",
    "      <td>Indicates whether the loan is an individual application or a joint application with two co-borrowers</td>\n",
    "    </tr>\n",
    "    <tr>\n",
    "      <th>26</th>\n",
    "      <td>mort_acc</td>\n",
    "      <td>Number of mortgage accounts.</td>\n",
    "    </tr>\n",
    "    <tr>\n",
    "      <th>27</th>\n",
    "      <td>pub_rec_bankruptcies</td>\n",
    "      <td>Number of public record bankruptcies</td>\n",
    "    </tr>\n",
    "  </tbody>\n",
    "</table>\n",
    "\n",
    "---\n",
    "----"
   ]
  },
  {
   "cell_type": "markdown",
   "id": "divine-foundation",
   "metadata": {
    "papermill": {
     "duration": 0.124273,
     "end_time": "2021-04-19T05:43:09.299113",
     "exception": false,
     "start_time": "2021-04-19T05:43:09.174840",
     "status": "completed"
    },
    "tags": []
   },
   "source": [
    "## Starter Code\n",
    "\n",
    "#### Note: We also provide feature information on the data as a .csv file for easy lookup throughout the notebook:"
   ]
  },
  {
   "cell_type": "code",
   "execution_count": 1,
   "id": "sapphire-belfast",
   "metadata": {
    "execution": {
     "iopub.execute_input": "2021-04-19T05:43:09.551665Z",
     "iopub.status.busy": "2021-04-19T05:43:09.551072Z",
     "iopub.status.idle": "2021-04-19T05:43:09.553894Z",
     "shell.execute_reply": "2021-04-19T05:43:09.554458Z"
    },
    "papermill": {
     "duration": 0.131527,
     "end_time": "2021-04-19T05:43:09.554739",
     "exception": false,
     "start_time": "2021-04-19T05:43:09.423212",
     "status": "completed"
    },
    "tags": []
   },
   "outputs": [],
   "source": [
    "import pandas as pd"
   ]
  },
  {
   "cell_type": "code",
   "execution_count": 2,
   "id": "interim-colorado",
   "metadata": {
    "execution": {
     "iopub.execute_input": "2021-04-19T05:43:09.812403Z",
     "iopub.status.busy": "2021-04-19T05:43:09.811731Z",
     "iopub.status.idle": "2021-04-19T05:43:09.844502Z",
     "shell.execute_reply": "2021-04-19T05:43:09.843950Z"
    },
    "papermill": {
     "duration": 0.164703,
     "end_time": "2021-04-19T05:43:09.844712",
     "exception": false,
     "start_time": "2021-04-19T05:43:09.680009",
     "status": "completed"
    },
    "tags": []
   },
   "outputs": [],
   "source": [
    "data_info = pd.read_csv('../input/lendingclub-data-sets/lending_club_info.csv',index_col='LoanStatNew')"
   ]
  },
  {
   "cell_type": "code",
   "execution_count": 3,
   "id": "packed-report",
   "metadata": {
    "execution": {
     "iopub.execute_input": "2021-04-19T05:43:10.100892Z",
     "iopub.status.busy": "2021-04-19T05:43:10.100222Z",
     "iopub.status.idle": "2021-04-19T05:43:10.103283Z",
     "shell.execute_reply": "2021-04-19T05:43:10.103800Z"
    },
    "papermill": {
     "duration": 0.133053,
     "end_time": "2021-04-19T05:43:10.103962",
     "exception": false,
     "start_time": "2021-04-19T05:43:09.970909",
     "status": "completed"
    },
    "tags": []
   },
   "outputs": [
    {
     "name": "stdout",
     "output_type": "stream",
     "text": [
      "Revolving line utilization rate, or the amount of credit the borrower is using relative to all available revolving credit.\n"
     ]
    }
   ],
   "source": [
    "print(data_info.loc['revol_util']['Description'])"
   ]
  },
  {
   "cell_type": "code",
   "execution_count": 4,
   "id": "known-nicaragua",
   "metadata": {
    "execution": {
     "iopub.execute_input": "2021-04-19T05:43:10.360328Z",
     "iopub.status.busy": "2021-04-19T05:43:10.359672Z",
     "iopub.status.idle": "2021-04-19T05:43:10.362818Z",
     "shell.execute_reply": "2021-04-19T05:43:10.362189Z"
    },
    "papermill": {
     "duration": 0.13284,
     "end_time": "2021-04-19T05:43:10.362966",
     "exception": false,
     "start_time": "2021-04-19T05:43:10.230126",
     "status": "completed"
    },
    "tags": []
   },
   "outputs": [],
   "source": [
    "def feat_info(col_name):\n",
    "    print(data_info.loc[col_name]['Description'])"
   ]
  },
  {
   "cell_type": "code",
   "execution_count": 5,
   "id": "fundamental-active",
   "metadata": {
    "execution": {
     "iopub.execute_input": "2021-04-19T05:43:10.616807Z",
     "iopub.status.busy": "2021-04-19T05:43:10.616189Z",
     "iopub.status.idle": "2021-04-19T05:43:10.621537Z",
     "shell.execute_reply": "2021-04-19T05:43:10.622463Z"
    },
    "papermill": {
     "duration": 0.134195,
     "end_time": "2021-04-19T05:43:10.622704",
     "exception": false,
     "start_time": "2021-04-19T05:43:10.488509",
     "status": "completed"
    },
    "tags": []
   },
   "outputs": [
    {
     "name": "stdout",
     "output_type": "stream",
     "text": [
      "Number of mortgage accounts.\n"
     ]
    }
   ],
   "source": [
    "feat_info('mort_acc')"
   ]
  },
  {
   "cell_type": "markdown",
   "id": "possible-salem",
   "metadata": {
    "papermill": {
     "duration": 0.126669,
     "end_time": "2021-04-19T05:43:10.879191",
     "exception": false,
     "start_time": "2021-04-19T05:43:10.752522",
     "status": "completed"
    },
    "tags": []
   },
   "source": [
    "## Loading the data and other imports"
   ]
  },
  {
   "cell_type": "code",
   "execution_count": 6,
   "id": "strong-laser",
   "metadata": {
    "execution": {
     "iopub.execute_input": "2021-04-19T05:43:11.139803Z",
     "iopub.status.busy": "2021-04-19T05:43:11.138944Z",
     "iopub.status.idle": "2021-04-19T05:43:12.139105Z",
     "shell.execute_reply": "2021-04-19T05:43:12.139684Z"
    },
    "papermill": {
     "duration": 1.133134,
     "end_time": "2021-04-19T05:43:12.139863",
     "exception": false,
     "start_time": "2021-04-19T05:43:11.006729",
     "status": "completed"
    },
    "tags": []
   },
   "outputs": [],
   "source": [
    "import pandas as pd\n",
    "import numpy as np\n",
    "import matplotlib.pyplot as plt\n",
    "import seaborn as sns\n",
    "\n",
    "# might be needed depending on your version of Jupyter\n",
    "%matplotlib inline"
   ]
  },
  {
   "cell_type": "code",
   "execution_count": 7,
   "id": "suspected-prairie",
   "metadata": {
    "execution": {
     "iopub.execute_input": "2021-04-19T05:43:12.423443Z",
     "iopub.status.busy": "2021-04-19T05:43:12.422782Z",
     "iopub.status.idle": "2021-04-19T05:43:16.091983Z",
     "shell.execute_reply": "2021-04-19T05:43:16.092491Z"
    },
    "papermill": {
     "duration": 3.821095,
     "end_time": "2021-04-19T05:43:16.092716",
     "exception": false,
     "start_time": "2021-04-19T05:43:12.271621",
     "status": "completed"
    },
    "tags": []
   },
   "outputs": [],
   "source": [
    "df = pd.read_csv('../input/lendingclub-data-sets/lending_club_loan_two.csv')"
   ]
  },
  {
   "cell_type": "code",
   "execution_count": 8,
   "id": "similar-advance",
   "metadata": {
    "execution": {
     "iopub.execute_input": "2021-04-19T05:43:16.350235Z",
     "iopub.status.busy": "2021-04-19T05:43:16.349618Z",
     "iopub.status.idle": "2021-04-19T05:43:16.953642Z",
     "shell.execute_reply": "2021-04-19T05:43:16.953082Z"
    },
    "papermill": {
     "duration": 0.733817,
     "end_time": "2021-04-19T05:43:16.953801",
     "exception": false,
     "start_time": "2021-04-19T05:43:16.219984",
     "status": "completed"
    },
    "tags": []
   },
   "outputs": [
    {
     "name": "stdout",
     "output_type": "stream",
     "text": [
      "<class 'pandas.core.frame.DataFrame'>\n",
      "RangeIndex: 396030 entries, 0 to 396029\n",
      "Data columns (total 27 columns):\n",
      " #   Column                Non-Null Count   Dtype  \n",
      "---  ------                --------------   -----  \n",
      " 0   loan_amnt             396030 non-null  float64\n",
      " 1   term                  396030 non-null  object \n",
      " 2   int_rate              396030 non-null  float64\n",
      " 3   installment           396030 non-null  float64\n",
      " 4   grade                 396030 non-null  object \n",
      " 5   sub_grade             396030 non-null  object \n",
      " 6   emp_title             373103 non-null  object \n",
      " 7   emp_length            377729 non-null  object \n",
      " 8   home_ownership        396030 non-null  object \n",
      " 9   annual_inc            396030 non-null  float64\n",
      " 10  verification_status   396030 non-null  object \n",
      " 11  issue_d               396030 non-null  object \n",
      " 12  loan_status           396030 non-null  object \n",
      " 13  purpose               396030 non-null  object \n",
      " 14  title                 394275 non-null  object \n",
      " 15  dti                   396030 non-null  float64\n",
      " 16  earliest_cr_line      396030 non-null  object \n",
      " 17  open_acc              396030 non-null  float64\n",
      " 18  pub_rec               396030 non-null  float64\n",
      " 19  revol_bal             396030 non-null  float64\n",
      " 20  revol_util            395754 non-null  float64\n",
      " 21  total_acc             396030 non-null  float64\n",
      " 22  initial_list_status   396030 non-null  object \n",
      " 23  application_type      396030 non-null  object \n",
      " 24  mort_acc              358235 non-null  float64\n",
      " 25  pub_rec_bankruptcies  395495 non-null  float64\n",
      " 26  address               396030 non-null  object \n",
      "dtypes: float64(12), object(15)\n",
      "memory usage: 81.6+ MB\n"
     ]
    }
   ],
   "source": [
    "df.info()"
   ]
  },
  {
   "cell_type": "markdown",
   "id": "destroyed-straight",
   "metadata": {
    "papermill": {
     "duration": 0.130557,
     "end_time": "2021-04-19T05:43:17.212799",
     "exception": false,
     "start_time": "2021-04-19T05:43:17.082242",
     "status": "completed"
    },
    "tags": []
   },
   "source": [
    "# Project Tasks\n",
    "\n",
    "**Complete the tasks below! Keep in mind is usually more than one way to complete the task! Enjoy**\n",
    "\n",
    "-----\n",
    "------\n",
    "\n",
    "# Section 1: Exploratory Data Analysis\n",
    "\n",
    "**OVERALL GOAL: Get an understanding for which variables are important, view summary statistics, and visualize the data**\n",
    "\n",
    "\n",
    "----"
   ]
  },
  {
   "cell_type": "markdown",
   "id": "obvious-orientation",
   "metadata": {
    "papermill": {
     "duration": 0.12694,
     "end_time": "2021-04-19T05:43:17.466850",
     "exception": false,
     "start_time": "2021-04-19T05:43:17.339910",
     "status": "completed"
    },
    "tags": []
   },
   "source": [
    "**TASK: Since we will be attempting to predict loan_status, create a countplot as shown below.**"
   ]
  },
  {
   "cell_type": "code",
   "execution_count": 9,
   "id": "enabling-clarity",
   "metadata": {
    "execution": {
     "iopub.execute_input": "2021-04-19T05:43:17.727049Z",
     "iopub.status.busy": "2021-04-19T05:43:17.726013Z",
     "iopub.status.idle": "2021-04-19T05:43:17.729335Z",
     "shell.execute_reply": "2021-04-19T05:43:17.728712Z"
    },
    "papermill": {
     "duration": 0.134687,
     "end_time": "2021-04-19T05:43:17.729468",
     "exception": false,
     "start_time": "2021-04-19T05:43:17.594781",
     "status": "completed"
    },
    "tags": []
   },
   "outputs": [],
   "source": [
    "# CODE HERE"
   ]
  },
  {
   "cell_type": "code",
   "execution_count": null,
   "id": "smoking-nickel",
   "metadata": {
    "papermill": {
     "duration": 0.126659,
     "end_time": "2021-04-19T05:43:17.985467",
     "exception": false,
     "start_time": "2021-04-19T05:43:17.858808",
     "status": "completed"
    },
    "tags": []
   },
   "outputs": [],
   "source": []
  },
  {
   "cell_type": "markdown",
   "id": "stretch-danger",
   "metadata": {
    "papermill": {
     "duration": 0.126796,
     "end_time": "2021-04-19T05:43:18.240708",
     "exception": false,
     "start_time": "2021-04-19T05:43:18.113912",
     "status": "completed"
    },
    "tags": []
   },
   "source": [
    "**TASK: Create a histogram of the loan_amnt column.**"
   ]
  },
  {
   "cell_type": "code",
   "execution_count": 10,
   "id": "appointed-delaware",
   "metadata": {
    "execution": {
     "iopub.execute_input": "2021-04-19T05:43:18.499405Z",
     "iopub.status.busy": "2021-04-19T05:43:18.498444Z",
     "iopub.status.idle": "2021-04-19T05:43:18.501870Z",
     "shell.execute_reply": "2021-04-19T05:43:18.502379Z"
    },
    "papermill": {
     "duration": 0.135099,
     "end_time": "2021-04-19T05:43:18.502566",
     "exception": false,
     "start_time": "2021-04-19T05:43:18.367467",
     "status": "completed"
    },
    "tags": []
   },
   "outputs": [],
   "source": [
    "# CODE HERE"
   ]
  },
  {
   "cell_type": "code",
   "execution_count": null,
   "id": "perceived-adobe",
   "metadata": {
    "papermill": {
     "duration": 0.127864,
     "end_time": "2021-04-19T05:43:18.759272",
     "exception": false,
     "start_time": "2021-04-19T05:43:18.631408",
     "status": "completed"
    },
    "tags": []
   },
   "outputs": [],
   "source": []
  },
  {
   "cell_type": "markdown",
   "id": "higher-exposure",
   "metadata": {
    "papermill": {
     "duration": 0.130709,
     "end_time": "2021-04-19T05:43:19.020035",
     "exception": false,
     "start_time": "2021-04-19T05:43:18.889326",
     "status": "completed"
    },
    "tags": []
   },
   "source": [
    "**TASK: Let's explore correlation between the continuous feature variables. Calculate the correlation between all continuous numeric variables using .corr() method.**"
   ]
  },
  {
   "cell_type": "code",
   "execution_count": 11,
   "id": "continental-syntax",
   "metadata": {
    "execution": {
     "iopub.execute_input": "2021-04-19T05:43:19.285414Z",
     "iopub.status.busy": "2021-04-19T05:43:19.284664Z",
     "iopub.status.idle": "2021-04-19T05:43:19.287814Z",
     "shell.execute_reply": "2021-04-19T05:43:19.288324Z"
    },
    "papermill": {
     "duration": 0.138836,
     "end_time": "2021-04-19T05:43:19.288487",
     "exception": false,
     "start_time": "2021-04-19T05:43:19.149651",
     "status": "completed"
    },
    "tags": []
   },
   "outputs": [],
   "source": [
    "# CODE HERE"
   ]
  },
  {
   "cell_type": "code",
   "execution_count": null,
   "id": "dominant-feeding",
   "metadata": {
    "papermill": {
     "duration": 0.126941,
     "end_time": "2021-04-19T05:43:19.543170",
     "exception": false,
     "start_time": "2021-04-19T05:43:19.416229",
     "status": "completed"
    },
    "tags": []
   },
   "outputs": [],
   "source": []
  },
  {
   "cell_type": "markdown",
   "id": "violent-india",
   "metadata": {
    "papermill": {
     "duration": 0.132022,
     "end_time": "2021-04-19T05:43:19.802235",
     "exception": false,
     "start_time": "2021-04-19T05:43:19.670213",
     "status": "completed"
    },
    "tags": []
   },
   "source": [
    "**TASK: Visualize this using a heatmap. Depending on your version of matplotlib, you may need to manually adjust the heatmap.**\n",
    "\n",
    "* [Heatmap info](https://seaborn.pydata.org/generated/seaborn.heatmap.html#seaborn.heatmap)\n",
    "* [Help with resizing](https://stackoverflow.com/questions/56942670/matplotlib-seaborn-first-and-last-row-cut-in-half-of-heatmap-plot)"
   ]
  },
  {
   "cell_type": "code",
   "execution_count": 12,
   "id": "tamil-heating",
   "metadata": {
    "execution": {
     "iopub.execute_input": "2021-04-19T05:43:20.063754Z",
     "iopub.status.busy": "2021-04-19T05:43:20.063046Z",
     "iopub.status.idle": "2021-04-19T05:43:20.066018Z",
     "shell.execute_reply": "2021-04-19T05:43:20.066565Z"
    },
    "papermill": {
     "duration": 0.135886,
     "end_time": "2021-04-19T05:43:20.066735",
     "exception": false,
     "start_time": "2021-04-19T05:43:19.930849",
     "status": "completed"
    },
    "tags": []
   },
   "outputs": [],
   "source": [
    "# CODE HERE"
   ]
  },
  {
   "cell_type": "code",
   "execution_count": null,
   "id": "excited-enhancement",
   "metadata": {
    "papermill": {
     "duration": 0.127635,
     "end_time": "2021-04-19T05:43:20.323178",
     "exception": false,
     "start_time": "2021-04-19T05:43:20.195543",
     "status": "completed"
    },
    "tags": []
   },
   "outputs": [],
   "source": []
  },
  {
   "cell_type": "markdown",
   "id": "backed-garage",
   "metadata": {
    "papermill": {
     "duration": 0.128566,
     "end_time": "2021-04-19T05:43:20.581081",
     "exception": false,
     "start_time": "2021-04-19T05:43:20.452515",
     "status": "completed"
    },
    "tags": []
   },
   "source": [
    "**TASK: You should have noticed almost perfect correlation with the \"installment\" feature. Explore this feature further. Print out their descriptions and perform a scatterplot between them. Does this relationship make sense to you? Do you think there is duplicate information here?**"
   ]
  },
  {
   "cell_type": "code",
   "execution_count": 13,
   "id": "junior-mineral",
   "metadata": {
    "execution": {
     "iopub.execute_input": "2021-04-19T05:43:20.839358Z",
     "iopub.status.busy": "2021-04-19T05:43:20.838680Z",
     "iopub.status.idle": "2021-04-19T05:43:20.841894Z",
     "shell.execute_reply": "2021-04-19T05:43:20.842394Z"
    },
    "papermill": {
     "duration": 0.133797,
     "end_time": "2021-04-19T05:43:20.842565",
     "exception": false,
     "start_time": "2021-04-19T05:43:20.708768",
     "status": "completed"
    },
    "tags": []
   },
   "outputs": [],
   "source": [
    "# CODE HERE"
   ]
  },
  {
   "cell_type": "code",
   "execution_count": null,
   "id": "mysterious-clearance",
   "metadata": {
    "papermill": {
     "duration": 0.128266,
     "end_time": "2021-04-19T05:43:21.099385",
     "exception": false,
     "start_time": "2021-04-19T05:43:20.971119",
     "status": "completed"
    },
    "tags": []
   },
   "outputs": [],
   "source": []
  },
  {
   "cell_type": "code",
   "execution_count": null,
   "id": "lesbian-tiger",
   "metadata": {
    "papermill": {
     "duration": 0.128596,
     "end_time": "2021-04-19T05:43:21.356704",
     "exception": false,
     "start_time": "2021-04-19T05:43:21.228108",
     "status": "completed"
    },
    "tags": []
   },
   "outputs": [],
   "source": []
  },
  {
   "cell_type": "code",
   "execution_count": null,
   "id": "associate-coffee",
   "metadata": {
    "papermill": {
     "duration": 0.127478,
     "end_time": "2021-04-19T05:43:21.612120",
     "exception": false,
     "start_time": "2021-04-19T05:43:21.484642",
     "status": "completed"
    },
    "tags": []
   },
   "outputs": [],
   "source": []
  },
  {
   "cell_type": "markdown",
   "id": "meaningful-inventory",
   "metadata": {
    "papermill": {
     "duration": 0.127926,
     "end_time": "2021-04-19T05:43:21.869271",
     "exception": false,
     "start_time": "2021-04-19T05:43:21.741345",
     "status": "completed"
    },
    "tags": []
   },
   "source": [
    "**TASK: Create a boxplot showing the relationship between the loan_status and the Loan Amount.**"
   ]
  },
  {
   "cell_type": "code",
   "execution_count": 14,
   "id": "charitable-villa",
   "metadata": {
    "execution": {
     "iopub.execute_input": "2021-04-19T05:43:22.133332Z",
     "iopub.status.busy": "2021-04-19T05:43:22.132348Z",
     "iopub.status.idle": "2021-04-19T05:43:22.135716Z",
     "shell.execute_reply": "2021-04-19T05:43:22.135059Z"
    },
    "papermill": {
     "duration": 0.136241,
     "end_time": "2021-04-19T05:43:22.135864",
     "exception": false,
     "start_time": "2021-04-19T05:43:21.999623",
     "status": "completed"
    },
    "tags": []
   },
   "outputs": [],
   "source": [
    "# CODE HERE"
   ]
  },
  {
   "cell_type": "code",
   "execution_count": null,
   "id": "nasty-norway",
   "metadata": {
    "papermill": {
     "duration": 0.127995,
     "end_time": "2021-04-19T05:43:22.392168",
     "exception": false,
     "start_time": "2021-04-19T05:43:22.264173",
     "status": "completed"
    },
    "tags": []
   },
   "outputs": [],
   "source": []
  },
  {
   "cell_type": "markdown",
   "id": "liked-psychology",
   "metadata": {
    "papermill": {
     "duration": 0.127323,
     "end_time": "2021-04-19T05:43:22.647624",
     "exception": false,
     "start_time": "2021-04-19T05:43:22.520301",
     "status": "completed"
    },
    "tags": []
   },
   "source": [
    "**TASK: Calculate the summary statistics for the loan amount, grouped by the loan_status.**"
   ]
  },
  {
   "cell_type": "code",
   "execution_count": 15,
   "id": "experimental-carnival",
   "metadata": {
    "execution": {
     "iopub.execute_input": "2021-04-19T05:43:22.935987Z",
     "iopub.status.busy": "2021-04-19T05:43:22.934985Z",
     "iopub.status.idle": "2021-04-19T05:43:22.938531Z",
     "shell.execute_reply": "2021-04-19T05:43:22.939042Z"
    },
    "papermill": {
     "duration": 0.137075,
     "end_time": "2021-04-19T05:43:22.939201",
     "exception": false,
     "start_time": "2021-04-19T05:43:22.802126",
     "status": "completed"
    },
    "tags": []
   },
   "outputs": [],
   "source": [
    "# CODE HERE"
   ]
  },
  {
   "cell_type": "code",
   "execution_count": null,
   "id": "timely-wealth",
   "metadata": {
    "papermill": {
     "duration": 0.129564,
     "end_time": "2021-04-19T05:43:23.198098",
     "exception": false,
     "start_time": "2021-04-19T05:43:23.068534",
     "status": "completed"
    },
    "tags": []
   },
   "outputs": [],
   "source": []
  },
  {
   "cell_type": "markdown",
   "id": "exceptional-sequence",
   "metadata": {
    "papermill": {
     "duration": 0.1276,
     "end_time": "2021-04-19T05:43:23.454309",
     "exception": false,
     "start_time": "2021-04-19T05:43:23.326709",
     "status": "completed"
    },
    "tags": []
   },
   "source": [
    "**TASK: Let's explore the Grade and SubGrade columns that LendingClub attributes to the loans. What are the unique possible grades and subgrades?**"
   ]
  },
  {
   "cell_type": "code",
   "execution_count": 16,
   "id": "afraid-grave",
   "metadata": {
    "execution": {
     "iopub.execute_input": "2021-04-19T05:43:23.714527Z",
     "iopub.status.busy": "2021-04-19T05:43:23.713589Z",
     "iopub.status.idle": "2021-04-19T05:43:23.717167Z",
     "shell.execute_reply": "2021-04-19T05:43:23.717754Z"
    },
    "papermill": {
     "duration": 0.135191,
     "end_time": "2021-04-19T05:43:23.717923",
     "exception": false,
     "start_time": "2021-04-19T05:43:23.582732",
     "status": "completed"
    },
    "tags": []
   },
   "outputs": [],
   "source": [
    "# CODE HERE"
   ]
  },
  {
   "cell_type": "code",
   "execution_count": null,
   "id": "western-optics",
   "metadata": {
    "papermill": {
     "duration": 0.130937,
     "end_time": "2021-04-19T05:43:23.978655",
     "exception": false,
     "start_time": "2021-04-19T05:43:23.847718",
     "status": "completed"
    },
    "tags": []
   },
   "outputs": [],
   "source": []
  },
  {
   "cell_type": "code",
   "execution_count": null,
   "id": "taken-gambling",
   "metadata": {
    "papermill": {
     "duration": 0.1281,
     "end_time": "2021-04-19T05:43:24.235113",
     "exception": false,
     "start_time": "2021-04-19T05:43:24.107013",
     "status": "completed"
    },
    "tags": []
   },
   "outputs": [],
   "source": []
  },
  {
   "cell_type": "markdown",
   "id": "oriental-austin",
   "metadata": {
    "papermill": {
     "duration": 0.127664,
     "end_time": "2021-04-19T05:43:24.491117",
     "exception": false,
     "start_time": "2021-04-19T05:43:24.363453",
     "status": "completed"
    },
    "tags": []
   },
   "source": [
    "**TASK: Create a countplot per grade. Set the hue to the loan_status label.**"
   ]
  },
  {
   "cell_type": "code",
   "execution_count": 17,
   "id": "decreased-millennium",
   "metadata": {
    "execution": {
     "iopub.execute_input": "2021-04-19T05:43:24.752039Z",
     "iopub.status.busy": "2021-04-19T05:43:24.751143Z",
     "iopub.status.idle": "2021-04-19T05:43:24.754588Z",
     "shell.execute_reply": "2021-04-19T05:43:24.755080Z"
    },
    "papermill": {
     "duration": 0.135155,
     "end_time": "2021-04-19T05:43:24.755245",
     "exception": false,
     "start_time": "2021-04-19T05:43:24.620090",
     "status": "completed"
    },
    "tags": []
   },
   "outputs": [],
   "source": [
    "# CODE HERE"
   ]
  },
  {
   "cell_type": "code",
   "execution_count": null,
   "id": "adequate-tragedy",
   "metadata": {
    "papermill": {
     "duration": 0.130674,
     "end_time": "2021-04-19T05:43:25.015542",
     "exception": false,
     "start_time": "2021-04-19T05:43:24.884868",
     "status": "completed"
    },
    "tags": []
   },
   "outputs": [],
   "source": []
  },
  {
   "cell_type": "markdown",
   "id": "renewable-peeing",
   "metadata": {
    "papermill": {
     "duration": 0.127916,
     "end_time": "2021-04-19T05:43:25.273063",
     "exception": false,
     "start_time": "2021-04-19T05:43:25.145147",
     "status": "completed"
    },
    "tags": []
   },
   "source": [
    "**TASK: Display a count plot per subgrade. You may need to resize for this plot and [reorder](https://seaborn.pydata.org/generated/seaborn.countplot.html#seaborn.countplot) the x axis. Feel free to edit the color palette. Explore both all loans made per subgrade as well being separated based on the loan_status. After creating this plot, go ahead and create a similar plot, but set hue=\"loan_status\"**"
   ]
  },
  {
   "cell_type": "code",
   "execution_count": 18,
   "id": "measured-single",
   "metadata": {
    "execution": {
     "iopub.execute_input": "2021-04-19T05:43:25.533249Z",
     "iopub.status.busy": "2021-04-19T05:43:25.532602Z",
     "iopub.status.idle": "2021-04-19T05:43:25.535476Z",
     "shell.execute_reply": "2021-04-19T05:43:25.535988Z"
    },
    "papermill": {
     "duration": 0.13514,
     "end_time": "2021-04-19T05:43:25.536160",
     "exception": false,
     "start_time": "2021-04-19T05:43:25.401020",
     "status": "completed"
    },
    "tags": []
   },
   "outputs": [],
   "source": [
    "#CODE HERE"
   ]
  },
  {
   "cell_type": "code",
   "execution_count": null,
   "id": "swiss-decrease",
   "metadata": {
    "papermill": {
     "duration": 0.128238,
     "end_time": "2021-04-19T05:43:25.793111",
     "exception": false,
     "start_time": "2021-04-19T05:43:25.664873",
     "status": "completed"
    },
    "tags": []
   },
   "outputs": [],
   "source": []
  },
  {
   "cell_type": "code",
   "execution_count": 19,
   "id": "colonial-riverside",
   "metadata": {
    "execution": {
     "iopub.execute_input": "2021-04-19T05:43:26.060210Z",
     "iopub.status.busy": "2021-04-19T05:43:26.059281Z",
     "iopub.status.idle": "2021-04-19T05:43:26.061699Z",
     "shell.execute_reply": "2021-04-19T05:43:26.062156Z"
    },
    "papermill": {
     "duration": 0.138599,
     "end_time": "2021-04-19T05:43:26.062327",
     "exception": false,
     "start_time": "2021-04-19T05:43:25.923728",
     "status": "completed"
    },
    "tags": []
   },
   "outputs": [],
   "source": [
    "# CODE HERE"
   ]
  },
  {
   "cell_type": "code",
   "execution_count": null,
   "id": "inclusive-steal",
   "metadata": {
    "papermill": {
     "duration": 0.128126,
     "end_time": "2021-04-19T05:43:26.319100",
     "exception": false,
     "start_time": "2021-04-19T05:43:26.190974",
     "status": "completed"
    },
    "tags": []
   },
   "outputs": [],
   "source": []
  },
  {
   "cell_type": "markdown",
   "id": "medical-bonus",
   "metadata": {
    "papermill": {
     "duration": 0.127955,
     "end_time": "2021-04-19T05:43:26.576451",
     "exception": false,
     "start_time": "2021-04-19T05:43:26.448496",
     "status": "completed"
    },
    "tags": []
   },
   "source": [
    "**TASK: It looks like F and G subgrades don't get paid back that often. Isloate those and recreate the countplot just for those subgrades.**"
   ]
  },
  {
   "cell_type": "code",
   "execution_count": 20,
   "id": "collective-teacher",
   "metadata": {
    "execution": {
     "iopub.execute_input": "2021-04-19T05:43:26.885862Z",
     "iopub.status.busy": "2021-04-19T05:43:26.885183Z",
     "iopub.status.idle": "2021-04-19T05:43:26.888308Z",
     "shell.execute_reply": "2021-04-19T05:43:26.888764Z"
    },
    "papermill": {
     "duration": 0.135829,
     "end_time": "2021-04-19T05:43:26.889000",
     "exception": false,
     "start_time": "2021-04-19T05:43:26.753171",
     "status": "completed"
    },
    "tags": []
   },
   "outputs": [],
   "source": [
    "# CODE HERE"
   ]
  },
  {
   "cell_type": "code",
   "execution_count": null,
   "id": "valuable-valuable",
   "metadata": {
    "papermill": {
     "duration": 0.12903,
     "end_time": "2021-04-19T05:43:27.148497",
     "exception": false,
     "start_time": "2021-04-19T05:43:27.019467",
     "status": "completed"
    },
    "tags": []
   },
   "outputs": [],
   "source": []
  },
  {
   "cell_type": "markdown",
   "id": "filled-going",
   "metadata": {
    "papermill": {
     "duration": 0.128476,
     "end_time": "2021-04-19T05:43:27.405912",
     "exception": false,
     "start_time": "2021-04-19T05:43:27.277436",
     "status": "completed"
    },
    "tags": []
   },
   "source": [
    "**TASK: Create a new column called 'loan_repaid' which will contain a 1 if the loan status was \"Fully Paid\" and a 0 if it was \"Charged Off\".**"
   ]
  },
  {
   "cell_type": "code",
   "execution_count": 21,
   "id": "hearing-portsmouth",
   "metadata": {
    "execution": {
     "iopub.execute_input": "2021-04-19T05:43:27.667522Z",
     "iopub.status.busy": "2021-04-19T05:43:27.666880Z",
     "iopub.status.idle": "2021-04-19T05:43:27.669767Z",
     "shell.execute_reply": "2021-04-19T05:43:27.670211Z"
    },
    "papermill": {
     "duration": 0.135713,
     "end_time": "2021-04-19T05:43:27.670413",
     "exception": false,
     "start_time": "2021-04-19T05:43:27.534700",
     "status": "completed"
    },
    "tags": []
   },
   "outputs": [],
   "source": [
    "# CODE HERE"
   ]
  },
  {
   "cell_type": "code",
   "execution_count": null,
   "id": "supported-crossing",
   "metadata": {
    "papermill": {
     "duration": 0.129992,
     "end_time": "2021-04-19T05:43:27.930033",
     "exception": false,
     "start_time": "2021-04-19T05:43:27.800041",
     "status": "completed"
    },
    "tags": []
   },
   "outputs": [],
   "source": []
  },
  {
   "cell_type": "code",
   "execution_count": null,
   "id": "fifth-serial",
   "metadata": {
    "papermill": {
     "duration": 0.129421,
     "end_time": "2021-04-19T05:43:28.191113",
     "exception": false,
     "start_time": "2021-04-19T05:43:28.061692",
     "status": "completed"
    },
    "tags": []
   },
   "outputs": [],
   "source": []
  },
  {
   "cell_type": "code",
   "execution_count": null,
   "id": "celtic-general",
   "metadata": {
    "papermill": {
     "duration": 0.129806,
     "end_time": "2021-04-19T05:43:28.449198",
     "exception": false,
     "start_time": "2021-04-19T05:43:28.319392",
     "status": "completed"
    },
    "tags": []
   },
   "outputs": [],
   "source": []
  },
  {
   "cell_type": "markdown",
   "id": "matched-canyon",
   "metadata": {
    "papermill": {
     "duration": 0.128458,
     "end_time": "2021-04-19T05:43:28.706773",
     "exception": false,
     "start_time": "2021-04-19T05:43:28.578315",
     "status": "completed"
    },
    "tags": []
   },
   "source": [
    "**CHALLENGE TASK: (Note this is hard, but can be done in one line!) Create a bar plot showing the correlation of the numeric features to the new loan_repaid column. [Helpful Link](https://pandas.pydata.org/pandas-docs/stable/reference/api/pandas.DataFrame.plot.bar.html)**"
   ]
  },
  {
   "cell_type": "code",
   "execution_count": 22,
   "id": "minus-puzzle",
   "metadata": {
    "execution": {
     "iopub.execute_input": "2021-04-19T05:43:28.973157Z",
     "iopub.status.busy": "2021-04-19T05:43:28.972468Z",
     "iopub.status.idle": "2021-04-19T05:43:28.975755Z",
     "shell.execute_reply": "2021-04-19T05:43:28.976198Z"
    },
    "papermill": {
     "duration": 0.139905,
     "end_time": "2021-04-19T05:43:28.976361",
     "exception": false,
     "start_time": "2021-04-19T05:43:28.836456",
     "status": "completed"
    },
    "tags": []
   },
   "outputs": [],
   "source": [
    "#CODE HERE"
   ]
  },
  {
   "cell_type": "code",
   "execution_count": null,
   "id": "arctic-external",
   "metadata": {
    "papermill": {
     "duration": 0.131223,
     "end_time": "2021-04-19T05:43:29.238189",
     "exception": false,
     "start_time": "2021-04-19T05:43:29.106966",
     "status": "completed"
    },
    "tags": []
   },
   "outputs": [],
   "source": []
  },
  {
   "cell_type": "markdown",
   "id": "differential-receipt",
   "metadata": {
    "papermill": {
     "duration": 0.129094,
     "end_time": "2021-04-19T05:43:29.496842",
     "exception": false,
     "start_time": "2021-04-19T05:43:29.367748",
     "status": "completed"
    },
    "tags": []
   },
   "source": [
    "---\n",
    "---\n",
    "# Section 2: Data PreProcessing\n",
    "\n",
    "**Section Goals: Remove or fill any missing data. Remove unnecessary or repetitive features. Convert categorical string features to dummy variables.**\n",
    "\n"
   ]
  },
  {
   "cell_type": "code",
   "execution_count": null,
   "id": "derived-hanging",
   "metadata": {
    "papermill": {
     "duration": 0.135047,
     "end_time": "2021-04-19T05:43:29.761363",
     "exception": false,
     "start_time": "2021-04-19T05:43:29.626316",
     "status": "completed"
    },
    "tags": []
   },
   "outputs": [],
   "source": []
  },
  {
   "cell_type": "markdown",
   "id": "neutral-universal",
   "metadata": {
    "papermill": {
     "duration": 0.132039,
     "end_time": "2021-04-19T05:43:30.022370",
     "exception": false,
     "start_time": "2021-04-19T05:43:29.890331",
     "status": "completed"
    },
    "tags": []
   },
   "source": [
    "# Missing Data\n",
    "\n",
    "**Let's explore this missing data columns. We use a variety of factors to decide whether or not they would be useful, to see if we should keep, discard, or fill in the missing data.**"
   ]
  },
  {
   "cell_type": "markdown",
   "id": "nearby-storm",
   "metadata": {
    "papermill": {
     "duration": 0.128934,
     "end_time": "2021-04-19T05:43:30.281329",
     "exception": false,
     "start_time": "2021-04-19T05:43:30.152395",
     "status": "completed"
    },
    "tags": []
   },
   "source": [
    "**TASK: What is the length of the dataframe?**"
   ]
  },
  {
   "cell_type": "code",
   "execution_count": 23,
   "id": "attached-tomato",
   "metadata": {
    "execution": {
     "iopub.execute_input": "2021-04-19T05:43:30.542954Z",
     "iopub.status.busy": "2021-04-19T05:43:30.542311Z",
     "iopub.status.idle": "2021-04-19T05:43:30.545464Z",
     "shell.execute_reply": "2021-04-19T05:43:30.545983Z"
    },
    "papermill": {
     "duration": 0.135614,
     "end_time": "2021-04-19T05:43:30.546148",
     "exception": false,
     "start_time": "2021-04-19T05:43:30.410534",
     "status": "completed"
    },
    "tags": []
   },
   "outputs": [],
   "source": [
    "# CODE HERE"
   ]
  },
  {
   "cell_type": "code",
   "execution_count": null,
   "id": "through-control",
   "metadata": {
    "papermill": {
     "duration": 0.129828,
     "end_time": "2021-04-19T05:43:30.805317",
     "exception": false,
     "start_time": "2021-04-19T05:43:30.675489",
     "status": "completed"
    },
    "tags": []
   },
   "outputs": [],
   "source": []
  },
  {
   "cell_type": "markdown",
   "id": "modern-symbol",
   "metadata": {
    "papermill": {
     "duration": 0.131514,
     "end_time": "2021-04-19T05:43:31.066807",
     "exception": false,
     "start_time": "2021-04-19T05:43:30.935293",
     "status": "completed"
    },
    "tags": []
   },
   "source": [
    "**TASK: Create a Series that displays the total count of missing values per column.**"
   ]
  },
  {
   "cell_type": "code",
   "execution_count": 24,
   "id": "corporate-singles",
   "metadata": {
    "execution": {
     "iopub.execute_input": "2021-04-19T05:43:31.329198Z",
     "iopub.status.busy": "2021-04-19T05:43:31.328572Z",
     "iopub.status.idle": "2021-04-19T05:43:31.331587Z",
     "shell.execute_reply": "2021-04-19T05:43:31.332241Z"
    },
    "papermill": {
     "duration": 0.135976,
     "end_time": "2021-04-19T05:43:31.332417",
     "exception": false,
     "start_time": "2021-04-19T05:43:31.196441",
     "status": "completed"
    },
    "tags": []
   },
   "outputs": [],
   "source": [
    "# CODE HERE"
   ]
  },
  {
   "cell_type": "code",
   "execution_count": null,
   "id": "willing-rachel",
   "metadata": {
    "papermill": {
     "duration": 0.129035,
     "end_time": "2021-04-19T05:43:31.591423",
     "exception": false,
     "start_time": "2021-04-19T05:43:31.462388",
     "status": "completed"
    },
    "tags": []
   },
   "outputs": [],
   "source": []
  },
  {
   "cell_type": "markdown",
   "id": "unnecessary-placement",
   "metadata": {
    "papermill": {
     "duration": 0.128967,
     "end_time": "2021-04-19T05:43:31.849434",
     "exception": false,
     "start_time": "2021-04-19T05:43:31.720467",
     "status": "completed"
    },
    "tags": []
   },
   "source": [
    "**TASK: Convert this Series to be in term of percentage of the total DataFrame**"
   ]
  },
  {
   "cell_type": "code",
   "execution_count": 25,
   "id": "united-coordinator",
   "metadata": {
    "execution": {
     "iopub.execute_input": "2021-04-19T05:43:32.113807Z",
     "iopub.status.busy": "2021-04-19T05:43:32.113048Z",
     "iopub.status.idle": "2021-04-19T05:43:32.116877Z",
     "shell.execute_reply": "2021-04-19T05:43:32.116331Z"
    },
    "papermill": {
     "duration": 0.137288,
     "end_time": "2021-04-19T05:43:32.117010",
     "exception": false,
     "start_time": "2021-04-19T05:43:31.979722",
     "status": "completed"
    },
    "tags": []
   },
   "outputs": [],
   "source": [
    "# CODE HERE"
   ]
  },
  {
   "cell_type": "code",
   "execution_count": null,
   "id": "sophisticated-pepper",
   "metadata": {
    "papermill": {
     "duration": 0.128915,
     "end_time": "2021-04-19T05:43:32.376009",
     "exception": false,
     "start_time": "2021-04-19T05:43:32.247094",
     "status": "completed"
    },
    "tags": []
   },
   "outputs": [],
   "source": []
  },
  {
   "cell_type": "markdown",
   "id": "preliminary-representative",
   "metadata": {
    "papermill": {
     "duration": 0.12985,
     "end_time": "2021-04-19T05:43:32.635689",
     "exception": false,
     "start_time": "2021-04-19T05:43:32.505839",
     "status": "completed"
    },
    "tags": []
   },
   "source": [
    "**TASK: Let's examine emp_title and emp_length to see whether it will be okay to drop them. Print out their feature information using the feat_info() function from the top of this notebook.**"
   ]
  },
  {
   "cell_type": "code",
   "execution_count": 26,
   "id": "mysterious-relation",
   "metadata": {
    "execution": {
     "iopub.execute_input": "2021-04-19T05:43:32.899726Z",
     "iopub.status.busy": "2021-04-19T05:43:32.899058Z",
     "iopub.status.idle": "2021-04-19T05:43:32.902226Z",
     "shell.execute_reply": "2021-04-19T05:43:32.902725Z"
    },
    "papermill": {
     "duration": 0.136099,
     "end_time": "2021-04-19T05:43:32.902898",
     "exception": false,
     "start_time": "2021-04-19T05:43:32.766799",
     "status": "completed"
    },
    "tags": []
   },
   "outputs": [],
   "source": [
    "# CODE HERE"
   ]
  },
  {
   "cell_type": "code",
   "execution_count": null,
   "id": "preliminary-mystery",
   "metadata": {
    "papermill": {
     "duration": 0.133394,
     "end_time": "2021-04-19T05:43:33.167353",
     "exception": false,
     "start_time": "2021-04-19T05:43:33.033959",
     "status": "completed"
    },
    "tags": []
   },
   "outputs": [],
   "source": []
  },
  {
   "cell_type": "markdown",
   "id": "tutorial-friendly",
   "metadata": {
    "papermill": {
     "duration": 0.129929,
     "end_time": "2021-04-19T05:43:33.428160",
     "exception": false,
     "start_time": "2021-04-19T05:43:33.298231",
     "status": "completed"
    },
    "tags": []
   },
   "source": [
    "**TASK: How many unique employment job titles are there?**"
   ]
  },
  {
   "cell_type": "code",
   "execution_count": 27,
   "id": "verbal-recruitment",
   "metadata": {
    "execution": {
     "iopub.execute_input": "2021-04-19T05:43:33.695715Z",
     "iopub.status.busy": "2021-04-19T05:43:33.694757Z",
     "iopub.status.idle": "2021-04-19T05:43:33.698719Z",
     "shell.execute_reply": "2021-04-19T05:43:33.697915Z"
    },
    "papermill": {
     "duration": 0.139904,
     "end_time": "2021-04-19T05:43:33.698917",
     "exception": false,
     "start_time": "2021-04-19T05:43:33.559013",
     "status": "completed"
    },
    "tags": []
   },
   "outputs": [],
   "source": [
    "# CODE HERE"
   ]
  },
  {
   "cell_type": "code",
   "execution_count": null,
   "id": "trying-halifax",
   "metadata": {
    "papermill": {
     "duration": 0.130649,
     "end_time": "2021-04-19T05:43:33.984789",
     "exception": false,
     "start_time": "2021-04-19T05:43:33.854140",
     "status": "completed"
    },
    "tags": []
   },
   "outputs": [],
   "source": []
  },
  {
   "cell_type": "code",
   "execution_count": null,
   "id": "informational-ribbon",
   "metadata": {
    "papermill": {
     "duration": 0.130774,
     "end_time": "2021-04-19T05:43:34.246312",
     "exception": false,
     "start_time": "2021-04-19T05:43:34.115538",
     "status": "completed"
    },
    "tags": []
   },
   "outputs": [],
   "source": []
  },
  {
   "cell_type": "markdown",
   "id": "spread-recommendation",
   "metadata": {
    "papermill": {
     "duration": 0.129694,
     "end_time": "2021-04-19T05:43:34.506599",
     "exception": false,
     "start_time": "2021-04-19T05:43:34.376905",
     "status": "completed"
    },
    "tags": []
   },
   "source": [
    "**TASK: Realistically there are too many unique job titles to try to convert this to a dummy variable feature. Let's remove that emp_title column.**"
   ]
  },
  {
   "cell_type": "code",
   "execution_count": 28,
   "id": "freelance-nickname",
   "metadata": {
    "execution": {
     "iopub.execute_input": "2021-04-19T05:43:34.771604Z",
     "iopub.status.busy": "2021-04-19T05:43:34.770918Z",
     "iopub.status.idle": "2021-04-19T05:43:34.774416Z",
     "shell.execute_reply": "2021-04-19T05:43:34.773897Z"
    },
    "papermill": {
     "duration": 0.137265,
     "end_time": "2021-04-19T05:43:34.774580",
     "exception": false,
     "start_time": "2021-04-19T05:43:34.637315",
     "status": "completed"
    },
    "tags": []
   },
   "outputs": [],
   "source": [
    "# CODE HERE"
   ]
  },
  {
   "cell_type": "code",
   "execution_count": null,
   "id": "metallic-stream",
   "metadata": {
    "papermill": {
     "duration": 0.132195,
     "end_time": "2021-04-19T05:43:35.037346",
     "exception": false,
     "start_time": "2021-04-19T05:43:34.905151",
     "status": "completed"
    },
    "tags": []
   },
   "outputs": [],
   "source": []
  },
  {
   "cell_type": "markdown",
   "id": "joined-administration",
   "metadata": {
    "papermill": {
     "duration": 0.129951,
     "end_time": "2021-04-19T05:43:35.298266",
     "exception": false,
     "start_time": "2021-04-19T05:43:35.168315",
     "status": "completed"
    },
    "tags": []
   },
   "source": [
    "**TASK: Create a count plot of the emp_length feature column. Challenge: Sort the order of the values.**"
   ]
  },
  {
   "cell_type": "code",
   "execution_count": 29,
   "id": "specialized-chair",
   "metadata": {
    "execution": {
     "iopub.execute_input": "2021-04-19T05:43:35.563543Z",
     "iopub.status.busy": "2021-04-19T05:43:35.562816Z",
     "iopub.status.idle": "2021-04-19T05:43:35.565607Z",
     "shell.execute_reply": "2021-04-19T05:43:35.566068Z"
    },
    "papermill": {
     "duration": 0.137537,
     "end_time": "2021-04-19T05:43:35.566233",
     "exception": false,
     "start_time": "2021-04-19T05:43:35.428696",
     "status": "completed"
    },
    "tags": []
   },
   "outputs": [],
   "source": [
    "# CODE HERE"
   ]
  },
  {
   "cell_type": "code",
   "execution_count": null,
   "id": "written-narrow",
   "metadata": {
    "papermill": {
     "duration": 0.132442,
     "end_time": "2021-04-19T05:43:35.828381",
     "exception": false,
     "start_time": "2021-04-19T05:43:35.695939",
     "status": "completed"
    },
    "tags": []
   },
   "outputs": [],
   "source": []
  },
  {
   "cell_type": "code",
   "execution_count": null,
   "id": "mechanical-sheep",
   "metadata": {
    "papermill": {
     "duration": 0.132775,
     "end_time": "2021-04-19T05:43:36.092655",
     "exception": false,
     "start_time": "2021-04-19T05:43:35.959880",
     "status": "completed"
    },
    "tags": []
   },
   "outputs": [],
   "source": []
  },
  {
   "cell_type": "code",
   "execution_count": null,
   "id": "executive-business",
   "metadata": {
    "papermill": {
     "duration": 0.129899,
     "end_time": "2021-04-19T05:43:36.352817",
     "exception": false,
     "start_time": "2021-04-19T05:43:36.222918",
     "status": "completed"
    },
    "tags": []
   },
   "outputs": [],
   "source": []
  },
  {
   "cell_type": "markdown",
   "id": "prospective-photograph",
   "metadata": {
    "papermill": {
     "duration": 0.130973,
     "end_time": "2021-04-19T05:43:36.614895",
     "exception": false,
     "start_time": "2021-04-19T05:43:36.483922",
     "status": "completed"
    },
    "tags": []
   },
   "source": [
    "**TASK: Plot out the countplot with a hue separating Fully Paid vs Charged Off**"
   ]
  },
  {
   "cell_type": "code",
   "execution_count": 30,
   "id": "searching-velvet",
   "metadata": {
    "execution": {
     "iopub.execute_input": "2021-04-19T05:43:36.881232Z",
     "iopub.status.busy": "2021-04-19T05:43:36.880578Z",
     "iopub.status.idle": "2021-04-19T05:43:36.883710Z",
     "shell.execute_reply": "2021-04-19T05:43:36.884233Z"
    },
    "papermill": {
     "duration": 0.138811,
     "end_time": "2021-04-19T05:43:36.884406",
     "exception": false,
     "start_time": "2021-04-19T05:43:36.745595",
     "status": "completed"
    },
    "tags": []
   },
   "outputs": [],
   "source": [
    "# CODE HERE"
   ]
  },
  {
   "cell_type": "code",
   "execution_count": null,
   "id": "documentary-barrier",
   "metadata": {
    "papermill": {
     "duration": 0.131231,
     "end_time": "2021-04-19T05:43:37.148235",
     "exception": false,
     "start_time": "2021-04-19T05:43:37.017004",
     "status": "completed"
    },
    "tags": []
   },
   "outputs": [],
   "source": []
  },
  {
   "cell_type": "markdown",
   "id": "reported-sweden",
   "metadata": {
    "papermill": {
     "duration": 0.129664,
     "end_time": "2021-04-19T05:43:37.408345",
     "exception": false,
     "start_time": "2021-04-19T05:43:37.278681",
     "status": "completed"
    },
    "tags": []
   },
   "source": [
    "**CHALLENGE TASK: This still doesn't really inform us if there is a strong relationship between employment length and being charged off, what we want is the percentage of charge offs per category. Essentially informing us what percent of people per employment category didn't pay back their loan. There are a multitude of ways to create this Series. Once you've created it, see if visualize it with a [bar plot](https://pandas.pydata.org/pandas-docs/version/0.23.4/generated/pandas.DataFrame.plot.html). This may be tricky, refer to solutions if you get stuck on creating this Series.**"
   ]
  },
  {
   "cell_type": "code",
   "execution_count": 31,
   "id": "surgical-lighting",
   "metadata": {
    "execution": {
     "iopub.execute_input": "2021-04-19T05:43:37.671282Z",
     "iopub.status.busy": "2021-04-19T05:43:37.670679Z",
     "iopub.status.idle": "2021-04-19T05:43:37.673753Z",
     "shell.execute_reply": "2021-04-19T05:43:37.674264Z"
    },
    "papermill": {
     "duration": 0.136564,
     "end_time": "2021-04-19T05:43:37.674436",
     "exception": false,
     "start_time": "2021-04-19T05:43:37.537872",
     "status": "completed"
    },
    "tags": []
   },
   "outputs": [],
   "source": [
    "# CODE HERE"
   ]
  },
  {
   "cell_type": "code",
   "execution_count": null,
   "id": "outdoor-technology",
   "metadata": {
    "papermill": {
     "duration": 0.132082,
     "end_time": "2021-04-19T05:43:37.938049",
     "exception": false,
     "start_time": "2021-04-19T05:43:37.805967",
     "status": "completed"
    },
    "tags": []
   },
   "outputs": [],
   "source": []
  },
  {
   "cell_type": "code",
   "execution_count": null,
   "id": "overhead-smoke",
   "metadata": {
    "papermill": {
     "duration": 0.130129,
     "end_time": "2021-04-19T05:43:38.200535",
     "exception": false,
     "start_time": "2021-04-19T05:43:38.070406",
     "status": "completed"
    },
    "tags": []
   },
   "outputs": [],
   "source": []
  },
  {
   "cell_type": "code",
   "execution_count": null,
   "id": "progressive-silly",
   "metadata": {
    "papermill": {
     "duration": 0.130289,
     "end_time": "2021-04-19T05:43:38.460330",
     "exception": false,
     "start_time": "2021-04-19T05:43:38.330041",
     "status": "completed"
    },
    "tags": []
   },
   "outputs": [],
   "source": []
  },
  {
   "cell_type": "code",
   "execution_count": null,
   "id": "trained-default",
   "metadata": {
    "papermill": {
     "duration": 0.129398,
     "end_time": "2021-04-19T05:43:38.719349",
     "exception": false,
     "start_time": "2021-04-19T05:43:38.589951",
     "status": "completed"
    },
    "tags": []
   },
   "outputs": [],
   "source": []
  },
  {
   "cell_type": "code",
   "execution_count": null,
   "id": "sought-runner",
   "metadata": {
    "papermill": {
     "duration": 0.129935,
     "end_time": "2021-04-19T05:43:38.978952",
     "exception": false,
     "start_time": "2021-04-19T05:43:38.849017",
     "status": "completed"
    },
    "tags": []
   },
   "outputs": [],
   "source": []
  },
  {
   "cell_type": "markdown",
   "id": "pregnant-material",
   "metadata": {
    "papermill": {
     "duration": 0.132245,
     "end_time": "2021-04-19T05:43:39.243356",
     "exception": false,
     "start_time": "2021-04-19T05:43:39.111111",
     "status": "completed"
    },
    "tags": []
   },
   "source": [
    "**TASK: Charge off rates are extremely similar across all employment lengths. Go ahead and drop the emp_length column.**"
   ]
  },
  {
   "cell_type": "code",
   "execution_count": 32,
   "id": "cooperative-measurement",
   "metadata": {
    "execution": {
     "iopub.execute_input": "2021-04-19T05:43:39.547539Z",
     "iopub.status.busy": "2021-04-19T05:43:39.546849Z",
     "iopub.status.idle": "2021-04-19T05:43:39.550742Z",
     "shell.execute_reply": "2021-04-19T05:43:39.550243Z"
    },
    "papermill": {
     "duration": 0.136299,
     "end_time": "2021-04-19T05:43:39.550952",
     "exception": false,
     "start_time": "2021-04-19T05:43:39.414653",
     "status": "completed"
    },
    "tags": []
   },
   "outputs": [],
   "source": [
    "# CODE HERE"
   ]
  },
  {
   "cell_type": "code",
   "execution_count": null,
   "id": "average-proposal",
   "metadata": {
    "papermill": {
     "duration": 0.134729,
     "end_time": "2021-04-19T05:43:39.815580",
     "exception": false,
     "start_time": "2021-04-19T05:43:39.680851",
     "status": "completed"
    },
    "tags": []
   },
   "outputs": [],
   "source": []
  },
  {
   "cell_type": "markdown",
   "id": "continuous-kingston",
   "metadata": {
    "papermill": {
     "duration": 0.131592,
     "end_time": "2021-04-19T05:43:40.077721",
     "exception": false,
     "start_time": "2021-04-19T05:43:39.946129",
     "status": "completed"
    },
    "tags": []
   },
   "source": [
    "**TASK: Revisit the DataFrame to see what feature columns still have missing data.**"
   ]
  },
  {
   "cell_type": "code",
   "execution_count": null,
   "id": "comparative-spokesman",
   "metadata": {
    "papermill": {
     "duration": 0.129823,
     "end_time": "2021-04-19T05:43:40.337667",
     "exception": false,
     "start_time": "2021-04-19T05:43:40.207844",
     "status": "completed"
    },
    "tags": []
   },
   "outputs": [],
   "source": []
  },
  {
   "cell_type": "code",
   "execution_count": null,
   "id": "specific-grave",
   "metadata": {
    "papermill": {
     "duration": 0.129555,
     "end_time": "2021-04-19T05:43:40.597257",
     "exception": false,
     "start_time": "2021-04-19T05:43:40.467702",
     "status": "completed"
    },
    "tags": []
   },
   "outputs": [],
   "source": []
  },
  {
   "cell_type": "markdown",
   "id": "central-feature",
   "metadata": {
    "papermill": {
     "duration": 0.129631,
     "end_time": "2021-04-19T05:43:40.857208",
     "exception": false,
     "start_time": "2021-04-19T05:43:40.727577",
     "status": "completed"
    },
    "tags": []
   },
   "source": [
    "**TASK: Review the title column vs the purpose column. Is this repeated information?**"
   ]
  },
  {
   "cell_type": "code",
   "execution_count": 33,
   "id": "lined-favor",
   "metadata": {
    "execution": {
     "iopub.execute_input": "2021-04-19T05:43:41.123705Z",
     "iopub.status.busy": "2021-04-19T05:43:41.122984Z",
     "iopub.status.idle": "2021-04-19T05:43:41.125905Z",
     "shell.execute_reply": "2021-04-19T05:43:41.125336Z"
    },
    "papermill": {
     "duration": 0.13889,
     "end_time": "2021-04-19T05:43:41.126048",
     "exception": false,
     "start_time": "2021-04-19T05:43:40.987158",
     "status": "completed"
    },
    "tags": []
   },
   "outputs": [],
   "source": [
    "# CODE HERE"
   ]
  },
  {
   "cell_type": "code",
   "execution_count": null,
   "id": "tribal-setting",
   "metadata": {
    "papermill": {
     "duration": 0.130057,
     "end_time": "2021-04-19T05:43:41.386700",
     "exception": false,
     "start_time": "2021-04-19T05:43:41.256643",
     "status": "completed"
    },
    "tags": []
   },
   "outputs": [],
   "source": []
  },
  {
   "cell_type": "code",
   "execution_count": 34,
   "id": "interim-negative",
   "metadata": {
    "execution": {
     "iopub.execute_input": "2021-04-19T05:43:41.651836Z",
     "iopub.status.busy": "2021-04-19T05:43:41.651139Z",
     "iopub.status.idle": "2021-04-19T05:43:41.659502Z",
     "shell.execute_reply": "2021-04-19T05:43:41.660042Z"
    },
    "papermill": {
     "duration": 0.141718,
     "end_time": "2021-04-19T05:43:41.660208",
     "exception": false,
     "start_time": "2021-04-19T05:43:41.518490",
     "status": "completed"
    },
    "tags": []
   },
   "outputs": [
    {
     "data": {
      "text/plain": [
       "0                   Vacation\n",
       "1         Debt consolidation\n",
       "2    Credit card refinancing\n",
       "3    Credit card refinancing\n",
       "4      Credit Card Refinance\n",
       "5         Debt consolidation\n",
       "6           Home improvement\n",
       "7       No More Credit Cards\n",
       "8         Debt consolidation\n",
       "9         Debt Consolidation\n",
       "Name: title, dtype: object"
      ]
     },
     "execution_count": 34,
     "metadata": {},
     "output_type": "execute_result"
    }
   ],
   "source": [
    "df['title'].head(10)"
   ]
  },
  {
   "cell_type": "markdown",
   "id": "laden-citizenship",
   "metadata": {
    "papermill": {
     "duration": 0.1312,
     "end_time": "2021-04-19T05:43:41.924471",
     "exception": false,
     "start_time": "2021-04-19T05:43:41.793271",
     "status": "completed"
    },
    "tags": []
   },
   "source": [
    "**TASK: The title column is simply a string subcategory/description of the purpose column. Go ahead and drop the title column.**"
   ]
  },
  {
   "cell_type": "code",
   "execution_count": 35,
   "id": "anticipated-charles",
   "metadata": {
    "execution": {
     "iopub.execute_input": "2021-04-19T05:43:42.195238Z",
     "iopub.status.busy": "2021-04-19T05:43:42.194589Z",
     "iopub.status.idle": "2021-04-19T05:43:42.196489Z",
     "shell.execute_reply": "2021-04-19T05:43:42.197156Z"
    },
    "papermill": {
     "duration": 0.138843,
     "end_time": "2021-04-19T05:43:42.197320",
     "exception": false,
     "start_time": "2021-04-19T05:43:42.058477",
     "status": "completed"
    },
    "tags": []
   },
   "outputs": [],
   "source": [
    "# CODE HERE"
   ]
  },
  {
   "cell_type": "code",
   "execution_count": null,
   "id": "mechanical-chrome",
   "metadata": {
    "papermill": {
     "duration": 0.130578,
     "end_time": "2021-04-19T05:43:42.459190",
     "exception": false,
     "start_time": "2021-04-19T05:43:42.328612",
     "status": "completed"
    },
    "tags": []
   },
   "outputs": [],
   "source": []
  },
  {
   "cell_type": "markdown",
   "id": "pregnant-standard",
   "metadata": {
    "papermill": {
     "duration": 0.130486,
     "end_time": "2021-04-19T05:43:42.720732",
     "exception": false,
     "start_time": "2021-04-19T05:43:42.590246",
     "status": "completed"
    },
    "tags": []
   },
   "source": [
    "---\n",
    "**NOTE: This is one of the hardest parts of the project! Refer to the solutions video if you need guidance, feel free to fill or drop the missing values of the mort_acc however you see fit! Here we're going with a very specific approach.**\n",
    "\n",
    "\n",
    "---\n",
    "**TASK: Find out what the mort_acc feature represents**"
   ]
  },
  {
   "cell_type": "code",
   "execution_count": 36,
   "id": "israeli-constant",
   "metadata": {
    "execution": {
     "iopub.execute_input": "2021-04-19T05:43:42.989034Z",
     "iopub.status.busy": "2021-04-19T05:43:42.988366Z",
     "iopub.status.idle": "2021-04-19T05:43:42.991677Z",
     "shell.execute_reply": "2021-04-19T05:43:42.992164Z"
    },
    "papermill": {
     "duration": 0.140381,
     "end_time": "2021-04-19T05:43:42.992323",
     "exception": false,
     "start_time": "2021-04-19T05:43:42.851942",
     "status": "completed"
    },
    "tags": []
   },
   "outputs": [],
   "source": [
    "# CODE HERE"
   ]
  },
  {
   "cell_type": "code",
   "execution_count": null,
   "id": "friendly-range",
   "metadata": {
    "papermill": {
     "duration": 0.131043,
     "end_time": "2021-04-19T05:43:43.257946",
     "exception": false,
     "start_time": "2021-04-19T05:43:43.126903",
     "status": "completed"
    },
    "tags": []
   },
   "outputs": [],
   "source": []
  },
  {
   "cell_type": "markdown",
   "id": "incident-processing",
   "metadata": {
    "papermill": {
     "duration": 0.13066,
     "end_time": "2021-04-19T05:43:43.520065",
     "exception": false,
     "start_time": "2021-04-19T05:43:43.389405",
     "status": "completed"
    },
    "tags": []
   },
   "source": [
    "**TASK: Create a value_counts of the mort_acc column.**"
   ]
  },
  {
   "cell_type": "code",
   "execution_count": 37,
   "id": "excessive-tower",
   "metadata": {
    "execution": {
     "iopub.execute_input": "2021-04-19T05:43:43.787332Z",
     "iopub.status.busy": "2021-04-19T05:43:43.786699Z",
     "iopub.status.idle": "2021-04-19T05:43:43.791138Z",
     "shell.execute_reply": "2021-04-19T05:43:43.790579Z"
    },
    "papermill": {
     "duration": 0.140161,
     "end_time": "2021-04-19T05:43:43.791272",
     "exception": false,
     "start_time": "2021-04-19T05:43:43.651111",
     "status": "completed"
    },
    "tags": []
   },
   "outputs": [],
   "source": [
    "# CODE HERE"
   ]
  },
  {
   "cell_type": "code",
   "execution_count": null,
   "id": "short-cisco",
   "metadata": {
    "papermill": {
     "duration": 0.131194,
     "end_time": "2021-04-19T05:43:44.055361",
     "exception": false,
     "start_time": "2021-04-19T05:43:43.924167",
     "status": "completed"
    },
    "tags": []
   },
   "outputs": [],
   "source": []
  },
  {
   "cell_type": "markdown",
   "id": "intimate-avatar",
   "metadata": {
    "papermill": {
     "duration": 0.139629,
     "end_time": "2021-04-19T05:43:44.339324",
     "exception": false,
     "start_time": "2021-04-19T05:43:44.199695",
     "status": "completed"
    },
    "tags": []
   },
   "source": [
    "**TASK: There are many ways we could deal with this missing data. We could attempt to build a simple model to fill it in, such as a linear model, we could just fill it in based on the mean of the other columns, or you could even bin the columns into categories and then set NaN as its own category. There is no 100% correct approach! Let's review the other columsn to see which most highly correlates to mort_acc**"
   ]
  },
  {
   "cell_type": "code",
   "execution_count": null,
   "id": "contemporary-candidate",
   "metadata": {
    "papermill": {
     "duration": 0.135164,
     "end_time": "2021-04-19T05:43:44.624177",
     "exception": false,
     "start_time": "2021-04-19T05:43:44.489013",
     "status": "completed"
    },
    "tags": []
   },
   "outputs": [],
   "source": []
  },
  {
   "cell_type": "code",
   "execution_count": null,
   "id": "authentic-electron",
   "metadata": {
    "papermill": {
     "duration": 0.154433,
     "end_time": "2021-04-19T05:43:44.948836",
     "exception": false,
     "start_time": "2021-04-19T05:43:44.794403",
     "status": "completed"
    },
    "tags": []
   },
   "outputs": [],
   "source": []
  },
  {
   "cell_type": "markdown",
   "id": "satisfied-denial",
   "metadata": {
    "papermill": {
     "duration": 0.135747,
     "end_time": "2021-04-19T05:43:45.222928",
     "exception": false,
     "start_time": "2021-04-19T05:43:45.087181",
     "status": "completed"
    },
    "tags": []
   },
   "source": [
    "**TASK: Looks like the total_acc feature correlates with the mort_acc , this makes sense! Let's try this fillna() approach. We will group the dataframe by the total_acc and calculate the mean value for the mort_acc per total_acc entry. To get the result below:**"
   ]
  },
  {
   "cell_type": "code",
   "execution_count": null,
   "id": "ahead-hindu",
   "metadata": {
    "papermill": {
     "duration": 0.135785,
     "end_time": "2021-04-19T05:43:45.494872",
     "exception": false,
     "start_time": "2021-04-19T05:43:45.359087",
     "status": "completed"
    },
    "tags": []
   },
   "outputs": [],
   "source": []
  },
  {
   "cell_type": "code",
   "execution_count": null,
   "id": "falling-crowd",
   "metadata": {
    "papermill": {
     "duration": 0.13186,
     "end_time": "2021-04-19T05:43:45.761271",
     "exception": false,
     "start_time": "2021-04-19T05:43:45.629411",
     "status": "completed"
    },
    "tags": []
   },
   "outputs": [],
   "source": []
  },
  {
   "cell_type": "markdown",
   "id": "raised-string",
   "metadata": {
    "papermill": {
     "duration": 0.132692,
     "end_time": "2021-04-19T05:43:46.025593",
     "exception": false,
     "start_time": "2021-04-19T05:43:45.892901",
     "status": "completed"
    },
    "tags": []
   },
   "source": [
    "**CHALLENGE TASK: Let's fill in the missing mort_acc values based on their total_acc value. If the mort_acc is missing, then we will fill in that missing value with the mean value corresponding to its total_acc value from the Series we created above. This involves using an .apply() method with two columns. Check out the link below for more info, or review the solutions video/notebook.**\n",
    "\n",
    "[Helpful Link](https://stackoverflow.com/questions/13331698/how-to-apply-a-function-to-two-columns-of-pandas-dataframe) "
   ]
  },
  {
   "cell_type": "code",
   "execution_count": 38,
   "id": "capital-cradle",
   "metadata": {
    "execution": {
     "iopub.execute_input": "2021-04-19T05:43:46.295075Z",
     "iopub.status.busy": "2021-04-19T05:43:46.294127Z",
     "iopub.status.idle": "2021-04-19T05:43:46.297141Z",
     "shell.execute_reply": "2021-04-19T05:43:46.296505Z"
    },
    "papermill": {
     "duration": 0.138026,
     "end_time": "2021-04-19T05:43:46.297278",
     "exception": false,
     "start_time": "2021-04-19T05:43:46.159252",
     "status": "completed"
    },
    "tags": []
   },
   "outputs": [],
   "source": [
    "# CODE HERE"
   ]
  },
  {
   "cell_type": "code",
   "execution_count": null,
   "id": "israeli-mozambique",
   "metadata": {
    "papermill": {
     "duration": 0.13263,
     "end_time": "2021-04-19T05:43:46.561820",
     "exception": false,
     "start_time": "2021-04-19T05:43:46.429190",
     "status": "completed"
    },
    "tags": []
   },
   "outputs": [],
   "source": []
  },
  {
   "cell_type": "code",
   "execution_count": null,
   "id": "driving-hammer",
   "metadata": {
    "papermill": {
     "duration": 0.131431,
     "end_time": "2021-04-19T05:43:46.825162",
     "exception": false,
     "start_time": "2021-04-19T05:43:46.693731",
     "status": "completed"
    },
    "tags": []
   },
   "outputs": [],
   "source": []
  },
  {
   "cell_type": "code",
   "execution_count": null,
   "id": "former-deployment",
   "metadata": {
    "papermill": {
     "duration": 0.132836,
     "end_time": "2021-04-19T05:43:47.090682",
     "exception": false,
     "start_time": "2021-04-19T05:43:46.957846",
     "status": "completed"
    },
    "tags": []
   },
   "outputs": [],
   "source": []
  },
  {
   "cell_type": "code",
   "execution_count": null,
   "id": "imperial-rubber",
   "metadata": {
    "papermill": {
     "duration": 0.131531,
     "end_time": "2021-04-19T05:43:47.356008",
     "exception": false,
     "start_time": "2021-04-19T05:43:47.224477",
     "status": "completed"
    },
    "tags": []
   },
   "outputs": [],
   "source": []
  },
  {
   "cell_type": "code",
   "execution_count": null,
   "id": "nervous-viking",
   "metadata": {
    "papermill": {
     "duration": 0.131872,
     "end_time": "2021-04-19T05:43:47.620024",
     "exception": false,
     "start_time": "2021-04-19T05:43:47.488152",
     "status": "completed"
    },
    "tags": []
   },
   "outputs": [],
   "source": []
  },
  {
   "cell_type": "markdown",
   "id": "opposed-vehicle",
   "metadata": {
    "papermill": {
     "duration": 0.134037,
     "end_time": "2021-04-19T05:43:47.885800",
     "exception": false,
     "start_time": "2021-04-19T05:43:47.751763",
     "status": "completed"
    },
    "tags": []
   },
   "source": [
    "**TASK: revol_util and the pub_rec_bankruptcies have missing data points, but they account for less than 0.5% of the total data. Go ahead and remove the rows that are missing those values in those columns with dropna().**"
   ]
  },
  {
   "cell_type": "code",
   "execution_count": 39,
   "id": "headed-giant",
   "metadata": {
    "execution": {
     "iopub.execute_input": "2021-04-19T05:43:48.158778Z",
     "iopub.status.busy": "2021-04-19T05:43:48.158095Z",
     "iopub.status.idle": "2021-04-19T05:43:48.161113Z",
     "shell.execute_reply": "2021-04-19T05:43:48.161642Z"
    },
    "papermill": {
     "duration": 0.141881,
     "end_time": "2021-04-19T05:43:48.161815",
     "exception": false,
     "start_time": "2021-04-19T05:43:48.019934",
     "status": "completed"
    },
    "tags": []
   },
   "outputs": [],
   "source": [
    "# CODE HERE"
   ]
  },
  {
   "cell_type": "code",
   "execution_count": null,
   "id": "fewer-scoop",
   "metadata": {
    "papermill": {
     "duration": 0.131209,
     "end_time": "2021-04-19T05:43:48.425361",
     "exception": false,
     "start_time": "2021-04-19T05:43:48.294152",
     "status": "completed"
    },
    "tags": []
   },
   "outputs": [],
   "source": []
  },
  {
   "cell_type": "code",
   "execution_count": null,
   "id": "classical-swing",
   "metadata": {
    "papermill": {
     "duration": 0.131518,
     "end_time": "2021-04-19T05:43:48.687762",
     "exception": false,
     "start_time": "2021-04-19T05:43:48.556244",
     "status": "completed"
    },
    "scrolled": true,
    "tags": []
   },
   "outputs": [],
   "source": []
  },
  {
   "cell_type": "markdown",
   "id": "alive-values",
   "metadata": {
    "papermill": {
     "duration": 0.131825,
     "end_time": "2021-04-19T05:43:48.951989",
     "exception": false,
     "start_time": "2021-04-19T05:43:48.820164",
     "status": "completed"
    },
    "tags": []
   },
   "source": [
    "## Categorical Variables and Dummy Variables\n",
    "\n",
    "**We're done working with the missing data! Now we just need to deal with the string values due to the categorical columns.**\n",
    "\n",
    "**TASK: List all the columns that are currently non-numeric. [Helpful Link](https://stackoverflow.com/questions/22470690/get-list-of-pandas-dataframe-columns-based-on-data-type)**\n",
    "\n",
    "[Another very useful method call](https://pandas.pydata.org/pandas-docs/stable/reference/api/pandas.DataFrame.select_dtypes.html)"
   ]
  },
  {
   "cell_type": "code",
   "execution_count": 40,
   "id": "careful-indicator",
   "metadata": {
    "execution": {
     "iopub.execute_input": "2021-04-19T05:43:49.222701Z",
     "iopub.status.busy": "2021-04-19T05:43:49.222077Z",
     "iopub.status.idle": "2021-04-19T05:43:49.226370Z",
     "shell.execute_reply": "2021-04-19T05:43:49.225745Z"
    },
    "papermill": {
     "duration": 0.141019,
     "end_time": "2021-04-19T05:43:49.226501",
     "exception": false,
     "start_time": "2021-04-19T05:43:49.085482",
     "status": "completed"
    },
    "tags": []
   },
   "outputs": [],
   "source": [
    "# CODE HERE"
   ]
  },
  {
   "cell_type": "code",
   "execution_count": null,
   "id": "regional-mechanism",
   "metadata": {
    "papermill": {
     "duration": 0.133782,
     "end_time": "2021-04-19T05:43:49.492526",
     "exception": false,
     "start_time": "2021-04-19T05:43:49.358744",
     "status": "completed"
    },
    "tags": []
   },
   "outputs": [],
   "source": []
  },
  {
   "cell_type": "markdown",
   "id": "limiting-hebrew",
   "metadata": {
    "papermill": {
     "duration": 0.134056,
     "end_time": "2021-04-19T05:43:49.758242",
     "exception": false,
     "start_time": "2021-04-19T05:43:49.624186",
     "status": "completed"
    },
    "tags": []
   },
   "source": [
    "---\n",
    "**Let's now go through all the string features to see what we should do with them.**\n",
    "\n",
    "---\n",
    "\n",
    "\n",
    "### term feature\n",
    "\n",
    "**TASK: Convert the term feature into either a 36 or 60 integer numeric data type using .apply() or .map().**"
   ]
  },
  {
   "cell_type": "code",
   "execution_count": 41,
   "id": "vital-coverage",
   "metadata": {
    "execution": {
     "iopub.execute_input": "2021-04-19T05:43:50.028185Z",
     "iopub.status.busy": "2021-04-19T05:43:50.027494Z",
     "iopub.status.idle": "2021-04-19T05:43:50.030826Z",
     "shell.execute_reply": "2021-04-19T05:43:50.030298Z"
    },
    "papermill": {
     "duration": 0.140813,
     "end_time": "2021-04-19T05:43:50.030980",
     "exception": false,
     "start_time": "2021-04-19T05:43:49.890167",
     "status": "completed"
    },
    "tags": []
   },
   "outputs": [],
   "source": [
    "# CODE HERE"
   ]
  },
  {
   "cell_type": "code",
   "execution_count": null,
   "id": "patient-premises",
   "metadata": {
    "papermill": {
     "duration": 0.131677,
     "end_time": "2021-04-19T05:43:50.297272",
     "exception": false,
     "start_time": "2021-04-19T05:43:50.165595",
     "status": "completed"
    },
    "tags": []
   },
   "outputs": [],
   "source": []
  },
  {
   "cell_type": "code",
   "execution_count": null,
   "id": "shared-welcome",
   "metadata": {
    "papermill": {
     "duration": 0.131397,
     "end_time": "2021-04-19T05:43:50.560606",
     "exception": false,
     "start_time": "2021-04-19T05:43:50.429209",
     "status": "completed"
    },
    "tags": []
   },
   "outputs": [],
   "source": []
  },
  {
   "cell_type": "markdown",
   "id": "smaller-steel",
   "metadata": {
    "papermill": {
     "duration": 0.131273,
     "end_time": "2021-04-19T05:43:50.823487",
     "exception": false,
     "start_time": "2021-04-19T05:43:50.692214",
     "status": "completed"
    },
    "tags": []
   },
   "source": [
    "### grade feature\n",
    "\n",
    "**TASK: We already know grade is part of sub_grade, so just drop the grade feature.**"
   ]
  },
  {
   "cell_type": "code",
   "execution_count": 42,
   "id": "aboriginal-organic",
   "metadata": {
    "execution": {
     "iopub.execute_input": "2021-04-19T05:43:51.092917Z",
     "iopub.status.busy": "2021-04-19T05:43:51.092237Z",
     "iopub.status.idle": "2021-04-19T05:43:51.095523Z",
     "shell.execute_reply": "2021-04-19T05:43:51.095036Z"
    },
    "papermill": {
     "duration": 0.140779,
     "end_time": "2021-04-19T05:43:51.095681",
     "exception": false,
     "start_time": "2021-04-19T05:43:50.954902",
     "status": "completed"
    },
    "tags": []
   },
   "outputs": [],
   "source": [
    "# CODE HERE"
   ]
  },
  {
   "cell_type": "code",
   "execution_count": null,
   "id": "binding-settle",
   "metadata": {
    "papermill": {
     "duration": 0.130945,
     "end_time": "2021-04-19T05:43:51.359930",
     "exception": false,
     "start_time": "2021-04-19T05:43:51.228985",
     "status": "completed"
    },
    "tags": []
   },
   "outputs": [],
   "source": []
  },
  {
   "cell_type": "markdown",
   "id": "transparent-karma",
   "metadata": {
    "papermill": {
     "duration": 0.132509,
     "end_time": "2021-04-19T05:43:51.623924",
     "exception": false,
     "start_time": "2021-04-19T05:43:51.491415",
     "status": "completed"
    },
    "tags": []
   },
   "source": [
    "**TASK: Convert the subgrade into dummy variables. Then concatenate these new columns to the original dataframe. Remember to drop the original subgrade column and to add drop_first=True to your get_dummies call.**"
   ]
  },
  {
   "cell_type": "code",
   "execution_count": 43,
   "id": "quiet-sally",
   "metadata": {
    "execution": {
     "iopub.execute_input": "2021-04-19T05:43:51.893931Z",
     "iopub.status.busy": "2021-04-19T05:43:51.893198Z",
     "iopub.status.idle": "2021-04-19T05:43:51.895988Z",
     "shell.execute_reply": "2021-04-19T05:43:51.896450Z"
    },
    "papermill": {
     "duration": 0.14022,
     "end_time": "2021-04-19T05:43:51.896642",
     "exception": false,
     "start_time": "2021-04-19T05:43:51.756422",
     "status": "completed"
    },
    "tags": []
   },
   "outputs": [],
   "source": [
    "# CODE HERE"
   ]
  },
  {
   "cell_type": "code",
   "execution_count": null,
   "id": "human-antarctica",
   "metadata": {
    "papermill": {
     "duration": 0.133682,
     "end_time": "2021-04-19T05:43:52.163806",
     "exception": false,
     "start_time": "2021-04-19T05:43:52.030124",
     "status": "completed"
    },
    "tags": []
   },
   "outputs": [],
   "source": []
  },
  {
   "cell_type": "code",
   "execution_count": null,
   "id": "tight-bandwidth",
   "metadata": {
    "papermill": {
     "duration": 0.132865,
     "end_time": "2021-04-19T05:43:52.430182",
     "exception": false,
     "start_time": "2021-04-19T05:43:52.297317",
     "status": "completed"
    },
    "tags": []
   },
   "outputs": [],
   "source": []
  },
  {
   "cell_type": "code",
   "execution_count": null,
   "id": "advance-parcel",
   "metadata": {
    "papermill": {
     "duration": 0.131797,
     "end_time": "2021-04-19T05:43:52.694263",
     "exception": false,
     "start_time": "2021-04-19T05:43:52.562466",
     "status": "completed"
    },
    "tags": []
   },
   "outputs": [],
   "source": []
  },
  {
   "cell_type": "code",
   "execution_count": null,
   "id": "african-clark",
   "metadata": {
    "papermill": {
     "duration": 0.132033,
     "end_time": "2021-04-19T05:43:52.958068",
     "exception": false,
     "start_time": "2021-04-19T05:43:52.826035",
     "status": "completed"
    },
    "tags": []
   },
   "outputs": [],
   "source": []
  },
  {
   "cell_type": "markdown",
   "id": "steady-bernard",
   "metadata": {
    "papermill": {
     "duration": 0.133789,
     "end_time": "2021-04-19T05:43:53.225293",
     "exception": false,
     "start_time": "2021-04-19T05:43:53.091504",
     "status": "completed"
    },
    "tags": []
   },
   "source": [
    "### verification_status, application_type,initial_list_status,purpose \n",
    "**TASK: Convert these columns: ['verification_status', 'application_type','initial_list_status','purpose'] into dummy variables and concatenate them with the original dataframe. Remember to set drop_first=True and to drop the original columns.**"
   ]
  },
  {
   "cell_type": "code",
   "execution_count": 44,
   "id": "decent-jackson",
   "metadata": {
    "execution": {
     "iopub.execute_input": "2021-04-19T05:43:53.496280Z",
     "iopub.status.busy": "2021-04-19T05:43:53.495344Z",
     "iopub.status.idle": "2021-04-19T05:43:53.498804Z",
     "shell.execute_reply": "2021-04-19T05:43:53.498184Z"
    },
    "papermill": {
     "duration": 0.139936,
     "end_time": "2021-04-19T05:43:53.498942",
     "exception": false,
     "start_time": "2021-04-19T05:43:53.359006",
     "status": "completed"
    },
    "tags": []
   },
   "outputs": [],
   "source": [
    "# CODE HERE"
   ]
  },
  {
   "cell_type": "code",
   "execution_count": null,
   "id": "allied-pension",
   "metadata": {
    "papermill": {
     "duration": 0.132694,
     "end_time": "2021-04-19T05:43:53.765103",
     "exception": false,
     "start_time": "2021-04-19T05:43:53.632409",
     "status": "completed"
    },
    "tags": []
   },
   "outputs": [],
   "source": []
  },
  {
   "cell_type": "code",
   "execution_count": null,
   "id": "driven-modeling",
   "metadata": {
    "papermill": {
     "duration": 0.133769,
     "end_time": "2021-04-19T05:43:54.031421",
     "exception": false,
     "start_time": "2021-04-19T05:43:53.897652",
     "status": "completed"
    },
    "tags": []
   },
   "outputs": [],
   "source": []
  },
  {
   "cell_type": "markdown",
   "id": "available-letter",
   "metadata": {
    "papermill": {
     "duration": 0.133495,
     "end_time": "2021-04-19T05:43:54.297916",
     "exception": false,
     "start_time": "2021-04-19T05:43:54.164421",
     "status": "completed"
    },
    "tags": []
   },
   "source": [
    "### home_ownership\n",
    "**TASK:Review the value_counts for the home_ownership column.**"
   ]
  },
  {
   "cell_type": "code",
   "execution_count": 45,
   "id": "valid-terrain",
   "metadata": {
    "execution": {
     "iopub.execute_input": "2021-04-19T05:43:54.568647Z",
     "iopub.status.busy": "2021-04-19T05:43:54.567909Z",
     "iopub.status.idle": "2021-04-19T05:43:54.571116Z",
     "shell.execute_reply": "2021-04-19T05:43:54.570607Z"
    },
    "papermill": {
     "duration": 0.141114,
     "end_time": "2021-04-19T05:43:54.571259",
     "exception": false,
     "start_time": "2021-04-19T05:43:54.430145",
     "status": "completed"
    },
    "tags": []
   },
   "outputs": [],
   "source": [
    "#CODE HERE"
   ]
  },
  {
   "cell_type": "code",
   "execution_count": null,
   "id": "geographic-participation",
   "metadata": {
    "papermill": {
     "duration": 0.13205,
     "end_time": "2021-04-19T05:43:54.837067",
     "exception": false,
     "start_time": "2021-04-19T05:43:54.705017",
     "status": "completed"
    },
    "tags": []
   },
   "outputs": [],
   "source": []
  },
  {
   "cell_type": "markdown",
   "id": "combined-productivity",
   "metadata": {
    "papermill": {
     "duration": 0.132567,
     "end_time": "2021-04-19T05:43:55.102375",
     "exception": false,
     "start_time": "2021-04-19T05:43:54.969808",
     "status": "completed"
    },
    "tags": []
   },
   "source": [
    "**TASK: Convert these to dummy variables, but [replace](https://pandas.pydata.org/pandas-docs/stable/reference/api/pandas.DataFrame.replace.html) NONE and ANY with OTHER, so that we end up with just 4 categories, MORTGAGE, RENT, OWN, OTHER. Then concatenate them with the original dataframe. Remember to set drop_first=True and to drop the original columns.**"
   ]
  },
  {
   "cell_type": "code",
   "execution_count": 46,
   "id": "collectible-richardson",
   "metadata": {
    "execution": {
     "iopub.execute_input": "2021-04-19T05:43:55.372774Z",
     "iopub.status.busy": "2021-04-19T05:43:55.372076Z",
     "iopub.status.idle": "2021-04-19T05:43:55.374764Z",
     "shell.execute_reply": "2021-04-19T05:43:55.375328Z"
    },
    "papermill": {
     "duration": 0.139446,
     "end_time": "2021-04-19T05:43:55.375499",
     "exception": false,
     "start_time": "2021-04-19T05:43:55.236053",
     "status": "completed"
    },
    "tags": []
   },
   "outputs": [],
   "source": [
    "#CODE HERE"
   ]
  },
  {
   "cell_type": "code",
   "execution_count": null,
   "id": "analyzed-namibia",
   "metadata": {
    "papermill": {
     "duration": 0.132475,
     "end_time": "2021-04-19T05:43:55.640445",
     "exception": false,
     "start_time": "2021-04-19T05:43:55.507970",
     "status": "completed"
    },
    "tags": []
   },
   "outputs": [],
   "source": []
  },
  {
   "cell_type": "markdown",
   "id": "exact-belarus",
   "metadata": {
    "papermill": {
     "duration": 0.134139,
     "end_time": "2021-04-19T05:43:55.935726",
     "exception": false,
     "start_time": "2021-04-19T05:43:55.801587",
     "status": "completed"
    },
    "tags": []
   },
   "source": [
    "### address\n",
    "**TASK: Let's feature engineer a zip code column from the address in the data set. Create a column called 'zip_code' that extracts the zip code from the address column.**"
   ]
  },
  {
   "cell_type": "code",
   "execution_count": 47,
   "id": "concerned-gambling",
   "metadata": {
    "execution": {
     "iopub.execute_input": "2021-04-19T05:43:56.208714Z",
     "iopub.status.busy": "2021-04-19T05:43:56.207982Z",
     "iopub.status.idle": "2021-04-19T05:43:56.211137Z",
     "shell.execute_reply": "2021-04-19T05:43:56.210597Z"
    },
    "papermill": {
     "duration": 0.141255,
     "end_time": "2021-04-19T05:43:56.211274",
     "exception": false,
     "start_time": "2021-04-19T05:43:56.070019",
     "status": "completed"
    },
    "tags": []
   },
   "outputs": [],
   "source": [
    "#CODE HERE"
   ]
  },
  {
   "cell_type": "code",
   "execution_count": null,
   "id": "suspected-framework",
   "metadata": {
    "papermill": {
     "duration": 0.131969,
     "end_time": "2021-04-19T05:43:56.476113",
     "exception": false,
     "start_time": "2021-04-19T05:43:56.344144",
     "status": "completed"
    },
    "tags": []
   },
   "outputs": [],
   "source": []
  },
  {
   "cell_type": "markdown",
   "id": "reliable-brazil",
   "metadata": {
    "papermill": {
     "duration": 0.133322,
     "end_time": "2021-04-19T05:43:56.741937",
     "exception": false,
     "start_time": "2021-04-19T05:43:56.608615",
     "status": "completed"
    },
    "tags": []
   },
   "source": [
    "**TASK: Now make this zip_code column into dummy variables using pandas. Concatenate the result and drop the original zip_code column along with dropping the address column.**"
   ]
  },
  {
   "cell_type": "code",
   "execution_count": null,
   "id": "limiting-small",
   "metadata": {
    "papermill": {
     "duration": 0.136236,
     "end_time": "2021-04-19T05:43:57.010258",
     "exception": false,
     "start_time": "2021-04-19T05:43:56.874022",
     "status": "completed"
    },
    "tags": []
   },
   "outputs": [],
   "source": []
  },
  {
   "cell_type": "code",
   "execution_count": null,
   "id": "changed-cambridge",
   "metadata": {
    "papermill": {
     "duration": 0.133705,
     "end_time": "2021-04-19T05:43:57.277086",
     "exception": false,
     "start_time": "2021-04-19T05:43:57.143381",
     "status": "completed"
    },
    "tags": []
   },
   "outputs": [],
   "source": []
  },
  {
   "cell_type": "markdown",
   "id": "gothic-return",
   "metadata": {
    "papermill": {
     "duration": 0.131921,
     "end_time": "2021-04-19T05:43:57.541757",
     "exception": false,
     "start_time": "2021-04-19T05:43:57.409836",
     "status": "completed"
    },
    "tags": []
   },
   "source": [
    "### issue_d \n",
    "\n",
    "**TASK: This would be data leakage, we wouldn't know beforehand whether or not a loan would be issued when using our model, so in theory we wouldn't have an issue_date, drop this feature.**"
   ]
  },
  {
   "cell_type": "code",
   "execution_count": 48,
   "id": "comparative-intro",
   "metadata": {
    "execution": {
     "iopub.execute_input": "2021-04-19T05:43:57.812851Z",
     "iopub.status.busy": "2021-04-19T05:43:57.812150Z",
     "iopub.status.idle": "2021-04-19T05:43:57.815360Z",
     "shell.execute_reply": "2021-04-19T05:43:57.814758Z"
    },
    "papermill": {
     "duration": 0.141327,
     "end_time": "2021-04-19T05:43:57.815490",
     "exception": false,
     "start_time": "2021-04-19T05:43:57.674163",
     "status": "completed"
    },
    "tags": []
   },
   "outputs": [],
   "source": [
    "#CODE HERE"
   ]
  },
  {
   "cell_type": "code",
   "execution_count": null,
   "id": "postal-struggle",
   "metadata": {
    "papermill": {
     "duration": 0.133533,
     "end_time": "2021-04-19T05:43:58.081971",
     "exception": false,
     "start_time": "2021-04-19T05:43:57.948438",
     "status": "completed"
    },
    "tags": []
   },
   "outputs": [],
   "source": []
  },
  {
   "cell_type": "markdown",
   "id": "through-fishing",
   "metadata": {
    "papermill": {
     "duration": 0.132709,
     "end_time": "2021-04-19T05:43:58.349971",
     "exception": false,
     "start_time": "2021-04-19T05:43:58.217262",
     "status": "completed"
    },
    "tags": []
   },
   "source": [
    "### earliest_cr_line\n",
    "**TASK: This appears to be a historical time stamp feature. Extract the year from this feature using a .apply function, then convert it to a numeric feature. Set this new data to a feature column called 'earliest_cr_year'.Then drop the earliest_cr_line feature.**"
   ]
  },
  {
   "cell_type": "code",
   "execution_count": 49,
   "id": "seven-mailman",
   "metadata": {
    "execution": {
     "iopub.execute_input": "2021-04-19T05:43:58.619957Z",
     "iopub.status.busy": "2021-04-19T05:43:58.619232Z",
     "iopub.status.idle": "2021-04-19T05:43:58.622124Z",
     "shell.execute_reply": "2021-04-19T05:43:58.621522Z"
    },
    "papermill": {
     "duration": 0.1395,
     "end_time": "2021-04-19T05:43:58.622252",
     "exception": false,
     "start_time": "2021-04-19T05:43:58.482752",
     "status": "completed"
    },
    "tags": []
   },
   "outputs": [],
   "source": [
    "#CODE HERE"
   ]
  },
  {
   "cell_type": "code",
   "execution_count": null,
   "id": "surrounded-granny",
   "metadata": {
    "papermill": {
     "duration": 0.134936,
     "end_time": "2021-04-19T05:43:58.889961",
     "exception": false,
     "start_time": "2021-04-19T05:43:58.755025",
     "status": "completed"
    },
    "tags": []
   },
   "outputs": [],
   "source": []
  },
  {
   "cell_type": "code",
   "execution_count": null,
   "id": "advanced-hello",
   "metadata": {
    "papermill": {
     "duration": 0.13425,
     "end_time": "2021-04-19T05:43:59.157750",
     "exception": false,
     "start_time": "2021-04-19T05:43:59.023500",
     "status": "completed"
    },
    "tags": []
   },
   "outputs": [],
   "source": []
  },
  {
   "cell_type": "markdown",
   "id": "median-beginning",
   "metadata": {
    "papermill": {
     "duration": 0.132339,
     "end_time": "2021-04-19T05:43:59.424976",
     "exception": false,
     "start_time": "2021-04-19T05:43:59.292637",
     "status": "completed"
    },
    "tags": []
   },
   "source": [
    "## Train Test Split"
   ]
  },
  {
   "cell_type": "markdown",
   "id": "oriented-pierce",
   "metadata": {
    "papermill": {
     "duration": 0.134384,
     "end_time": "2021-04-19T05:43:59.691502",
     "exception": false,
     "start_time": "2021-04-19T05:43:59.557118",
     "status": "completed"
    },
    "tags": []
   },
   "source": [
    "**TASK: Import train_test_split from sklearn.**"
   ]
  },
  {
   "cell_type": "code",
   "execution_count": null,
   "id": "apparent-timeline",
   "metadata": {
    "papermill": {
     "duration": 0.133545,
     "end_time": "2021-04-19T05:43:59.961192",
     "exception": false,
     "start_time": "2021-04-19T05:43:59.827647",
     "status": "completed"
    },
    "tags": []
   },
   "outputs": [],
   "source": []
  },
  {
   "cell_type": "markdown",
   "id": "thermal-broadcasting",
   "metadata": {
    "papermill": {
     "duration": 0.132191,
     "end_time": "2021-04-19T05:44:00.226981",
     "exception": false,
     "start_time": "2021-04-19T05:44:00.094790",
     "status": "completed"
    },
    "tags": []
   },
   "source": [
    "**TASK: drop the load_status column we created earlier, since its a duplicate of the loan_repaid column. We'll use the loan_repaid column since its already in 0s and 1s.**"
   ]
  },
  {
   "cell_type": "code",
   "execution_count": 50,
   "id": "industrial-creativity",
   "metadata": {
    "execution": {
     "iopub.execute_input": "2021-04-19T05:44:00.496413Z",
     "iopub.status.busy": "2021-04-19T05:44:00.495729Z",
     "iopub.status.idle": "2021-04-19T05:44:00.498732Z",
     "shell.execute_reply": "2021-04-19T05:44:00.498171Z"
    },
    "papermill": {
     "duration": 0.139263,
     "end_time": "2021-04-19T05:44:00.498864",
     "exception": false,
     "start_time": "2021-04-19T05:44:00.359601",
     "status": "completed"
    },
    "tags": []
   },
   "outputs": [],
   "source": [
    "# CODE HERE"
   ]
  },
  {
   "cell_type": "code",
   "execution_count": null,
   "id": "exposed-montreal",
   "metadata": {
    "papermill": {
     "duration": 0.132062,
     "end_time": "2021-04-19T05:44:00.763814",
     "exception": false,
     "start_time": "2021-04-19T05:44:00.631752",
     "status": "completed"
    },
    "tags": []
   },
   "outputs": [],
   "source": []
  },
  {
   "cell_type": "markdown",
   "id": "tender-count",
   "metadata": {
    "papermill": {
     "duration": 0.133396,
     "end_time": "2021-04-19T05:44:01.031854",
     "exception": false,
     "start_time": "2021-04-19T05:44:00.898458",
     "status": "completed"
    },
    "tags": []
   },
   "source": [
    "**TASK: Set X and y variables to the .values of the features and label.**"
   ]
  },
  {
   "cell_type": "code",
   "execution_count": 51,
   "id": "flexible-fence",
   "metadata": {
    "execution": {
     "iopub.execute_input": "2021-04-19T05:44:01.304802Z",
     "iopub.status.busy": "2021-04-19T05:44:01.304140Z",
     "iopub.status.idle": "2021-04-19T05:44:01.306866Z",
     "shell.execute_reply": "2021-04-19T05:44:01.306272Z"
    },
    "papermill": {
     "duration": 0.140863,
     "end_time": "2021-04-19T05:44:01.307000",
     "exception": false,
     "start_time": "2021-04-19T05:44:01.166137",
     "status": "completed"
    },
    "tags": []
   },
   "outputs": [],
   "source": [
    "#CODE HERE"
   ]
  },
  {
   "cell_type": "code",
   "execution_count": null,
   "id": "reverse-semiconductor",
   "metadata": {
    "papermill": {
     "duration": 0.133161,
     "end_time": "2021-04-19T05:44:01.573123",
     "exception": false,
     "start_time": "2021-04-19T05:44:01.439962",
     "status": "completed"
    },
    "tags": []
   },
   "outputs": [],
   "source": []
  },
  {
   "cell_type": "markdown",
   "id": "desirable-fleet",
   "metadata": {
    "papermill": {
     "duration": 0.13569,
     "end_time": "2021-04-19T05:44:01.841348",
     "exception": false,
     "start_time": "2021-04-19T05:44:01.705658",
     "status": "completed"
    },
    "tags": []
   },
   "source": [
    "----\n",
    "----\n",
    "\n",
    "# OPTIONAL\n",
    "\n",
    "## Grabbing a Sample for Training Time\n",
    "\n",
    "### OPTIONAL: Use .sample() to grab a sample of the 490k+ entries to save time on training. Highly recommended for lower RAM computers or if you are not using GPU.\n",
    "\n",
    "----\n",
    "----"
   ]
  },
  {
   "cell_type": "code",
   "execution_count": 52,
   "id": "parallel-presentation",
   "metadata": {
    "execution": {
     "iopub.execute_input": "2021-04-19T05:44:02.112939Z",
     "iopub.status.busy": "2021-04-19T05:44:02.112270Z",
     "iopub.status.idle": "2021-04-19T05:44:02.117715Z",
     "shell.execute_reply": "2021-04-19T05:44:02.118391Z"
    },
    "papermill": {
     "duration": 0.143039,
     "end_time": "2021-04-19T05:44:02.118573",
     "exception": false,
     "start_time": "2021-04-19T05:44:01.975534",
     "status": "completed"
    },
    "tags": []
   },
   "outputs": [
    {
     "name": "stdout",
     "output_type": "stream",
     "text": [
      "396030\n"
     ]
    }
   ],
   "source": [
    "# df = df.sample(frac=0.1,random_state=101)\n",
    "print(len(df))"
   ]
  },
  {
   "cell_type": "markdown",
   "id": "selected-birthday",
   "metadata": {
    "papermill": {
     "duration": 0.133473,
     "end_time": "2021-04-19T05:44:02.389299",
     "exception": false,
     "start_time": "2021-04-19T05:44:02.255826",
     "status": "completed"
    },
    "tags": []
   },
   "source": [
    "**TASK: Perform a train/test split with test_size=0.2 and a random_state of 101.**"
   ]
  },
  {
   "cell_type": "code",
   "execution_count": 53,
   "id": "convinced-alcohol",
   "metadata": {
    "execution": {
     "iopub.execute_input": "2021-04-19T05:44:02.661034Z",
     "iopub.status.busy": "2021-04-19T05:44:02.660376Z",
     "iopub.status.idle": "2021-04-19T05:44:02.663263Z",
     "shell.execute_reply": "2021-04-19T05:44:02.663864Z"
    },
    "papermill": {
     "duration": 0.140195,
     "end_time": "2021-04-19T05:44:02.664036",
     "exception": false,
     "start_time": "2021-04-19T05:44:02.523841",
     "status": "completed"
    },
    "tags": []
   },
   "outputs": [],
   "source": [
    "#CODE HERE"
   ]
  },
  {
   "cell_type": "code",
   "execution_count": null,
   "id": "dimensional-doubt",
   "metadata": {
    "papermill": {
     "duration": 0.134138,
     "end_time": "2021-04-19T05:44:02.931873",
     "exception": false,
     "start_time": "2021-04-19T05:44:02.797735",
     "status": "completed"
    },
    "tags": []
   },
   "outputs": [],
   "source": []
  },
  {
   "cell_type": "markdown",
   "id": "amber-singles",
   "metadata": {
    "papermill": {
     "duration": 0.133358,
     "end_time": "2021-04-19T05:44:03.201144",
     "exception": false,
     "start_time": "2021-04-19T05:44:03.067786",
     "status": "completed"
    },
    "tags": []
   },
   "source": [
    "## Normalizing the Data\n",
    "\n",
    "**TASK: Use a MinMaxScaler to normalize the feature data X_train and X_test. Recall we don't want data leakge from the test set so we only fit on the X_train data.**"
   ]
  },
  {
   "cell_type": "code",
   "execution_count": 54,
   "id": "loving-double",
   "metadata": {
    "execution": {
     "iopub.execute_input": "2021-04-19T05:44:03.476168Z",
     "iopub.status.busy": "2021-04-19T05:44:03.475472Z",
     "iopub.status.idle": "2021-04-19T05:44:03.478355Z",
     "shell.execute_reply": "2021-04-19T05:44:03.478854Z"
    },
    "papermill": {
     "duration": 0.141759,
     "end_time": "2021-04-19T05:44:03.479090",
     "exception": false,
     "start_time": "2021-04-19T05:44:03.337331",
     "status": "completed"
    },
    "tags": []
   },
   "outputs": [],
   "source": [
    "# CODE HERE"
   ]
  },
  {
   "cell_type": "code",
   "execution_count": null,
   "id": "collective-encounter",
   "metadata": {
    "papermill": {
     "duration": 0.13419,
     "end_time": "2021-04-19T05:44:03.747225",
     "exception": false,
     "start_time": "2021-04-19T05:44:03.613035",
     "status": "completed"
    },
    "tags": []
   },
   "outputs": [],
   "source": []
  },
  {
   "cell_type": "code",
   "execution_count": null,
   "id": "southern-moderator",
   "metadata": {
    "papermill": {
     "duration": 0.13546,
     "end_time": "2021-04-19T05:44:04.016730",
     "exception": false,
     "start_time": "2021-04-19T05:44:03.881270",
     "status": "completed"
    },
    "tags": []
   },
   "outputs": [],
   "source": []
  },
  {
   "cell_type": "code",
   "execution_count": null,
   "id": "recorded-potential",
   "metadata": {
    "papermill": {
     "duration": 0.135162,
     "end_time": "2021-04-19T05:44:04.286530",
     "exception": false,
     "start_time": "2021-04-19T05:44:04.151368",
     "status": "completed"
    },
    "tags": []
   },
   "outputs": [],
   "source": []
  },
  {
   "cell_type": "code",
   "execution_count": null,
   "id": "acquired-adams",
   "metadata": {
    "papermill": {
     "duration": 0.133798,
     "end_time": "2021-04-19T05:44:04.555332",
     "exception": false,
     "start_time": "2021-04-19T05:44:04.421534",
     "status": "completed"
    },
    "tags": []
   },
   "outputs": [],
   "source": []
  },
  {
   "cell_type": "markdown",
   "id": "ethical-documentation",
   "metadata": {
    "papermill": {
     "duration": 0.134652,
     "end_time": "2021-04-19T05:44:04.824684",
     "exception": false,
     "start_time": "2021-04-19T05:44:04.690032",
     "status": "completed"
    },
    "tags": []
   },
   "source": [
    "# Creating the Model\n",
    "\n",
    "**TASK: Run the cell below to import the necessary Keras functions.**"
   ]
  },
  {
   "cell_type": "code",
   "execution_count": 55,
   "id": "liquid-nylon",
   "metadata": {
    "execution": {
     "iopub.execute_input": "2021-04-19T05:44:05.099652Z",
     "iopub.status.busy": "2021-04-19T05:44:05.098999Z",
     "iopub.status.idle": "2021-04-19T05:44:10.711323Z",
     "shell.execute_reply": "2021-04-19T05:44:10.710778Z"
    },
    "papermill": {
     "duration": 5.751556,
     "end_time": "2021-04-19T05:44:10.711474",
     "exception": false,
     "start_time": "2021-04-19T05:44:04.959918",
     "status": "completed"
    },
    "tags": []
   },
   "outputs": [],
   "source": [
    "import tensorflow as tf\n",
    "from tensorflow.keras.models import Sequential\n",
    "from tensorflow.keras.layers import Dense,Dropout"
   ]
  },
  {
   "cell_type": "markdown",
   "id": "fleet-local",
   "metadata": {
    "papermill": {
     "duration": 0.134326,
     "end_time": "2021-04-19T05:44:10.980331",
     "exception": false,
     "start_time": "2021-04-19T05:44:10.846005",
     "status": "completed"
    },
    "tags": []
   },
   "source": [
    "**TASK: Build a sequential model to will be trained on the data. You have unlimited options here, but here is what the solution uses: a model that goes 78 --> 39 --> 19--> 1 output neuron. OPTIONAL: Explore adding [Dropout layers](https://keras.io/layers/core/) [1](https://en.wikipedia.org/wiki/Dropout_(neural_networks)) [2](https://towardsdatascience.com/machine-learning-part-20-dropout-keras-layers-explained-8c9f6dc4c9ab)**"
   ]
  },
  {
   "cell_type": "code",
   "execution_count": 56,
   "id": "technical-limit",
   "metadata": {
    "execution": {
     "iopub.execute_input": "2021-04-19T05:44:11.254718Z",
     "iopub.status.busy": "2021-04-19T05:44:11.254035Z",
     "iopub.status.idle": "2021-04-19T05:44:11.296155Z",
     "shell.execute_reply": "2021-04-19T05:44:11.295494Z"
    },
    "papermill": {
     "duration": 0.180682,
     "end_time": "2021-04-19T05:44:11.296319",
     "exception": false,
     "start_time": "2021-04-19T05:44:11.115637",
     "status": "completed"
    },
    "tags": []
   },
   "outputs": [],
   "source": [
    "# CODE HERE\n",
    "model = Sequential()\n",
    "\n",
    "# Choose whatever number of layers/neurons you want.\n",
    "\n",
    "# https://stats.stackexchange.com/questions/181/how-to-choose-the-number-of-hidden-layers-and-nodes-in-a-feedforward-neural-netw\n",
    "\n",
    "# Remember to compile()"
   ]
  },
  {
   "cell_type": "code",
   "execution_count": null,
   "id": "metric-sleeve",
   "metadata": {
    "papermill": {
     "duration": 0.133556,
     "end_time": "2021-04-19T05:44:11.563838",
     "exception": false,
     "start_time": "2021-04-19T05:44:11.430282",
     "status": "completed"
    },
    "tags": []
   },
   "outputs": [],
   "source": []
  },
  {
   "cell_type": "markdown",
   "id": "immediate-showcase",
   "metadata": {
    "papermill": {
     "duration": 0.133224,
     "end_time": "2021-04-19T05:44:11.830680",
     "exception": false,
     "start_time": "2021-04-19T05:44:11.697456",
     "status": "completed"
    },
    "tags": []
   },
   "source": [
    "**TASK: Fit the model to the training data for at least 25 epochs. Also add in the validation data for later plotting. Optional: add in a batch_size of 256.**"
   ]
  },
  {
   "cell_type": "code",
   "execution_count": 57,
   "id": "legislative-twenty",
   "metadata": {
    "execution": {
     "iopub.execute_input": "2021-04-19T05:44:12.106063Z",
     "iopub.status.busy": "2021-04-19T05:44:12.105411Z",
     "iopub.status.idle": "2021-04-19T05:44:12.107969Z",
     "shell.execute_reply": "2021-04-19T05:44:12.108495Z"
    },
    "papermill": {
     "duration": 0.142234,
     "end_time": "2021-04-19T05:44:12.108746",
     "exception": false,
     "start_time": "2021-04-19T05:44:11.966512",
     "status": "completed"
    },
    "tags": []
   },
   "outputs": [],
   "source": [
    "# CODE HERE"
   ]
  },
  {
   "cell_type": "code",
   "execution_count": null,
   "id": "brave-genesis",
   "metadata": {
    "papermill": {
     "duration": 0.134563,
     "end_time": "2021-04-19T05:44:12.377344",
     "exception": false,
     "start_time": "2021-04-19T05:44:12.242781",
     "status": "completed"
    },
    "tags": []
   },
   "outputs": [],
   "source": []
  },
  {
   "cell_type": "markdown",
   "id": "killing-raleigh",
   "metadata": {
    "papermill": {
     "duration": 0.133885,
     "end_time": "2021-04-19T05:44:12.645104",
     "exception": false,
     "start_time": "2021-04-19T05:44:12.511219",
     "status": "completed"
    },
    "tags": []
   },
   "source": [
    "**TASK: OPTIONAL: Save your model.**"
   ]
  },
  {
   "cell_type": "code",
   "execution_count": 58,
   "id": "attractive-ferry",
   "metadata": {
    "execution": {
     "iopub.execute_input": "2021-04-19T05:44:12.922308Z",
     "iopub.status.busy": "2021-04-19T05:44:12.921046Z",
     "iopub.status.idle": "2021-04-19T05:44:12.923869Z",
     "shell.execute_reply": "2021-04-19T05:44:12.924357Z"
    },
    "papermill": {
     "duration": 0.143244,
     "end_time": "2021-04-19T05:44:12.924528",
     "exception": false,
     "start_time": "2021-04-19T05:44:12.781284",
     "status": "completed"
    },
    "tags": []
   },
   "outputs": [],
   "source": [
    "# CODE HERE"
   ]
  },
  {
   "cell_type": "code",
   "execution_count": null,
   "id": "opponent-longer",
   "metadata": {
    "papermill": {
     "duration": 0.136271,
     "end_time": "2021-04-19T05:44:13.197087",
     "exception": false,
     "start_time": "2021-04-19T05:44:13.060816",
     "status": "completed"
    },
    "tags": []
   },
   "outputs": [],
   "source": []
  },
  {
   "cell_type": "code",
   "execution_count": null,
   "id": "embedded-knowing",
   "metadata": {
    "papermill": {
     "duration": 0.134567,
     "end_time": "2021-04-19T05:44:13.468450",
     "exception": false,
     "start_time": "2021-04-19T05:44:13.333883",
     "status": "completed"
    },
    "tags": []
   },
   "outputs": [],
   "source": []
  },
  {
   "cell_type": "markdown",
   "id": "focused-laugh",
   "metadata": {
    "papermill": {
     "duration": 0.134922,
     "end_time": "2021-04-19T05:44:13.738343",
     "exception": false,
     "start_time": "2021-04-19T05:44:13.603421",
     "status": "completed"
    },
    "tags": []
   },
   "source": [
    "# Section 3: Evaluating Model Performance.\n",
    "\n",
    "**TASK: Plot out the validation loss versus the training loss.**"
   ]
  },
  {
   "cell_type": "code",
   "execution_count": 59,
   "id": "egyptian-bolivia",
   "metadata": {
    "execution": {
     "iopub.execute_input": "2021-04-19T05:44:14.012288Z",
     "iopub.status.busy": "2021-04-19T05:44:14.011491Z",
     "iopub.status.idle": "2021-04-19T05:44:14.014649Z",
     "shell.execute_reply": "2021-04-19T05:44:14.015281Z"
    },
    "papermill": {
     "duration": 0.142149,
     "end_time": "2021-04-19T05:44:14.015461",
     "exception": false,
     "start_time": "2021-04-19T05:44:13.873312",
     "status": "completed"
    },
    "tags": []
   },
   "outputs": [],
   "source": [
    "# CODE HERE"
   ]
  },
  {
   "cell_type": "code",
   "execution_count": null,
   "id": "continental-arthritis",
   "metadata": {
    "papermill": {
     "duration": 0.136563,
     "end_time": "2021-04-19T05:44:14.287866",
     "exception": false,
     "start_time": "2021-04-19T05:44:14.151303",
     "status": "completed"
    },
    "tags": []
   },
   "outputs": [],
   "source": []
  },
  {
   "cell_type": "code",
   "execution_count": null,
   "id": "clinical-bristol",
   "metadata": {
    "papermill": {
     "duration": 0.134866,
     "end_time": "2021-04-19T05:44:14.558586",
     "exception": false,
     "start_time": "2021-04-19T05:44:14.423720",
     "status": "completed"
    },
    "tags": []
   },
   "outputs": [],
   "source": []
  },
  {
   "cell_type": "markdown",
   "id": "relevant-separation",
   "metadata": {
    "papermill": {
     "duration": 0.134183,
     "end_time": "2021-04-19T05:44:14.827682",
     "exception": false,
     "start_time": "2021-04-19T05:44:14.693499",
     "status": "completed"
    },
    "tags": []
   },
   "source": [
    "**TASK: Create predictions from the X_test set and display a classification report and confusion matrix for the X_test set.**"
   ]
  },
  {
   "cell_type": "code",
   "execution_count": 60,
   "id": "strong-watershed",
   "metadata": {
    "execution": {
     "iopub.execute_input": "2021-04-19T05:44:15.101528Z",
     "iopub.status.busy": "2021-04-19T05:44:15.100903Z",
     "iopub.status.idle": "2021-04-19T05:44:15.103131Z",
     "shell.execute_reply": "2021-04-19T05:44:15.103607Z"
    },
    "papermill": {
     "duration": 0.141783,
     "end_time": "2021-04-19T05:44:15.103783",
     "exception": false,
     "start_time": "2021-04-19T05:44:14.962000",
     "status": "completed"
    },
    "tags": []
   },
   "outputs": [],
   "source": [
    "# CODE HERE"
   ]
  },
  {
   "cell_type": "code",
   "execution_count": null,
   "id": "established-cancellation",
   "metadata": {
    "papermill": {
     "duration": 0.135688,
     "end_time": "2021-04-19T05:44:15.374811",
     "exception": false,
     "start_time": "2021-04-19T05:44:15.239123",
     "status": "completed"
    },
    "tags": []
   },
   "outputs": [],
   "source": []
  },
  {
   "cell_type": "code",
   "execution_count": null,
   "id": "molecular-circle",
   "metadata": {
    "papermill": {
     "duration": 0.135119,
     "end_time": "2021-04-19T05:44:15.644575",
     "exception": false,
     "start_time": "2021-04-19T05:44:15.509456",
     "status": "completed"
    },
    "tags": []
   },
   "outputs": [],
   "source": []
  },
  {
   "cell_type": "code",
   "execution_count": null,
   "id": "solved-international",
   "metadata": {
    "papermill": {
     "duration": 0.153534,
     "end_time": "2021-04-19T05:44:15.948648",
     "exception": false,
     "start_time": "2021-04-19T05:44:15.795114",
     "status": "completed"
    },
    "tags": []
   },
   "outputs": [],
   "source": []
  },
  {
   "cell_type": "code",
   "execution_count": null,
   "id": "patent-british",
   "metadata": {
    "papermill": {
     "duration": 0.135846,
     "end_time": "2021-04-19T05:44:16.229214",
     "exception": false,
     "start_time": "2021-04-19T05:44:16.093368",
     "status": "completed"
    },
    "tags": []
   },
   "outputs": [],
   "source": []
  },
  {
   "cell_type": "markdown",
   "id": "pursuant-frederick",
   "metadata": {
    "papermill": {
     "duration": 0.138752,
     "end_time": "2021-04-19T05:44:16.504880",
     "exception": false,
     "start_time": "2021-04-19T05:44:16.366128",
     "status": "completed"
    },
    "tags": []
   },
   "source": [
    "**TASK: Given the customer below, would you offer this person a loan?**"
   ]
  },
  {
   "cell_type": "code",
   "execution_count": 61,
   "id": "infectious-print",
   "metadata": {
    "execution": {
     "iopub.execute_input": "2021-04-19T05:44:16.824979Z",
     "iopub.status.busy": "2021-04-19T05:44:16.824231Z",
     "iopub.status.idle": "2021-04-19T05:44:17.186083Z",
     "shell.execute_reply": "2021-04-19T05:44:17.186838Z"
    },
    "papermill": {
     "duration": 0.546052,
     "end_time": "2021-04-19T05:44:17.187085",
     "exception": false,
     "start_time": "2021-04-19T05:44:16.641033",
     "status": "completed"
    },
    "tags": []
   },
   "outputs": [
    {
     "ename": "KeyError",
     "evalue": "\"['loan_repaid'] not found in axis\"",
     "output_type": "error",
     "traceback": [
      "\u001b[0;31m---------------------------------------------------------------------------\u001b[0m",
      "\u001b[0;31mKeyError\u001b[0m                                  Traceback (most recent call last)",
      "\u001b[0;32m<ipython-input-61-1419587140f9>\u001b[0m in \u001b[0;36m<module>\u001b[0;34m\u001b[0m\n\u001b[1;32m      3\u001b[0m \u001b[0mrandom_ind\u001b[0m \u001b[0;34m=\u001b[0m \u001b[0mrandom\u001b[0m\u001b[0;34m.\u001b[0m\u001b[0mrandint\u001b[0m\u001b[0;34m(\u001b[0m\u001b[0;36m0\u001b[0m\u001b[0;34m,\u001b[0m\u001b[0mlen\u001b[0m\u001b[0;34m(\u001b[0m\u001b[0mdf\u001b[0m\u001b[0;34m)\u001b[0m\u001b[0;34m)\u001b[0m\u001b[0;34m\u001b[0m\u001b[0;34m\u001b[0m\u001b[0m\n\u001b[1;32m      4\u001b[0m \u001b[0;34m\u001b[0m\u001b[0m\n\u001b[0;32m----> 5\u001b[0;31m \u001b[0mnew_customer\u001b[0m \u001b[0;34m=\u001b[0m \u001b[0mdf\u001b[0m\u001b[0;34m.\u001b[0m\u001b[0mdrop\u001b[0m\u001b[0;34m(\u001b[0m\u001b[0;34m'loan_repaid'\u001b[0m\u001b[0;34m,\u001b[0m\u001b[0maxis\u001b[0m\u001b[0;34m=\u001b[0m\u001b[0;36m1\u001b[0m\u001b[0;34m)\u001b[0m\u001b[0;34m.\u001b[0m\u001b[0miloc\u001b[0m\u001b[0;34m[\u001b[0m\u001b[0mrandom_ind\u001b[0m\u001b[0;34m]\u001b[0m\u001b[0;34m\u001b[0m\u001b[0;34m\u001b[0m\u001b[0m\n\u001b[0m\u001b[1;32m      6\u001b[0m \u001b[0mnew_customer\u001b[0m\u001b[0;34m\u001b[0m\u001b[0;34m\u001b[0m\u001b[0m\n",
      "\u001b[0;32m/opt/conda/lib/python3.7/site-packages/pandas/core/frame.py\u001b[0m in \u001b[0;36mdrop\u001b[0;34m(self, labels, axis, index, columns, level, inplace, errors)\u001b[0m\n\u001b[1;32m   4310\u001b[0m             \u001b[0mlevel\u001b[0m\u001b[0;34m=\u001b[0m\u001b[0mlevel\u001b[0m\u001b[0;34m,\u001b[0m\u001b[0;34m\u001b[0m\u001b[0;34m\u001b[0m\u001b[0m\n\u001b[1;32m   4311\u001b[0m             \u001b[0minplace\u001b[0m\u001b[0;34m=\u001b[0m\u001b[0minplace\u001b[0m\u001b[0;34m,\u001b[0m\u001b[0;34m\u001b[0m\u001b[0;34m\u001b[0m\u001b[0m\n\u001b[0;32m-> 4312\u001b[0;31m             \u001b[0merrors\u001b[0m\u001b[0;34m=\u001b[0m\u001b[0merrors\u001b[0m\u001b[0;34m,\u001b[0m\u001b[0;34m\u001b[0m\u001b[0;34m\u001b[0m\u001b[0m\n\u001b[0m\u001b[1;32m   4313\u001b[0m         )\n\u001b[1;32m   4314\u001b[0m \u001b[0;34m\u001b[0m\u001b[0m\n",
      "\u001b[0;32m/opt/conda/lib/python3.7/site-packages/pandas/core/generic.py\u001b[0m in \u001b[0;36mdrop\u001b[0;34m(self, labels, axis, index, columns, level, inplace, errors)\u001b[0m\n\u001b[1;32m   4150\u001b[0m         \u001b[0;32mfor\u001b[0m \u001b[0maxis\u001b[0m\u001b[0;34m,\u001b[0m \u001b[0mlabels\u001b[0m \u001b[0;32min\u001b[0m \u001b[0maxes\u001b[0m\u001b[0;34m.\u001b[0m\u001b[0mitems\u001b[0m\u001b[0;34m(\u001b[0m\u001b[0;34m)\u001b[0m\u001b[0;34m:\u001b[0m\u001b[0;34m\u001b[0m\u001b[0;34m\u001b[0m\u001b[0m\n\u001b[1;32m   4151\u001b[0m             \u001b[0;32mif\u001b[0m \u001b[0mlabels\u001b[0m \u001b[0;32mis\u001b[0m \u001b[0;32mnot\u001b[0m \u001b[0;32mNone\u001b[0m\u001b[0;34m:\u001b[0m\u001b[0;34m\u001b[0m\u001b[0;34m\u001b[0m\u001b[0m\n\u001b[0;32m-> 4152\u001b[0;31m                 \u001b[0mobj\u001b[0m \u001b[0;34m=\u001b[0m \u001b[0mobj\u001b[0m\u001b[0;34m.\u001b[0m\u001b[0m_drop_axis\u001b[0m\u001b[0;34m(\u001b[0m\u001b[0mlabels\u001b[0m\u001b[0;34m,\u001b[0m \u001b[0maxis\u001b[0m\u001b[0;34m,\u001b[0m \u001b[0mlevel\u001b[0m\u001b[0;34m=\u001b[0m\u001b[0mlevel\u001b[0m\u001b[0;34m,\u001b[0m \u001b[0merrors\u001b[0m\u001b[0;34m=\u001b[0m\u001b[0merrors\u001b[0m\u001b[0;34m)\u001b[0m\u001b[0;34m\u001b[0m\u001b[0;34m\u001b[0m\u001b[0m\n\u001b[0m\u001b[1;32m   4153\u001b[0m \u001b[0;34m\u001b[0m\u001b[0m\n\u001b[1;32m   4154\u001b[0m         \u001b[0;32mif\u001b[0m \u001b[0minplace\u001b[0m\u001b[0;34m:\u001b[0m\u001b[0;34m\u001b[0m\u001b[0;34m\u001b[0m\u001b[0m\n",
      "\u001b[0;32m/opt/conda/lib/python3.7/site-packages/pandas/core/generic.py\u001b[0m in \u001b[0;36m_drop_axis\u001b[0;34m(self, labels, axis, level, errors)\u001b[0m\n\u001b[1;32m   4185\u001b[0m                 \u001b[0mnew_axis\u001b[0m \u001b[0;34m=\u001b[0m \u001b[0maxis\u001b[0m\u001b[0;34m.\u001b[0m\u001b[0mdrop\u001b[0m\u001b[0;34m(\u001b[0m\u001b[0mlabels\u001b[0m\u001b[0;34m,\u001b[0m \u001b[0mlevel\u001b[0m\u001b[0;34m=\u001b[0m\u001b[0mlevel\u001b[0m\u001b[0;34m,\u001b[0m \u001b[0merrors\u001b[0m\u001b[0;34m=\u001b[0m\u001b[0merrors\u001b[0m\u001b[0;34m)\u001b[0m\u001b[0;34m\u001b[0m\u001b[0;34m\u001b[0m\u001b[0m\n\u001b[1;32m   4186\u001b[0m             \u001b[0;32melse\u001b[0m\u001b[0;34m:\u001b[0m\u001b[0;34m\u001b[0m\u001b[0;34m\u001b[0m\u001b[0m\n\u001b[0;32m-> 4187\u001b[0;31m                 \u001b[0mnew_axis\u001b[0m \u001b[0;34m=\u001b[0m \u001b[0maxis\u001b[0m\u001b[0;34m.\u001b[0m\u001b[0mdrop\u001b[0m\u001b[0;34m(\u001b[0m\u001b[0mlabels\u001b[0m\u001b[0;34m,\u001b[0m \u001b[0merrors\u001b[0m\u001b[0;34m=\u001b[0m\u001b[0merrors\u001b[0m\u001b[0;34m)\u001b[0m\u001b[0;34m\u001b[0m\u001b[0;34m\u001b[0m\u001b[0m\n\u001b[0m\u001b[1;32m   4188\u001b[0m             \u001b[0mresult\u001b[0m \u001b[0;34m=\u001b[0m \u001b[0mself\u001b[0m\u001b[0;34m.\u001b[0m\u001b[0mreindex\u001b[0m\u001b[0;34m(\u001b[0m\u001b[0;34m**\u001b[0m\u001b[0;34m{\u001b[0m\u001b[0maxis_name\u001b[0m\u001b[0;34m:\u001b[0m \u001b[0mnew_axis\u001b[0m\u001b[0;34m}\u001b[0m\u001b[0;34m)\u001b[0m\u001b[0;34m\u001b[0m\u001b[0;34m\u001b[0m\u001b[0m\n\u001b[1;32m   4189\u001b[0m \u001b[0;34m\u001b[0m\u001b[0m\n",
      "\u001b[0;32m/opt/conda/lib/python3.7/site-packages/pandas/core/indexes/base.py\u001b[0m in \u001b[0;36mdrop\u001b[0;34m(self, labels, errors)\u001b[0m\n\u001b[1;32m   5589\u001b[0m         \u001b[0;32mif\u001b[0m \u001b[0mmask\u001b[0m\u001b[0;34m.\u001b[0m\u001b[0many\u001b[0m\u001b[0;34m(\u001b[0m\u001b[0;34m)\u001b[0m\u001b[0;34m:\u001b[0m\u001b[0;34m\u001b[0m\u001b[0;34m\u001b[0m\u001b[0m\n\u001b[1;32m   5590\u001b[0m             \u001b[0;32mif\u001b[0m \u001b[0merrors\u001b[0m \u001b[0;34m!=\u001b[0m \u001b[0;34m\"ignore\"\u001b[0m\u001b[0;34m:\u001b[0m\u001b[0;34m\u001b[0m\u001b[0;34m\u001b[0m\u001b[0m\n\u001b[0;32m-> 5591\u001b[0;31m                 \u001b[0;32mraise\u001b[0m \u001b[0mKeyError\u001b[0m\u001b[0;34m(\u001b[0m\u001b[0;34mf\"{labels[mask]} not found in axis\"\u001b[0m\u001b[0;34m)\u001b[0m\u001b[0;34m\u001b[0m\u001b[0;34m\u001b[0m\u001b[0m\n\u001b[0m\u001b[1;32m   5592\u001b[0m             \u001b[0mindexer\u001b[0m \u001b[0;34m=\u001b[0m \u001b[0mindexer\u001b[0m\u001b[0;34m[\u001b[0m\u001b[0;34m~\u001b[0m\u001b[0mmask\u001b[0m\u001b[0;34m]\u001b[0m\u001b[0;34m\u001b[0m\u001b[0;34m\u001b[0m\u001b[0m\n\u001b[1;32m   5593\u001b[0m         \u001b[0;32mreturn\u001b[0m \u001b[0mself\u001b[0m\u001b[0;34m.\u001b[0m\u001b[0mdelete\u001b[0m\u001b[0;34m(\u001b[0m\u001b[0mindexer\u001b[0m\u001b[0;34m)\u001b[0m\u001b[0;34m\u001b[0m\u001b[0;34m\u001b[0m\u001b[0m\n",
      "\u001b[0;31mKeyError\u001b[0m: \"['loan_repaid'] not found in axis\""
     ]
    }
   ],
   "source": [
    "import random\n",
    "random.seed(101)\n",
    "random_ind = random.randint(0,len(df))\n",
    "\n",
    "new_customer = df.drop('loan_repaid',axis=1).iloc[random_ind]\n",
    "new_customer"
   ]
  },
  {
   "cell_type": "code",
   "execution_count": 62,
   "id": "postal-company",
   "metadata": {
    "execution": {
     "iopub.execute_input": "2021-04-19T05:44:17.462742Z",
     "iopub.status.busy": "2021-04-19T05:44:17.462093Z",
     "iopub.status.idle": "2021-04-19T05:44:17.465822Z",
     "shell.execute_reply": "2021-04-19T05:44:17.466298Z"
    },
    "papermill": {
     "duration": 0.14368,
     "end_time": "2021-04-19T05:44:17.466472",
     "exception": false,
     "start_time": "2021-04-19T05:44:17.322792",
     "status": "completed"
    },
    "tags": []
   },
   "outputs": [],
   "source": [
    "# CODE HERE"
   ]
  },
  {
   "cell_type": "code",
   "execution_count": null,
   "id": "white-tribute",
   "metadata": {
    "papermill": {
     "duration": 0.150402,
     "end_time": "2021-04-19T05:44:17.752903",
     "exception": false,
     "start_time": "2021-04-19T05:44:17.602501",
     "status": "completed"
    },
    "tags": []
   },
   "outputs": [],
   "source": []
  },
  {
   "cell_type": "markdown",
   "id": "blocked-discretion",
   "metadata": {
    "papermill": {
     "duration": 0.137858,
     "end_time": "2021-04-19T05:44:18.046881",
     "exception": false,
     "start_time": "2021-04-19T05:44:17.909023",
     "status": "completed"
    },
    "tags": []
   },
   "source": [
    "**TASK: Now check, did this person actually end up paying back their loan?**"
   ]
  },
  {
   "cell_type": "code",
   "execution_count": 63,
   "id": "union-words",
   "metadata": {
    "execution": {
     "iopub.execute_input": "2021-04-19T05:44:18.324100Z",
     "iopub.status.busy": "2021-04-19T05:44:18.323420Z",
     "iopub.status.idle": "2021-04-19T05:44:18.326653Z",
     "shell.execute_reply": "2021-04-19T05:44:18.327150Z"
    },
    "papermill": {
     "duration": 0.143649,
     "end_time": "2021-04-19T05:44:18.327327",
     "exception": false,
     "start_time": "2021-04-19T05:44:18.183678",
     "status": "completed"
    },
    "tags": []
   },
   "outputs": [],
   "source": [
    "# CODE HERE"
   ]
  },
  {
   "cell_type": "code",
   "execution_count": null,
   "id": "diagnostic-bridal",
   "metadata": {
    "papermill": {
     "duration": 0.137329,
     "end_time": "2021-04-19T05:44:18.603217",
     "exception": false,
     "start_time": "2021-04-19T05:44:18.465888",
     "status": "completed"
    },
    "tags": []
   },
   "outputs": [],
   "source": []
  },
  {
   "cell_type": "markdown",
   "id": "graduate-neighborhood",
   "metadata": {
    "papermill": {
     "duration": 0.135848,
     "end_time": "2021-04-19T05:44:18.876676",
     "exception": false,
     "start_time": "2021-04-19T05:44:18.740828",
     "status": "completed"
    },
    "tags": []
   },
   "source": [
    "# GREAT JOB!"
   ]
  }
 ],
 "metadata": {
  "kernelspec": {
   "display_name": "Python 3",
   "language": "python",
   "name": "python3"
  },
  "language_info": {
   "codemirror_mode": {
    "name": "ipython",
    "version": 3
   },
   "file_extension": ".py",
   "mimetype": "text/x-python",
   "name": "python",
   "nbconvert_exporter": "python",
   "pygments_lexer": "ipython3",
   "version": "3.7.9"
  },
  "papermill": {
   "default_parameters": {},
   "duration": 78.331831,
   "end_time": "2021-04-19T05:44:20.125470",
   "environment_variables": {},
   "exception": null,
   "input_path": "__notebook__.ipynb",
   "output_path": "__notebook__.ipynb",
   "parameters": {},
   "start_time": "2021-04-19T05:43:01.793639",
   "version": "2.3.2"
  }
 },
 "nbformat": 4,
 "nbformat_minor": 5
}
