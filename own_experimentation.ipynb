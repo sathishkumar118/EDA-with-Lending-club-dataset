{
 "cells": [
  {
   "cell_type": "markdown",
   "id": "impressive-baltimore",
   "metadata": {
    "papermill": {
     "duration": 0.073011,
     "end_time": "2021-05-02T16:44:35.773963",
     "exception": false,
     "start_time": "2021-05-02T16:44:35.700952",
     "status": "completed"
    },
    "tags": []
   },
   "source": [
    "## Assessing the likelihood of paying back the loan for a peer-to-peer Lending company\n",
    "\n",
    "## The Data\n",
    "We will be using a subset of the LendingClub DataSet obtained from Kaggle: https://www.kaggle.com/hadiyad/lendingclub-data-sets\n",
    "\n",
    "LendingClub is a US peer-to-peer lending company.\n",
    "\n",
    "### Goal\n",
    "\n",
    "Given historical data on loans given out with information on whether or not the borrower defaulted (charge-off), can we build a model that can predict wether or nor a borrower will pay back their loan? This way in the future when the company gets a new potential customer,can assess whether or not they are likely to pay back the  loan.\n",
    "\n",
    "The \"loan_status\" column contains the desired label."
   ]
  },
  {
   "cell_type": "markdown",
   "id": "looking-illness",
   "metadata": {
    "papermill": {
     "duration": 0.072149,
     "end_time": "2021-05-02T16:44:35.918425",
     "exception": false,
     "start_time": "2021-05-02T16:44:35.846276",
     "status": "completed"
    },
    "tags": []
   },
   "source": [
    "\n",
    "\n",
    "#### Importing necesarry libraries and Loading the info file which has the description for each column in the original dataset and "
   ]
  },
  {
   "cell_type": "code",
   "execution_count": 1,
   "id": "anticipated-satin",
   "metadata": {
    "execution": {
     "iopub.execute_input": "2021-05-02T16:44:36.069667Z",
     "iopub.status.busy": "2021-05-02T16:44:36.069013Z",
     "iopub.status.idle": "2021-05-02T16:44:36.833110Z",
     "shell.execute_reply": "2021-05-02T16:44:36.832273Z"
    },
    "papermill": {
     "duration": 0.842808,
     "end_time": "2021-05-02T16:44:36.833282",
     "exception": false,
     "start_time": "2021-05-02T16:44:35.990474",
     "status": "completed"
    },
    "tags": []
   },
   "outputs": [],
   "source": [
    "#Importing the basic libraries needed for EDA\n",
    "import pandas as pd\n",
    "import numpy as np\n",
    "import matplotlib.pyplot as plt\n",
    "import seaborn as sns\n",
    "\n",
    "#To store the plot images in the notebook document using inline commands.\n",
    "%matplotlib inline\n",
    "data_info = pd.read_csv('../input/lendingclub-data-sets/lending_club_info.csv',index_col='LoanStatNew')"
   ]
  },
  {
   "cell_type": "markdown",
   "id": "hungarian-cartridge",
   "metadata": {
    "papermill": {
     "duration": 0.071985,
     "end_time": "2021-05-02T16:44:36.978464",
     "exception": false,
     "start_time": "2021-05-02T16:44:36.906479",
     "status": "completed"
    },
    "tags": []
   },
   "source": [
    "# **Data Overview**\n",
    "#### There are many LendingClub data sets on Kaggle. Lets have a look at the information on this particular data set:"
   ]
  },
  {
   "cell_type": "code",
   "execution_count": 2,
   "id": "textile-infection",
   "metadata": {
    "execution": {
     "iopub.execute_input": "2021-05-02T16:44:37.126792Z",
     "iopub.status.busy": "2021-05-02T16:44:37.126300Z",
     "iopub.status.idle": "2021-05-02T16:44:37.267463Z",
     "shell.execute_reply": "2021-05-02T16:44:37.267049Z"
    },
    "papermill": {
     "duration": 0.21667,
     "end_time": "2021-05-02T16:44:37.267583",
     "exception": false,
     "start_time": "2021-05-02T16:44:37.050913",
     "status": "completed"
    },
    "tags": []
   },
   "outputs": [
    {
     "data": {
      "text/html": [
       "<style  type=\"text/css\" >\n",
       "#T_ae7f072c_ab65_11eb_83ba_0242ac130202row0_col0,#T_ae7f072c_ab65_11eb_83ba_0242ac130202row1_col0,#T_ae7f072c_ab65_11eb_83ba_0242ac130202row2_col0,#T_ae7f072c_ab65_11eb_83ba_0242ac130202row3_col0,#T_ae7f072c_ab65_11eb_83ba_0242ac130202row4_col0,#T_ae7f072c_ab65_11eb_83ba_0242ac130202row5_col0,#T_ae7f072c_ab65_11eb_83ba_0242ac130202row6_col0,#T_ae7f072c_ab65_11eb_83ba_0242ac130202row7_col0,#T_ae7f072c_ab65_11eb_83ba_0242ac130202row8_col0,#T_ae7f072c_ab65_11eb_83ba_0242ac130202row9_col0,#T_ae7f072c_ab65_11eb_83ba_0242ac130202row10_col0,#T_ae7f072c_ab65_11eb_83ba_0242ac130202row11_col0,#T_ae7f072c_ab65_11eb_83ba_0242ac130202row12_col0,#T_ae7f072c_ab65_11eb_83ba_0242ac130202row13_col0,#T_ae7f072c_ab65_11eb_83ba_0242ac130202row14_col0,#T_ae7f072c_ab65_11eb_83ba_0242ac130202row15_col0,#T_ae7f072c_ab65_11eb_83ba_0242ac130202row16_col0,#T_ae7f072c_ab65_11eb_83ba_0242ac130202row17_col0,#T_ae7f072c_ab65_11eb_83ba_0242ac130202row18_col0,#T_ae7f072c_ab65_11eb_83ba_0242ac130202row19_col0,#T_ae7f072c_ab65_11eb_83ba_0242ac130202row20_col0,#T_ae7f072c_ab65_11eb_83ba_0242ac130202row21_col0,#T_ae7f072c_ab65_11eb_83ba_0242ac130202row22_col0,#T_ae7f072c_ab65_11eb_83ba_0242ac130202row23_col0,#T_ae7f072c_ab65_11eb_83ba_0242ac130202row24_col0,#T_ae7f072c_ab65_11eb_83ba_0242ac130202row25_col0,#T_ae7f072c_ab65_11eb_83ba_0242ac130202row26_col0,#T_ae7f072c_ab65_11eb_83ba_0242ac130202row27_col0{\n",
       "            text-align:  left;\n",
       "        }</style><table id=\"T_ae7f072c_ab65_11eb_83ba_0242ac130202\" ><thead>    <tr>        <th class=\"blank level0\" ></th>        <th class=\"col_heading level0 col0\" >Description</th>    </tr>    <tr>        <th class=\"index_name level0\" >LoanStatNew</th>        <th class=\"blank\" ></th>    </tr></thead><tbody>\n",
       "                <tr>\n",
       "                        <th id=\"T_ae7f072c_ab65_11eb_83ba_0242ac130202level0_row0\" class=\"row_heading level0 row0\" >loan_amnt</th>\n",
       "                        <td id=\"T_ae7f072c_ab65_11eb_83ba_0242ac130202row0_col0\" class=\"data row0 col0\" >The listed amount of the loan applied for by the borrower. If at some point in time, the credit department reduces the loan amount, then it will be reflected in this value.</td>\n",
       "            </tr>\n",
       "            <tr>\n",
       "                        <th id=\"T_ae7f072c_ab65_11eb_83ba_0242ac130202level0_row1\" class=\"row_heading level0 row1\" >term</th>\n",
       "                        <td id=\"T_ae7f072c_ab65_11eb_83ba_0242ac130202row1_col0\" class=\"data row1 col0\" >The number of payments on the loan. Values are in months and can be either 36 or 60.</td>\n",
       "            </tr>\n",
       "            <tr>\n",
       "                        <th id=\"T_ae7f072c_ab65_11eb_83ba_0242ac130202level0_row2\" class=\"row_heading level0 row2\" >int_rate</th>\n",
       "                        <td id=\"T_ae7f072c_ab65_11eb_83ba_0242ac130202row2_col0\" class=\"data row2 col0\" >Interest Rate on the loan</td>\n",
       "            </tr>\n",
       "            <tr>\n",
       "                        <th id=\"T_ae7f072c_ab65_11eb_83ba_0242ac130202level0_row3\" class=\"row_heading level0 row3\" >installment</th>\n",
       "                        <td id=\"T_ae7f072c_ab65_11eb_83ba_0242ac130202row3_col0\" class=\"data row3 col0\" >The monthly payment owed by the borrower if the loan originates.</td>\n",
       "            </tr>\n",
       "            <tr>\n",
       "                        <th id=\"T_ae7f072c_ab65_11eb_83ba_0242ac130202level0_row4\" class=\"row_heading level0 row4\" >grade</th>\n",
       "                        <td id=\"T_ae7f072c_ab65_11eb_83ba_0242ac130202row4_col0\" class=\"data row4 col0\" >LC assigned loan grade</td>\n",
       "            </tr>\n",
       "            <tr>\n",
       "                        <th id=\"T_ae7f072c_ab65_11eb_83ba_0242ac130202level0_row5\" class=\"row_heading level0 row5\" >sub_grade</th>\n",
       "                        <td id=\"T_ae7f072c_ab65_11eb_83ba_0242ac130202row5_col0\" class=\"data row5 col0\" >LC assigned loan subgrade</td>\n",
       "            </tr>\n",
       "            <tr>\n",
       "                        <th id=\"T_ae7f072c_ab65_11eb_83ba_0242ac130202level0_row6\" class=\"row_heading level0 row6\" >emp_title</th>\n",
       "                        <td id=\"T_ae7f072c_ab65_11eb_83ba_0242ac130202row6_col0\" class=\"data row6 col0\" >The job title supplied by the Borrower when applying for the loan.*</td>\n",
       "            </tr>\n",
       "            <tr>\n",
       "                        <th id=\"T_ae7f072c_ab65_11eb_83ba_0242ac130202level0_row7\" class=\"row_heading level0 row7\" >emp_length</th>\n",
       "                        <td id=\"T_ae7f072c_ab65_11eb_83ba_0242ac130202row7_col0\" class=\"data row7 col0\" >Employment length in years. Possible values are between 0 and 10 where 0 means less than one year and 10 means ten or more years. </td>\n",
       "            </tr>\n",
       "            <tr>\n",
       "                        <th id=\"T_ae7f072c_ab65_11eb_83ba_0242ac130202level0_row8\" class=\"row_heading level0 row8\" >home_ownership</th>\n",
       "                        <td id=\"T_ae7f072c_ab65_11eb_83ba_0242ac130202row8_col0\" class=\"data row8 col0\" >The home ownership status provided by the borrower during registration or obtained from the credit report. Our values are: RENT, OWN, MORTGAGE, OTHER</td>\n",
       "            </tr>\n",
       "            <tr>\n",
       "                        <th id=\"T_ae7f072c_ab65_11eb_83ba_0242ac130202level0_row9\" class=\"row_heading level0 row9\" >annual_inc</th>\n",
       "                        <td id=\"T_ae7f072c_ab65_11eb_83ba_0242ac130202row9_col0\" class=\"data row9 col0\" >The self-reported annual income provided by the borrower during registration.</td>\n",
       "            </tr>\n",
       "            <tr>\n",
       "                        <th id=\"T_ae7f072c_ab65_11eb_83ba_0242ac130202level0_row10\" class=\"row_heading level0 row10\" >verification_status</th>\n",
       "                        <td id=\"T_ae7f072c_ab65_11eb_83ba_0242ac130202row10_col0\" class=\"data row10 col0\" >Indicates if income was verified by LC, not verified, or if the income source was verified</td>\n",
       "            </tr>\n",
       "            <tr>\n",
       "                        <th id=\"T_ae7f072c_ab65_11eb_83ba_0242ac130202level0_row11\" class=\"row_heading level0 row11\" >issue_d</th>\n",
       "                        <td id=\"T_ae7f072c_ab65_11eb_83ba_0242ac130202row11_col0\" class=\"data row11 col0\" >The month which the loan was funded</td>\n",
       "            </tr>\n",
       "            <tr>\n",
       "                        <th id=\"T_ae7f072c_ab65_11eb_83ba_0242ac130202level0_row12\" class=\"row_heading level0 row12\" >loan_status</th>\n",
       "                        <td id=\"T_ae7f072c_ab65_11eb_83ba_0242ac130202row12_col0\" class=\"data row12 col0\" >Current status of the loan</td>\n",
       "            </tr>\n",
       "            <tr>\n",
       "                        <th id=\"T_ae7f072c_ab65_11eb_83ba_0242ac130202level0_row13\" class=\"row_heading level0 row13\" >purpose</th>\n",
       "                        <td id=\"T_ae7f072c_ab65_11eb_83ba_0242ac130202row13_col0\" class=\"data row13 col0\" >A category provided by the borrower for the loan request. </td>\n",
       "            </tr>\n",
       "            <tr>\n",
       "                        <th id=\"T_ae7f072c_ab65_11eb_83ba_0242ac130202level0_row14\" class=\"row_heading level0 row14\" >title</th>\n",
       "                        <td id=\"T_ae7f072c_ab65_11eb_83ba_0242ac130202row14_col0\" class=\"data row14 col0\" >The loan title provided by the borrower</td>\n",
       "            </tr>\n",
       "            <tr>\n",
       "                        <th id=\"T_ae7f072c_ab65_11eb_83ba_0242ac130202level0_row15\" class=\"row_heading level0 row15\" >zip_code</th>\n",
       "                        <td id=\"T_ae7f072c_ab65_11eb_83ba_0242ac130202row15_col0\" class=\"data row15 col0\" >The first 3 numbers of the zip code provided by the borrower in the loan application.</td>\n",
       "            </tr>\n",
       "            <tr>\n",
       "                        <th id=\"T_ae7f072c_ab65_11eb_83ba_0242ac130202level0_row16\" class=\"row_heading level0 row16\" >addr_state</th>\n",
       "                        <td id=\"T_ae7f072c_ab65_11eb_83ba_0242ac130202row16_col0\" class=\"data row16 col0\" >The state provided by the borrower in the loan application</td>\n",
       "            </tr>\n",
       "            <tr>\n",
       "                        <th id=\"T_ae7f072c_ab65_11eb_83ba_0242ac130202level0_row17\" class=\"row_heading level0 row17\" >dti</th>\n",
       "                        <td id=\"T_ae7f072c_ab65_11eb_83ba_0242ac130202row17_col0\" class=\"data row17 col0\" >A ratio calculated using the borrower’s total monthly debt payments on the total debt obligations, excluding mortgage and the requested LC loan, divided by the borrower’s self-reported monthly income.</td>\n",
       "            </tr>\n",
       "            <tr>\n",
       "                        <th id=\"T_ae7f072c_ab65_11eb_83ba_0242ac130202level0_row18\" class=\"row_heading level0 row18\" >earliest_cr_line</th>\n",
       "                        <td id=\"T_ae7f072c_ab65_11eb_83ba_0242ac130202row18_col0\" class=\"data row18 col0\" >The month the borrower's earliest reported credit line was opened</td>\n",
       "            </tr>\n",
       "            <tr>\n",
       "                        <th id=\"T_ae7f072c_ab65_11eb_83ba_0242ac130202level0_row19\" class=\"row_heading level0 row19\" >open_acc</th>\n",
       "                        <td id=\"T_ae7f072c_ab65_11eb_83ba_0242ac130202row19_col0\" class=\"data row19 col0\" >The number of open credit lines in the borrower's credit file.</td>\n",
       "            </tr>\n",
       "            <tr>\n",
       "                        <th id=\"T_ae7f072c_ab65_11eb_83ba_0242ac130202level0_row20\" class=\"row_heading level0 row20\" >pub_rec</th>\n",
       "                        <td id=\"T_ae7f072c_ab65_11eb_83ba_0242ac130202row20_col0\" class=\"data row20 col0\" >Number of derogatory public records</td>\n",
       "            </tr>\n",
       "            <tr>\n",
       "                        <th id=\"T_ae7f072c_ab65_11eb_83ba_0242ac130202level0_row21\" class=\"row_heading level0 row21\" >revol_bal</th>\n",
       "                        <td id=\"T_ae7f072c_ab65_11eb_83ba_0242ac130202row21_col0\" class=\"data row21 col0\" >Total credit revolving balance</td>\n",
       "            </tr>\n",
       "            <tr>\n",
       "                        <th id=\"T_ae7f072c_ab65_11eb_83ba_0242ac130202level0_row22\" class=\"row_heading level0 row22\" >revol_util</th>\n",
       "                        <td id=\"T_ae7f072c_ab65_11eb_83ba_0242ac130202row22_col0\" class=\"data row22 col0\" >Revolving line utilization rate, or the amount of credit the borrower is using relative to all available revolving credit.</td>\n",
       "            </tr>\n",
       "            <tr>\n",
       "                        <th id=\"T_ae7f072c_ab65_11eb_83ba_0242ac130202level0_row23\" class=\"row_heading level0 row23\" >total_acc</th>\n",
       "                        <td id=\"T_ae7f072c_ab65_11eb_83ba_0242ac130202row23_col0\" class=\"data row23 col0\" >The total number of credit lines currently in the borrower's credit file</td>\n",
       "            </tr>\n",
       "            <tr>\n",
       "                        <th id=\"T_ae7f072c_ab65_11eb_83ba_0242ac130202level0_row24\" class=\"row_heading level0 row24\" >initial_list_status</th>\n",
       "                        <td id=\"T_ae7f072c_ab65_11eb_83ba_0242ac130202row24_col0\" class=\"data row24 col0\" >The initial listing status of the loan. Possible values are – W, F</td>\n",
       "            </tr>\n",
       "            <tr>\n",
       "                        <th id=\"T_ae7f072c_ab65_11eb_83ba_0242ac130202level0_row25\" class=\"row_heading level0 row25\" >application_type</th>\n",
       "                        <td id=\"T_ae7f072c_ab65_11eb_83ba_0242ac130202row25_col0\" class=\"data row25 col0\" >Indicates whether the loan is an individual application or a joint application with two co-borrowers</td>\n",
       "            </tr>\n",
       "            <tr>\n",
       "                        <th id=\"T_ae7f072c_ab65_11eb_83ba_0242ac130202level0_row26\" class=\"row_heading level0 row26\" >mort_acc</th>\n",
       "                        <td id=\"T_ae7f072c_ab65_11eb_83ba_0242ac130202row26_col0\" class=\"data row26 col0\" >Number of mortgage accounts.</td>\n",
       "            </tr>\n",
       "            <tr>\n",
       "                        <th id=\"T_ae7f072c_ab65_11eb_83ba_0242ac130202level0_row27\" class=\"row_heading level0 row27\" >pub_rec_bankruptcies</th>\n",
       "                        <td id=\"T_ae7f072c_ab65_11eb_83ba_0242ac130202row27_col0\" class=\"data row27 col0\" >Number of public record bankruptcies</td>\n",
       "            </tr>\n",
       "    </tbody></table>"
      ],
      "text/plain": [
       "<pandas.io.formats.style.Styler at 0x7f6def3c0850>"
      ]
     },
     "execution_count": 2,
     "metadata": {},
     "output_type": "execute_result"
    }
   ],
   "source": [
    "# aligning the data towards left to get full view of the description column \n",
    "data_info.style.set_properties(**{'text-align': 'left'})"
   ]
  },
  {
   "cell_type": "code",
   "execution_count": 3,
   "id": "still-murray",
   "metadata": {
    "execution": {
     "iopub.execute_input": "2021-05-02T16:44:37.420252Z",
     "iopub.status.busy": "2021-05-02T16:44:37.419702Z",
     "iopub.status.idle": "2021-05-02T16:44:37.422825Z",
     "shell.execute_reply": "2021-05-02T16:44:37.423417Z"
    },
    "papermill": {
     "duration": 0.082068,
     "end_time": "2021-05-02T16:44:37.423586",
     "exception": false,
     "start_time": "2021-05-02T16:44:37.341518",
     "status": "completed"
    },
    "tags": []
   },
   "outputs": [
    {
     "name": "stdout",
     "output_type": "stream",
     "text": [
      "Revolving line utilization rate, or the amount of credit the borrower is using relative to all available revolving credit.\n"
     ]
    }
   ],
   "source": [
    "print(data_info.loc['revol_util']['Description'])"
   ]
  },
  {
   "cell_type": "code",
   "execution_count": 4,
   "id": "trying-simon",
   "metadata": {
    "execution": {
     "iopub.execute_input": "2021-05-02T16:44:37.576283Z",
     "iopub.status.busy": "2021-05-02T16:44:37.575678Z",
     "iopub.status.idle": "2021-05-02T16:44:37.580973Z",
     "shell.execute_reply": "2021-05-02T16:44:37.580206Z"
    },
    "papermill": {
     "duration": 0.082746,
     "end_time": "2021-05-02T16:44:37.581116",
     "exception": false,
     "start_time": "2021-05-02T16:44:37.498370",
     "status": "completed"
    },
    "tags": []
   },
   "outputs": [
    {
     "name": "stdout",
     "output_type": "stream",
     "text": [
      "Number of mortgage accounts.\n"
     ]
    }
   ],
   "source": [
    "def feat_info(col_name):\n",
    "    print(data_info.loc[col_name]['Description'])\n",
    "feat_info('mort_acc')"
   ]
  },
  {
   "cell_type": "markdown",
   "id": "closed-theory",
   "metadata": {
    "papermill": {
     "duration": 0.073927,
     "end_time": "2021-05-02T16:44:37.729132",
     "exception": false,
     "start_time": "2021-05-02T16:44:37.655205",
     "status": "completed"
    },
    "tags": []
   },
   "source": [
    "### **Loading the dataset**"
   ]
  },
  {
   "cell_type": "code",
   "execution_count": 5,
   "id": "sudden-necklace",
   "metadata": {
    "execution": {
     "iopub.execute_input": "2021-05-02T16:44:37.882973Z",
     "iopub.status.busy": "2021-05-02T16:44:37.882425Z",
     "iopub.status.idle": "2021-05-02T16:44:40.835205Z",
     "shell.execute_reply": "2021-05-02T16:44:40.836172Z"
    },
    "papermill": {
     "duration": 3.033605,
     "end_time": "2021-05-02T16:44:40.836365",
     "exception": false,
     "start_time": "2021-05-02T16:44:37.802760",
     "status": "completed"
    },
    "tags": []
   },
   "outputs": [],
   "source": [
    "df = pd.read_csv('../input/lendingclub-data-sets/lending_club_loan_two.csv')"
   ]
  },
  {
   "cell_type": "code",
   "execution_count": 6,
   "id": "possible-pearl",
   "metadata": {
    "execution": {
     "iopub.execute_input": "2021-05-02T16:44:41.054869Z",
     "iopub.status.busy": "2021-05-02T16:44:41.054124Z",
     "iopub.status.idle": "2021-05-02T16:44:41.759806Z",
     "shell.execute_reply": "2021-05-02T16:44:41.760864Z"
    },
    "papermill": {
     "duration": 0.81037,
     "end_time": "2021-05-02T16:44:41.761080",
     "exception": false,
     "start_time": "2021-05-02T16:44:40.950710",
     "status": "completed"
    },
    "tags": []
   },
   "outputs": [
    {
     "name": "stdout",
     "output_type": "stream",
     "text": [
      "<class 'pandas.core.frame.DataFrame'>\n",
      "RangeIndex: 396030 entries, 0 to 396029\n",
      "Data columns (total 27 columns):\n",
      " #   Column                Non-Null Count   Dtype  \n",
      "---  ------                --------------   -----  \n",
      " 0   loan_amnt             396030 non-null  float64\n",
      " 1   term                  396030 non-null  object \n",
      " 2   int_rate              396030 non-null  float64\n",
      " 3   installment           396030 non-null  float64\n",
      " 4   grade                 396030 non-null  object \n",
      " 5   sub_grade             396030 non-null  object \n",
      " 6   emp_title             373103 non-null  object \n",
      " 7   emp_length            377729 non-null  object \n",
      " 8   home_ownership        396030 non-null  object \n",
      " 9   annual_inc            396030 non-null  float64\n",
      " 10  verification_status   396030 non-null  object \n",
      " 11  issue_d               396030 non-null  object \n",
      " 12  loan_status           396030 non-null  object \n",
      " 13  purpose               396030 non-null  object \n",
      " 14  title                 394275 non-null  object \n",
      " 15  dti                   396030 non-null  float64\n",
      " 16  earliest_cr_line      396030 non-null  object \n",
      " 17  open_acc              396030 non-null  float64\n",
      " 18  pub_rec               396030 non-null  float64\n",
      " 19  revol_bal             396030 non-null  float64\n",
      " 20  revol_util            395754 non-null  float64\n",
      " 21  total_acc             396030 non-null  float64\n",
      " 22  initial_list_status   396030 non-null  object \n",
      " 23  application_type      396030 non-null  object \n",
      " 24  mort_acc              358235 non-null  float64\n",
      " 25  pub_rec_bankruptcies  395495 non-null  float64\n",
      " 26  address               396030 non-null  object \n",
      "dtypes: float64(12), object(15)\n",
      "memory usage: 81.6+ MB\n"
     ]
    }
   ],
   "source": [
    "df.info()"
   ]
  },
  {
   "cell_type": "markdown",
   "id": "spoken-mileage",
   "metadata": {
    "papermill": {
     "duration": 0.123517,
     "end_time": "2021-05-02T16:44:42.012293",
     "exception": false,
     "start_time": "2021-05-02T16:44:41.888776",
     "status": "completed"
    },
    "tags": []
   },
   "source": [
    "## Exploratory Data Analysis\n",
    "\n",
    "We have to fetch an overall understanding on all the parameters to find which variables are important by viewing summary statistics and visualizing the data\n",
    "\n",
    "----"
   ]
  },
  {
   "cell_type": "markdown",
   "id": "foster-strike",
   "metadata": {
    "papermill": {
     "duration": 0.12229,
     "end_time": "2021-05-02T16:44:42.257713",
     "exception": false,
     "start_time": "2021-05-02T16:44:42.135423",
     "status": "completed"
    },
    "tags": []
   },
   "source": [
    "**Let's create a simple countplot in an attempt to predict loan_status.**"
   ]
  },
  {
   "cell_type": "code",
   "execution_count": 7,
   "id": "linear-knock",
   "metadata": {
    "execution": {
     "iopub.execute_input": "2021-05-02T16:44:42.552826Z",
     "iopub.status.busy": "2021-05-02T16:44:42.552303Z",
     "iopub.status.idle": "2021-05-02T16:44:43.010972Z",
     "shell.execute_reply": "2021-05-02T16:44:43.010112Z"
    },
    "papermill": {
     "duration": 0.63162,
     "end_time": "2021-05-02T16:44:43.011102",
     "exception": false,
     "start_time": "2021-05-02T16:44:42.379482",
     "status": "completed"
    },
    "tags": []
   },
   "outputs": [
    {
     "data": {
      "text/plain": [
       "<AxesSubplot:xlabel='loan_status', ylabel='count'>"
      ]
     },
     "execution_count": 7,
     "metadata": {},
     "output_type": "execute_result"
    },
    {
     "data": {
      "image/png": "[encoded data removed]",
      "text/plain": [
       "<Figure size 432x288 with 1 Axes>"
      ]
     },
     "metadata": {
      "needs_background": "light"
     },
     "output_type": "display_data"
    }
   ],
   "source": [
    "sns.countplot(x = \"loan_status\", data = df)"
   ]
  },
  {
   "cell_type": "markdown",
   "id": "heard-tactics",
   "metadata": {
    "papermill": {
     "duration": 0.076184,
     "end_time": "2021-05-02T16:44:43.163603",
     "exception": false,
     "start_time": "2021-05-02T16:44:43.087419",
     "status": "completed"
    },
    "tags": []
   },
   "source": [
    "**Let's create a histogram plot on loan_amnt column.**"
   ]
  },
  {
   "cell_type": "code",
   "execution_count": 8,
   "id": "limited-pleasure",
   "metadata": {
    "execution": {
     "iopub.execute_input": "2021-05-02T16:44:43.331709Z",
     "iopub.status.busy": "2021-05-02T16:44:43.330903Z",
     "iopub.status.idle": "2021-05-02T16:44:43.618741Z",
     "shell.execute_reply": "2021-05-02T16:44:43.618317Z"
    },
    "papermill": {
     "duration": 0.379019,
     "end_time": "2021-05-02T16:44:43.618882",
     "exception": false,
     "start_time": "2021-05-02T16:44:43.239863",
     "status": "completed"
    },
    "tags": []
   },
   "outputs": [
    {
     "data": {
      "image/png": "[encoded data removed]",
      "text/plain": [
       "<Figure size 1440x720 with 1 Axes>"
      ]
     },
     "metadata": {
      "needs_background": "light"
     },
     "output_type": "display_data"
    }
   ],
   "source": [
    "fig,ax = plt.subplots(figsize = (20,10))\n",
    "g = sns.histplot(ax = ax,x = 'loan_amnt', data = df,bins = 45)"
   ]
  },
  {
   "cell_type": "markdown",
   "id": "sublime-separate",
   "metadata": {
    "papermill": {
     "duration": 0.077361,
     "end_time": "2021-05-02T16:44:43.773119",
     "exception": false,
     "start_time": "2021-05-02T16:44:43.695758",
     "status": "completed"
    },
    "tags": []
   },
   "source": [
    "**Let's explore correlation between the continuous feature variables. This can be done by calling the method corr()**"
   ]
  },
  {
   "cell_type": "code",
   "execution_count": 9,
   "id": "valid-string",
   "metadata": {
    "execution": {
     "iopub.execute_input": "2021-05-02T16:44:43.932883Z",
     "iopub.status.busy": "2021-05-02T16:44:43.931718Z",
     "iopub.status.idle": "2021-05-02T16:44:44.099385Z",
     "shell.execute_reply": "2021-05-02T16:44:44.099796Z"
    },
    "papermill": {
     "duration": 0.24902,
     "end_time": "2021-05-02T16:44:44.099956",
     "exception": false,
     "start_time": "2021-05-02T16:44:43.850936",
     "status": "completed"
    },
    "tags": []
   },
   "outputs": [
    {
     "data": {
      "text/html": [
       "<div>\n",
       "<style scoped>\n",
       "    .dataframe tbody tr th:only-of-type {\n",
       "        vertical-align: middle;\n",
       "    }\n",
       "\n",
       "    .dataframe tbody tr th {\n",
       "        vertical-align: top;\n",
       "    }\n",
       "\n",
       "    .dataframe thead th {\n",
       "        text-align: right;\n",
       "    }\n",
       "</style>\n",
       "<table border=\"1\" class=\"dataframe\">\n",
       "  <thead>\n",
       "    <tr style=\"text-align: right;\">\n",
       "      <th></th>\n",
       "      <th>loan_amnt</th>\n",
       "      <th>int_rate</th>\n",
       "      <th>installment</th>\n",
       "      <th>annual_inc</th>\n",
       "      <th>dti</th>\n",
       "      <th>open_acc</th>\n",
       "      <th>pub_rec</th>\n",
       "      <th>revol_bal</th>\n",
       "      <th>revol_util</th>\n",
       "      <th>total_acc</th>\n",
       "      <th>mort_acc</th>\n",
       "      <th>pub_rec_bankruptcies</th>\n",
       "    </tr>\n",
       "  </thead>\n",
       "  <tbody>\n",
       "    <tr>\n",
       "      <th>loan_amnt</th>\n",
       "      <td>1.000000</td>\n",
       "      <td>0.168921</td>\n",
       "      <td>0.953929</td>\n",
       "      <td>0.336887</td>\n",
       "      <td>0.016636</td>\n",
       "      <td>0.198556</td>\n",
       "      <td>-0.077779</td>\n",
       "      <td>0.328320</td>\n",
       "      <td>0.099911</td>\n",
       "      <td>0.223886</td>\n",
       "      <td>0.222315</td>\n",
       "      <td>-0.106539</td>\n",
       "    </tr>\n",
       "    <tr>\n",
       "      <th>int_rate</th>\n",
       "      <td>0.168921</td>\n",
       "      <td>1.000000</td>\n",
       "      <td>0.162758</td>\n",
       "      <td>-0.056771</td>\n",
       "      <td>0.079038</td>\n",
       "      <td>0.011649</td>\n",
       "      <td>0.060986</td>\n",
       "      <td>-0.011280</td>\n",
       "      <td>0.293659</td>\n",
       "      <td>-0.036404</td>\n",
       "      <td>-0.082583</td>\n",
       "      <td>0.057450</td>\n",
       "    </tr>\n",
       "    <tr>\n",
       "      <th>installment</th>\n",
       "      <td>0.953929</td>\n",
       "      <td>0.162758</td>\n",
       "      <td>1.000000</td>\n",
       "      <td>0.330381</td>\n",
       "      <td>0.015786</td>\n",
       "      <td>0.188973</td>\n",
       "      <td>-0.067892</td>\n",
       "      <td>0.316455</td>\n",
       "      <td>0.123915</td>\n",
       "      <td>0.202430</td>\n",
       "      <td>0.193694</td>\n",
       "      <td>-0.098628</td>\n",
       "    </tr>\n",
       "    <tr>\n",
       "      <th>annual_inc</th>\n",
       "      <td>0.336887</td>\n",
       "      <td>-0.056771</td>\n",
       "      <td>0.330381</td>\n",
       "      <td>1.000000</td>\n",
       "      <td>-0.081685</td>\n",
       "      <td>0.136150</td>\n",
       "      <td>-0.013720</td>\n",
       "      <td>0.299773</td>\n",
       "      <td>0.027871</td>\n",
       "      <td>0.193023</td>\n",
       "      <td>0.236320</td>\n",
       "      <td>-0.050162</td>\n",
       "    </tr>\n",
       "    <tr>\n",
       "      <th>dti</th>\n",
       "      <td>0.016636</td>\n",
       "      <td>0.079038</td>\n",
       "      <td>0.015786</td>\n",
       "      <td>-0.081685</td>\n",
       "      <td>1.000000</td>\n",
       "      <td>0.136181</td>\n",
       "      <td>-0.017639</td>\n",
       "      <td>0.063571</td>\n",
       "      <td>0.088375</td>\n",
       "      <td>0.102128</td>\n",
       "      <td>-0.025439</td>\n",
       "      <td>-0.014558</td>\n",
       "    </tr>\n",
       "    <tr>\n",
       "      <th>open_acc</th>\n",
       "      <td>0.198556</td>\n",
       "      <td>0.011649</td>\n",
       "      <td>0.188973</td>\n",
       "      <td>0.136150</td>\n",
       "      <td>0.136181</td>\n",
       "      <td>1.000000</td>\n",
       "      <td>-0.018392</td>\n",
       "      <td>0.221192</td>\n",
       "      <td>-0.131420</td>\n",
       "      <td>0.680728</td>\n",
       "      <td>0.109205</td>\n",
       "      <td>-0.027732</td>\n",
       "    </tr>\n",
       "    <tr>\n",
       "      <th>pub_rec</th>\n",
       "      <td>-0.077779</td>\n",
       "      <td>0.060986</td>\n",
       "      <td>-0.067892</td>\n",
       "      <td>-0.013720</td>\n",
       "      <td>-0.017639</td>\n",
       "      <td>-0.018392</td>\n",
       "      <td>1.000000</td>\n",
       "      <td>-0.101664</td>\n",
       "      <td>-0.075910</td>\n",
       "      <td>0.019723</td>\n",
       "      <td>0.011552</td>\n",
       "      <td>0.699408</td>\n",
       "    </tr>\n",
       "    <tr>\n",
       "      <th>revol_bal</th>\n",
       "      <td>0.328320</td>\n",
       "      <td>-0.011280</td>\n",
       "      <td>0.316455</td>\n",
       "      <td>0.299773</td>\n",
       "      <td>0.063571</td>\n",
       "      <td>0.221192</td>\n",
       "      <td>-0.101664</td>\n",
       "      <td>1.000000</td>\n",
       "      <td>0.226346</td>\n",
       "      <td>0.191616</td>\n",
       "      <td>0.194925</td>\n",
       "      <td>-0.124532</td>\n",
       "    </tr>\n",
       "    <tr>\n",
       "      <th>revol_util</th>\n",
       "      <td>0.099911</td>\n",
       "      <td>0.293659</td>\n",
       "      <td>0.123915</td>\n",
       "      <td>0.027871</td>\n",
       "      <td>0.088375</td>\n",
       "      <td>-0.131420</td>\n",
       "      <td>-0.075910</td>\n",
       "      <td>0.226346</td>\n",
       "      <td>1.000000</td>\n",
       "      <td>-0.104273</td>\n",
       "      <td>0.007514</td>\n",
       "      <td>-0.086751</td>\n",
       "    </tr>\n",
       "    <tr>\n",
       "      <th>total_acc</th>\n",
       "      <td>0.223886</td>\n",
       "      <td>-0.036404</td>\n",
       "      <td>0.202430</td>\n",
       "      <td>0.193023</td>\n",
       "      <td>0.102128</td>\n",
       "      <td>0.680728</td>\n",
       "      <td>0.019723</td>\n",
       "      <td>0.191616</td>\n",
       "      <td>-0.104273</td>\n",
       "      <td>1.000000</td>\n",
       "      <td>0.381072</td>\n",
       "      <td>0.042035</td>\n",
       "    </tr>\n",
       "    <tr>\n",
       "      <th>mort_acc</th>\n",
       "      <td>0.222315</td>\n",
       "      <td>-0.082583</td>\n",
       "      <td>0.193694</td>\n",
       "      <td>0.236320</td>\n",
       "      <td>-0.025439</td>\n",
       "      <td>0.109205</td>\n",
       "      <td>0.011552</td>\n",
       "      <td>0.194925</td>\n",
       "      <td>0.007514</td>\n",
       "      <td>0.381072</td>\n",
       "      <td>1.000000</td>\n",
       "      <td>0.027239</td>\n",
       "    </tr>\n",
       "    <tr>\n",
       "      <th>pub_rec_bankruptcies</th>\n",
       "      <td>-0.106539</td>\n",
       "      <td>0.057450</td>\n",
       "      <td>-0.098628</td>\n",
       "      <td>-0.050162</td>\n",
       "      <td>-0.014558</td>\n",
       "      <td>-0.027732</td>\n",
       "      <td>0.699408</td>\n",
       "      <td>-0.124532</td>\n",
       "      <td>-0.086751</td>\n",
       "      <td>0.042035</td>\n",
       "      <td>0.027239</td>\n",
       "      <td>1.000000</td>\n",
       "    </tr>\n",
       "  </tbody>\n",
       "</table>\n",
       "</div>"
      ],
      "text/plain": [
       "                      loan_amnt  int_rate  installment  annual_inc       dti  \\\n",
       "loan_amnt              1.000000  0.168921     0.953929    0.336887  0.016636   \n",
       "int_rate               0.168921  1.000000     0.162758   -0.056771  0.079038   \n",
       "installment            0.953929  0.162758     1.000000    0.330381  0.015786   \n",
       "annual_inc             0.336887 -0.056771     0.330381    1.000000 -0.081685   \n",
       "dti                    0.016636  0.079038     0.015786   -0.081685  1.000000   \n",
       "open_acc               0.198556  0.011649     0.188973    0.136150  0.136181   \n",
       "pub_rec               -0.077779  0.060986    -0.067892   -0.013720 -0.017639   \n",
       "revol_bal              0.328320 -0.011280     0.316455    0.299773  0.063571   \n",
       "revol_util             0.099911  0.293659     0.123915    0.027871  0.088375   \n",
       "total_acc              0.223886 -0.036404     0.202430    0.193023  0.102128   \n",
       "mort_acc               0.222315 -0.082583     0.193694    0.236320 -0.025439   \n",
       "pub_rec_bankruptcies  -0.106539  0.057450    -0.098628   -0.050162 -0.014558   \n",
       "\n",
       "                      open_acc   pub_rec  revol_bal  revol_util  total_acc  \\\n",
       "loan_amnt             0.198556 -0.077779   0.328320    0.099911   0.223886   \n",
       "int_rate              0.011649  0.060986  -0.011280    0.293659  -0.036404   \n",
       "installment           0.188973 -0.067892   0.316455    0.123915   0.202430   \n",
       "annual_inc            0.136150 -0.013720   0.299773    0.027871   0.193023   \n",
       "dti                   0.136181 -0.017639   0.063571    0.088375   0.102128   \n",
       "open_acc              1.000000 -0.018392   0.221192   -0.131420   0.680728   \n",
       "pub_rec              -0.018392  1.000000  -0.101664   -0.075910   0.019723   \n",
       "revol_bal             0.221192 -0.101664   1.000000    0.226346   0.191616   \n",
       "revol_util           -0.131420 -0.075910   0.226346    1.000000  -0.104273   \n",
       "total_acc             0.680728  0.019723   0.191616   -0.104273   1.000000   \n",
       "mort_acc              0.109205  0.011552   0.194925    0.007514   0.381072   \n",
       "pub_rec_bankruptcies -0.027732  0.699408  -0.124532   -0.086751   0.042035   \n",
       "\n",
       "                      mort_acc  pub_rec_bankruptcies  \n",
       "loan_amnt             0.222315             -0.106539  \n",
       "int_rate             -0.082583              0.057450  \n",
       "installment           0.193694             -0.098628  \n",
       "annual_inc            0.236320             -0.050162  \n",
       "dti                  -0.025439             -0.014558  \n",
       "open_acc              0.109205             -0.027732  \n",
       "pub_rec               0.011552              0.699408  \n",
       "revol_bal             0.194925             -0.124532  \n",
       "revol_util            0.007514             -0.086751  \n",
       "total_acc             0.381072              0.042035  \n",
       "mort_acc              1.000000              0.027239  \n",
       "pub_rec_bankruptcies  0.027239              1.000000  "
      ]
     },
     "execution_count": 9,
     "metadata": {},
     "output_type": "execute_result"
    }
   ],
   "source": [
    "df.corr()"
   ]
  },
  {
   "cell_type": "markdown",
   "id": "discrete-praise",
   "metadata": {
    "papermill": {
     "duration": 0.08032,
     "end_time": "2021-05-02T16:44:44.261806",
     "exception": false,
     "start_time": "2021-05-02T16:44:44.181486",
     "status": "completed"
    },
    "tags": []
   },
   "source": [
    "**TASK: Let's visualize this using a heatmap.**\n",
    "\n",
    "* [Heatmap info](https://seaborn.pydata.org/generated/seaborn.heatmap.html#seaborn.heatmap)\n",
    "* [Help with resizing](https://stackoverflow.com/questions/56942670/matplotlib-seaborn-first-and-last-row-cut-in-half-of-heatmap-plot)"
   ]
  },
  {
   "cell_type": "code",
   "execution_count": 10,
   "id": "joint-composer",
   "metadata": {
    "execution": {
     "iopub.execute_input": "2021-05-02T16:44:44.449585Z",
     "iopub.status.busy": "2021-05-02T16:44:44.448670Z",
     "iopub.status.idle": "2021-05-02T16:44:45.437203Z",
     "shell.execute_reply": "2021-05-02T16:44:45.437627Z"
    },
    "papermill": {
     "duration": 1.094436,
     "end_time": "2021-05-02T16:44:45.437767",
     "exception": false,
     "start_time": "2021-05-02T16:44:44.343331",
     "status": "completed"
    },
    "tags": []
   },
   "outputs": [
    {
     "data": {
      "text/plain": [
       "<AxesSubplot:>"
      ]
     },
     "execution_count": 10,
     "metadata": {},
     "output_type": "execute_result"
    },
    {
     "data": {
      "image/png": "[encoded data removed]",
      "text/plain": [
       "<Figure size 864x720 with 2 Axes>"
      ]
     },
     "metadata": {
      "needs_background": "light"
     },
     "output_type": "display_data"
    }
   ],
   "source": [
    "fig,ax = plt.subplots(figsize = (12,10))\n",
    "sns.heatmap(ax = ax ,data = df.corr(), annot=True,cmap = 'coolwarm')"
   ]
  },
  {
   "cell_type": "markdown",
   "id": "organic-albany",
   "metadata": {
    "papermill": {
     "duration": 0.079863,
     "end_time": "2021-05-02T16:44:45.597996",
     "exception": false,
     "start_time": "2021-05-02T16:44:45.518133",
     "status": "completed"
    },
    "tags": []
   },
   "source": [
    "**We can see almost a perfect correlation with the \"installment\" feature. Let's explore this feature further. Print out their descriptions and perform a scatterplot between them. Does this relationship make sense to you? Do you think there is duplicate information here?**"
   ]
  },
  {
   "cell_type": "code",
   "execution_count": 11,
   "id": "dressed-walker",
   "metadata": {
    "execution": {
     "iopub.execute_input": "2021-05-02T16:44:45.763943Z",
     "iopub.status.busy": "2021-05-02T16:44:45.762817Z",
     "iopub.status.idle": "2021-05-02T16:44:46.520754Z",
     "shell.execute_reply": "2021-05-02T16:44:46.521181Z"
    },
    "papermill": {
     "duration": 0.843005,
     "end_time": "2021-05-02T16:44:46.521337",
     "exception": false,
     "start_time": "2021-05-02T16:44:45.678332",
     "status": "completed"
    },
    "tags": []
   },
   "outputs": [
    {
     "data": {
      "text/plain": [
       "<AxesSubplot:xlabel='installment', ylabel='loan_amnt'>"
      ]
     },
     "execution_count": 11,
     "metadata": {},
     "output_type": "execute_result"
    },
    {
     "data": {
      "image/png": "[encoded data removed]",
      "text/plain": [
       "<Figure size 432x288 with 1 Axes>"
      ]
     },
     "metadata": {
      "needs_background": "light"
     },
     "output_type": "display_data"
    }
   ],
   "source": [
    "sns.scatterplot(x = 'installment', y = 'loan_amnt', data = df)"
   ]
  },
  {
   "cell_type": "markdown",
   "id": "mathematical-anniversary",
   "metadata": {
    "papermill": {
     "duration": 0.083846,
     "end_time": "2021-05-02T16:44:46.688389",
     "exception": false,
     "start_time": "2021-05-02T16:44:46.604543",
     "status": "completed"
    },
    "tags": []
   },
   "source": [
    "**Displaying the boxplot showing the relationship between the loan_status and the Loan Amount.**"
   ]
  },
  {
   "cell_type": "code",
   "execution_count": 12,
   "id": "solid-graham",
   "metadata": {
    "execution": {
     "iopub.execute_input": "2021-05-02T16:44:46.896119Z",
     "iopub.status.busy": "2021-05-02T16:44:46.895361Z",
     "iopub.status.idle": "2021-05-02T16:44:47.242089Z",
     "shell.execute_reply": "2021-05-02T16:44:47.242495Z"
    },
    "papermill": {
     "duration": 0.470572,
     "end_time": "2021-05-02T16:44:47.242634",
     "exception": false,
     "start_time": "2021-05-02T16:44:46.772062",
     "status": "completed"
    },
    "tags": []
   },
   "outputs": [
    {
     "data": {
      "text/plain": [
       "<AxesSubplot:xlabel='loan_status', ylabel='loan_amnt'>"
      ]
     },
     "execution_count": 12,
     "metadata": {},
     "output_type": "execute_result"
    },
    {
     "data": {
      "image/png": "[encoded data removed]",
      "text/plain": [
       "<Figure size 432x288 with 1 Axes>"
      ]
     },
     "metadata": {
      "needs_background": "light"
     },
     "output_type": "display_data"
    }
   ],
   "source": [
    "sns.boxplot(x = 'loan_status', y = 'loan_amnt', data = df)"
   ]
  },
  {
   "cell_type": "markdown",
   "id": "fiscal-athens",
   "metadata": {
    "papermill": {
     "duration": 0.083328,
     "end_time": "2021-05-02T16:44:47.410806",
     "exception": false,
     "start_time": "2021-05-02T16:44:47.327478",
     "status": "completed"
    },
    "tags": []
   },
   "source": [
    "**The summary statistics for the loan amount, grouped by the loan_status.**"
   ]
  },
  {
   "cell_type": "code",
   "execution_count": 13,
   "id": "commercial-brazilian",
   "metadata": {
    "execution": {
     "iopub.execute_input": "2021-05-02T16:44:47.648394Z",
     "iopub.status.busy": "2021-05-02T16:44:47.647586Z",
     "iopub.status.idle": "2021-05-02T16:44:47.979178Z",
     "shell.execute_reply": "2021-05-02T16:44:47.979602Z"
    },
    "papermill": {
     "duration": 0.484459,
     "end_time": "2021-05-02T16:44:47.979748",
     "exception": false,
     "start_time": "2021-05-02T16:44:47.495289",
     "status": "completed"
    },
    "tags": []
   },
   "outputs": [
    {
     "data": {
      "text/html": [
       "<div>\n",
       "<style scoped>\n",
       "    .dataframe tbody tr th:only-of-type {\n",
       "        vertical-align: middle;\n",
       "    }\n",
       "\n",
       "    .dataframe tbody tr th {\n",
       "        vertical-align: top;\n",
       "    }\n",
       "\n",
       "    .dataframe thead th {\n",
       "        text-align: right;\n",
       "    }\n",
       "</style>\n",
       "<table border=\"1\" class=\"dataframe\">\n",
       "  <thead>\n",
       "    <tr style=\"text-align: right;\">\n",
       "      <th></th>\n",
       "      <th>count</th>\n",
       "      <th>mean</th>\n",
       "      <th>std</th>\n",
       "      <th>min</th>\n",
       "      <th>25%</th>\n",
       "      <th>50%</th>\n",
       "      <th>75%</th>\n",
       "      <th>max</th>\n",
       "    </tr>\n",
       "    <tr>\n",
       "      <th>loan_status</th>\n",
       "      <th></th>\n",
       "      <th></th>\n",
       "      <th></th>\n",
       "      <th></th>\n",
       "      <th></th>\n",
       "      <th></th>\n",
       "      <th></th>\n",
       "      <th></th>\n",
       "    </tr>\n",
       "  </thead>\n",
       "  <tbody>\n",
       "    <tr>\n",
       "      <th>Charged Off</th>\n",
       "      <td>77673.0</td>\n",
       "      <td>15126.300967</td>\n",
       "      <td>8505.090557</td>\n",
       "      <td>1000.0</td>\n",
       "      <td>8525.0</td>\n",
       "      <td>14000.0</td>\n",
       "      <td>20000.0</td>\n",
       "      <td>40000.0</td>\n",
       "    </tr>\n",
       "    <tr>\n",
       "      <th>Fully Paid</th>\n",
       "      <td>318357.0</td>\n",
       "      <td>13866.878771</td>\n",
       "      <td>8302.319699</td>\n",
       "      <td>500.0</td>\n",
       "      <td>7500.0</td>\n",
       "      <td>12000.0</td>\n",
       "      <td>19225.0</td>\n",
       "      <td>40000.0</td>\n",
       "    </tr>\n",
       "  </tbody>\n",
       "</table>\n",
       "</div>"
      ],
      "text/plain": [
       "                count          mean          std     min     25%      50%  \\\n",
       "loan_status                                                                 \n",
       "Charged Off   77673.0  15126.300967  8505.090557  1000.0  8525.0  14000.0   \n",
       "Fully Paid   318357.0  13866.878771  8302.319699   500.0  7500.0  12000.0   \n",
       "\n",
       "                 75%      max  \n",
       "loan_status                    \n",
       "Charged Off  20000.0  40000.0  \n",
       "Fully Paid   19225.0  40000.0  "
      ]
     },
     "execution_count": 13,
     "metadata": {},
     "output_type": "execute_result"
    }
   ],
   "source": [
    "df.groupby('loan_status').describe().loan_amnt"
   ]
  },
  {
   "cell_type": "markdown",
   "id": "together-thriller",
   "metadata": {
    "papermill": {
     "duration": 0.08424,
     "end_time": "2021-05-02T16:44:48.149922",
     "exception": false,
     "start_time": "2021-05-02T16:44:48.065682",
     "status": "completed"
    },
    "tags": []
   },
   "source": [
    "**Let's explore the Grade and SubGrade columns that LendingClub attributes to the loans. What are the unique possible grades and subgrades?**"
   ]
  },
  {
   "cell_type": "code",
   "execution_count": 14,
   "id": "utility-wayne",
   "metadata": {
    "execution": {
     "iopub.execute_input": "2021-05-02T16:44:48.351976Z",
     "iopub.status.busy": "2021-05-02T16:44:48.351224Z",
     "iopub.status.idle": "2021-05-02T16:44:48.359570Z",
     "shell.execute_reply": "2021-05-02T16:44:48.359174Z"
    },
    "papermill": {
     "duration": 0.115548,
     "end_time": "2021-05-02T16:44:48.359680",
     "exception": false,
     "start_time": "2021-05-02T16:44:48.244132",
     "status": "completed"
    },
    "tags": []
   },
   "outputs": [
    {
     "name": "stdout",
     "output_type": "stream",
     "text": [
      "['A' 'B' 'C' 'D' 'E' 'F' 'G']\n"
     ]
    }
   ],
   "source": [
    "print(np.sort(df.grade.unique()))"
   ]
  },
  {
   "cell_type": "code",
   "execution_count": 15,
   "id": "greenhouse-maintenance",
   "metadata": {
    "execution": {
     "iopub.execute_input": "2021-05-02T16:44:48.553490Z",
     "iopub.status.busy": "2021-05-02T16:44:48.552727Z",
     "iopub.status.idle": "2021-05-02T16:44:48.561999Z",
     "shell.execute_reply": "2021-05-02T16:44:48.561570Z"
    },
    "papermill": {
     "duration": 0.11846,
     "end_time": "2021-05-02T16:44:48.562117",
     "exception": false,
     "start_time": "2021-05-02T16:44:48.443657",
     "status": "completed"
    },
    "tags": []
   },
   "outputs": [
    {
     "name": "stdout",
     "output_type": "stream",
     "text": [
      "['A1' 'A2' 'A3' 'A4' 'A5' 'B1' 'B2' 'B3' 'B4' 'B5' 'C1' 'C2' 'C3' 'C4'\n",
      " 'C5' 'D1' 'D2' 'D3' 'D4' 'D5' 'E1' 'E2' 'E3' 'E4' 'E5' 'F1' 'F2' 'F3'\n",
      " 'F4' 'F5' 'G1' 'G2' 'G3' 'G4' 'G5']\n"
     ]
    }
   ],
   "source": [
    "sub_grade_keys = np.sort(df.sub_grade.unique())\n",
    "print(sub_grade_keys)"
   ]
  },
  {
   "cell_type": "markdown",
   "id": "sixth-savings",
   "metadata": {
    "papermill": {
     "duration": 0.084097,
     "end_time": "2021-05-02T16:44:48.731359",
     "exception": false,
     "start_time": "2021-05-02T16:44:48.647262",
     "status": "completed"
    },
    "tags": []
   },
   "source": [
    "**Let's Create a countplot per grade. Set the hue to the loan_status label.**"
   ]
  },
  {
   "cell_type": "code",
   "execution_count": 16,
   "id": "packed-potential",
   "metadata": {
    "execution": {
     "iopub.execute_input": "2021-05-02T16:44:48.943449Z",
     "iopub.status.busy": "2021-05-02T16:44:48.942680Z",
     "iopub.status.idle": "2021-05-02T16:44:49.686247Z",
     "shell.execute_reply": "2021-05-02T16:44:49.686669Z"
    },
    "papermill": {
     "duration": 0.869555,
     "end_time": "2021-05-02T16:44:49.686812",
     "exception": false,
     "start_time": "2021-05-02T16:44:48.817257",
     "status": "completed"
    },
    "tags": []
   },
   "outputs": [
    {
     "data": {
      "text/plain": [
       "<AxesSubplot:xlabel='grade', ylabel='count'>"
      ]
     },
     "execution_count": 16,
     "metadata": {},
     "output_type": "execute_result"
    },
    {
     "data": {
      "image/png": "[encoded data removed]",
      "text/plain": [
       "<Figure size 432x288 with 1 Axes>"
      ]
     },
     "metadata": {
      "needs_background": "light"
     },
     "output_type": "display_data"
    }
   ],
   "source": [
    "sns.countplot(x = 'grade', data = df, hue = 'loan_status')"
   ]
  },
  {
   "cell_type": "markdown",
   "id": "suitable-microphone",
   "metadata": {
    "papermill": {
     "duration": 0.086536,
     "end_time": "2021-05-02T16:44:49.858991",
     "exception": false,
     "start_time": "2021-05-02T16:44:49.772455",
     "status": "completed"
    },
    "tags": []
   },
   "source": [
    "**Display a count plot per subgrade. Let's explore both all loans made per subgrade as well being separated based on the loan_status. Let's have a look at a similar plot, but with hue being set to \"loan_status\"**"
   ]
  },
  {
   "cell_type": "code",
   "execution_count": 17,
   "id": "related-marina",
   "metadata": {
    "execution": {
     "iopub.execute_input": "2021-05-02T16:44:50.046461Z",
     "iopub.status.busy": "2021-05-02T16:44:50.045591Z",
     "iopub.status.idle": "2021-05-02T16:44:51.691044Z",
     "shell.execute_reply": "2021-05-02T16:44:51.690302Z"
    },
    "papermill": {
     "duration": 1.745385,
     "end_time": "2021-05-02T16:44:51.691218",
     "exception": false,
     "start_time": "2021-05-02T16:44:49.945833",
     "status": "completed"
    },
    "tags": []
   },
   "outputs": [
    {
     "data": {
      "text/plain": [
       "<AxesSubplot:xlabel='sub_grade', ylabel='count'>"
      ]
     },
     "execution_count": 17,
     "metadata": {},
     "output_type": "execute_result"
    },
    {
     "data": {
      "image/png": "[encoded data removed]",
      "text/plain": [
       "<Figure size 1080x504 with 1 Axes>"
      ]
     },
     "metadata": {
      "needs_background": "light"
     },
     "output_type": "display_data"
    }
   ],
   "source": [
    "fig, ax = plt.subplots(figsize = (15,7))\n",
    "sorted_df = df.sort_values(by = ['sub_grade'])\n",
    "sns.countplot(x = 'sub_grade',data = sorted_df, ax = ax)"
   ]
  },
  {
   "cell_type": "code",
   "execution_count": 18,
   "id": "aware-invasion",
   "metadata": {
    "execution": {
     "iopub.execute_input": "2021-05-02T16:44:52.314457Z",
     "iopub.status.busy": "2021-05-02T16:44:52.313706Z",
     "iopub.status.idle": "2021-05-02T16:44:53.393307Z",
     "shell.execute_reply": "2021-05-02T16:44:53.392887Z"
    },
    "papermill": {
     "duration": 1.362023,
     "end_time": "2021-05-02T16:44:53.393426",
     "exception": false,
     "start_time": "2021-05-02T16:44:52.031403",
     "status": "completed"
    },
    "tags": []
   },
   "outputs": [
    {
     "data": {
      "text/plain": [
       "<AxesSubplot:xlabel='sub_grade', ylabel='count'>"
      ]
     },
     "execution_count": 18,
     "metadata": {},
     "output_type": "execute_result"
    },
    {
     "data": {
      "image/png": "[encoded data removed]",
      "text/plain": [
       "<Figure size 1080x504 with 1 Axes>"
      ]
     },
     "metadata": {
      "needs_background": "light"
     },
     "output_type": "display_data"
    }
   ],
   "source": [
    "fig, ax = plt.subplots(figsize = (15,7))\n",
    "sns.countplot(x = 'sub_grade',data = sorted_df, ax = ax, hue = 'loan_status')"
   ]
  },
  {
   "cell_type": "markdown",
   "id": "adverse-humor",
   "metadata": {
    "papermill": {
     "duration": 0.087613,
     "end_time": "2021-05-02T16:44:53.568337",
     "exception": false,
     "start_time": "2021-05-02T16:44:53.480724",
     "status": "completed"
    },
    "tags": []
   },
   "source": [
    "**It looks like F and G subgrades don't get paid back that often. Isloating those and recreating the countplot just for those subgrades.**"
   ]
  },
  {
   "cell_type": "markdown",
   "id": "floating-climate",
   "metadata": {
    "papermill": {
     "duration": 0.08696,
     "end_time": "2021-05-02T16:44:53.742330",
     "exception": false,
     "start_time": "2021-05-02T16:44:53.655370",
     "status": "completed"
    },
    "tags": []
   },
   "source": [
    "**Grade values before F and G isolotion**"
   ]
  },
  {
   "cell_type": "code",
   "execution_count": 19,
   "id": "olive-russian",
   "metadata": {
    "execution": {
     "iopub.execute_input": "2021-05-02T16:44:53.992370Z",
     "iopub.status.busy": "2021-05-02T16:44:53.991353Z",
     "iopub.status.idle": "2021-05-02T16:44:53.997620Z",
     "shell.execute_reply": "2021-05-02T16:44:53.998259Z"
    },
    "papermill": {
     "duration": 0.169214,
     "end_time": "2021-05-02T16:44:53.998439",
     "exception": false,
     "start_time": "2021-05-02T16:44:53.829225",
     "status": "completed"
    },
    "tags": []
   },
   "outputs": [
    {
     "name": "stdout",
     "output_type": "stream",
     "text": [
      "B    116018\n",
      "C    105987\n",
      "A     64187\n",
      "D     63524\n",
      "E     31488\n",
      "F     11772\n",
      "G      3054\n",
      "Name: grade, dtype: int64\n"
     ]
    }
   ],
   "source": [
    "print(df['grade'].value_counts())"
   ]
  },
  {
   "cell_type": "markdown",
   "id": "german-volunteer",
   "metadata": {
    "papermill": {
     "duration": 0.087592,
     "end_time": "2021-05-02T16:44:54.173798",
     "exception": false,
     "start_time": "2021-05-02T16:44:54.086206",
     "status": "completed"
    },
    "tags": []
   },
   "source": [
    "**Grade values after F and G isolotion**"
   ]
  },
  {
   "cell_type": "code",
   "execution_count": 20,
   "id": "imperial-sheffield",
   "metadata": {
    "execution": {
     "iopub.execute_input": "2021-05-02T16:44:54.355464Z",
     "iopub.status.busy": "2021-05-02T16:44:54.354505Z",
     "iopub.status.idle": "2021-05-02T16:44:54.624314Z",
     "shell.execute_reply": "2021-05-02T16:44:54.624743Z"
    },
    "papermill": {
     "duration": 0.363177,
     "end_time": "2021-05-02T16:44:54.624922",
     "exception": false,
     "start_time": "2021-05-02T16:44:54.261745",
     "status": "completed"
    },
    "tags": []
   },
   "outputs": [
    {
     "name": "stdout",
     "output_type": "stream",
     "text": [
      "B          116018\n",
      "C          105987\n",
      "A           64187\n",
      "D           63524\n",
      "E           31488\n",
      "F and G     14826\n",
      "Name: grade, dtype: int64\n"
     ]
    }
   ],
   "source": [
    "sorted_df['grade'] = sorted_df['grade'].apply(lambda x : \"F and G\" if x in ['F','G'] else x)\n",
    "df['grade'] = df['grade'].apply(lambda x : \"F and G\" if x in ['F','G'] else x)\n",
    "print(sorted_df['grade'].value_counts())"
   ]
  },
  {
   "cell_type": "markdown",
   "id": "unsigned-table",
   "metadata": {
    "papermill": {
     "duration": 0.088392,
     "end_time": "2021-05-02T16:44:54.801900",
     "exception": false,
     "start_time": "2021-05-02T16:44:54.713508",
     "status": "completed"
    },
    "tags": []
   },
   "source": [
    "**Countplot of Grade after F and G isolotion**\n"
   ]
  },
  {
   "cell_type": "code",
   "execution_count": 21,
   "id": "yellow-knife",
   "metadata": {
    "execution": {
     "iopub.execute_input": "2021-05-02T16:44:55.001026Z",
     "iopub.status.busy": "2021-05-02T16:44:55.000040Z",
     "iopub.status.idle": "2021-05-02T16:44:55.747468Z",
     "shell.execute_reply": "2021-05-02T16:44:55.747896Z"
    },
    "papermill": {
     "duration": 0.858097,
     "end_time": "2021-05-02T16:44:55.748045",
     "exception": false,
     "start_time": "2021-05-02T16:44:54.889948",
     "status": "completed"
    },
    "tags": []
   },
   "outputs": [
    {
     "data": {
      "text/plain": [
       "<AxesSubplot:xlabel='grade', ylabel='count'>"
      ]
     },
     "execution_count": 21,
     "metadata": {},
     "output_type": "execute_result"
    },
    {
     "data": {
      "image/png": "[encoded data removed]",
      "text/plain": [
       "<Figure size 1080x504 with 1 Axes>"
      ]
     },
     "metadata": {
      "needs_background": "light"
     },
     "output_type": "display_data"
    }
   ],
   "source": [
    "fig, ax = plt.subplots(figsize = (15,7))\n",
    "sns.countplot(x = 'grade',data = sorted_df, ax = ax, hue = 'loan_status')"
   ]
  },
  {
   "cell_type": "code",
   "execution_count": 22,
   "id": "attended-salvation",
   "metadata": {
    "execution": {
     "iopub.execute_input": "2021-05-02T16:44:55.947001Z",
     "iopub.status.busy": "2021-05-02T16:44:55.946163Z",
     "iopub.status.idle": "2021-05-02T16:44:56.209080Z",
     "shell.execute_reply": "2021-05-02T16:44:56.209495Z"
    },
    "papermill": {
     "duration": 0.371224,
     "end_time": "2021-05-02T16:44:56.209640",
     "exception": false,
     "start_time": "2021-05-02T16:44:55.838416",
     "status": "completed"
    },
    "tags": []
   },
   "outputs": [
    {
     "data": {
      "text/plain": [
       "<AxesSubplot:xlabel='sub_grade', ylabel='count'>"
      ]
     },
     "execution_count": 22,
     "metadata": {},
     "output_type": "execute_result"
    },
    {
     "data": {
      "image/png": "[encoded data removed]",
      "text/plain": [
       "<Figure size 1080x504 with 1 Axes>"
      ]
     },
     "metadata": {
      "needs_background": "light"
     },
     "output_type": "display_data"
    }
   ],
   "source": [
    "fig, ax = plt.subplots(figsize = (15,7))\n",
    "sns.countplot(data = sorted_df.loc[sorted_df.grade == 'F and G'][['sub_grade','loan_status']],x = 'sub_grade', hue = 'loan_status', ax = ax)"
   ]
  },
  {
   "cell_type": "markdown",
   "id": "hydraulic-showcase",
   "metadata": {
    "papermill": {
     "duration": 0.089977,
     "end_time": "2021-05-02T16:44:56.389624",
     "exception": false,
     "start_time": "2021-05-02T16:44:56.299647",
     "status": "completed"
    },
    "tags": []
   },
   "source": [
    "**As loan status is a binary classifier which just says literally conveys whether the loan is fully paid or not,we can create a new column called 'loan_repaid' which will contain a 1 if the loan status was \"Fully Paid\" and a 0 if it was \"Charged Off\".**"
   ]
  },
  {
   "cell_type": "code",
   "execution_count": 23,
   "id": "settled-natural",
   "metadata": {
    "execution": {
     "iopub.execute_input": "2021-05-02T16:44:56.575794Z",
     "iopub.status.busy": "2021-05-02T16:44:56.574859Z",
     "iopub.status.idle": "2021-05-02T16:44:56.787413Z",
     "shell.execute_reply": "2021-05-02T16:44:56.787857Z"
    },
    "papermill": {
     "duration": 0.308488,
     "end_time": "2021-05-02T16:44:56.788030",
     "exception": false,
     "start_time": "2021-05-02T16:44:56.479542",
     "status": "completed"
    },
    "tags": []
   },
   "outputs": [
    {
     "data": {
      "text/html": [
       "<div>\n",
       "<style scoped>\n",
       "    .dataframe tbody tr th:only-of-type {\n",
       "        vertical-align: middle;\n",
       "    }\n",
       "\n",
       "    .dataframe tbody tr th {\n",
       "        vertical-align: top;\n",
       "    }\n",
       "\n",
       "    .dataframe thead th {\n",
       "        text-align: right;\n",
       "    }\n",
       "</style>\n",
       "<table border=\"1\" class=\"dataframe\">\n",
       "  <thead>\n",
       "    <tr style=\"text-align: right;\">\n",
       "      <th></th>\n",
       "      <th>loan_repaid</th>\n",
       "      <th>loan_status</th>\n",
       "    </tr>\n",
       "  </thead>\n",
       "  <tbody>\n",
       "    <tr>\n",
       "      <th>0</th>\n",
       "      <td>1</td>\n",
       "      <td>Fully Paid</td>\n",
       "    </tr>\n",
       "    <tr>\n",
       "      <th>1</th>\n",
       "      <td>1</td>\n",
       "      <td>Fully Paid</td>\n",
       "    </tr>\n",
       "    <tr>\n",
       "      <th>2</th>\n",
       "      <td>1</td>\n",
       "      <td>Fully Paid</td>\n",
       "    </tr>\n",
       "    <tr>\n",
       "      <th>3</th>\n",
       "      <td>1</td>\n",
       "      <td>Fully Paid</td>\n",
       "    </tr>\n",
       "    <tr>\n",
       "      <th>4</th>\n",
       "      <td>0</td>\n",
       "      <td>Charged Off</td>\n",
       "    </tr>\n",
       "    <tr>\n",
       "      <th>...</th>\n",
       "      <td>...</td>\n",
       "      <td>...</td>\n",
       "    </tr>\n",
       "    <tr>\n",
       "      <th>396025</th>\n",
       "      <td>1</td>\n",
       "      <td>Fully Paid</td>\n",
       "    </tr>\n",
       "    <tr>\n",
       "      <th>396026</th>\n",
       "      <td>1</td>\n",
       "      <td>Fully Paid</td>\n",
       "    </tr>\n",
       "    <tr>\n",
       "      <th>396027</th>\n",
       "      <td>1</td>\n",
       "      <td>Fully Paid</td>\n",
       "    </tr>\n",
       "    <tr>\n",
       "      <th>396028</th>\n",
       "      <td>1</td>\n",
       "      <td>Fully Paid</td>\n",
       "    </tr>\n",
       "    <tr>\n",
       "      <th>396029</th>\n",
       "      <td>1</td>\n",
       "      <td>Fully Paid</td>\n",
       "    </tr>\n",
       "  </tbody>\n",
       "</table>\n",
       "<p>396030 rows × 2 columns</p>\n",
       "</div>"
      ],
      "text/plain": [
       "        loan_repaid  loan_status\n",
       "0                 1   Fully Paid\n",
       "1                 1   Fully Paid\n",
       "2                 1   Fully Paid\n",
       "3                 1   Fully Paid\n",
       "4                 0  Charged Off\n",
       "...             ...          ...\n",
       "396025            1   Fully Paid\n",
       "396026            1   Fully Paid\n",
       "396027            1   Fully Paid\n",
       "396028            1   Fully Paid\n",
       "396029            1   Fully Paid\n",
       "\n",
       "[396030 rows x 2 columns]"
      ]
     },
     "execution_count": 23,
     "metadata": {},
     "output_type": "execute_result"
    }
   ],
   "source": [
    "df['loan_repaid'] = df['loan_status'].apply(lambda x : 1 if x == \"Fully Paid\" else 0)\n",
    "df[['loan_repaid','loan_status']]"
   ]
  },
  {
   "cell_type": "markdown",
   "id": "specialized-proportion",
   "metadata": {
    "papermill": {
     "duration": 0.090214,
     "end_time": "2021-05-02T16:44:56.975439",
     "exception": false,
     "start_time": "2021-05-02T16:44:56.885225",
     "status": "completed"
    },
    "tags": []
   },
   "source": [
    "**Lets create a bar plot showing the correlation of the numeric features to the new loan_repaid column.**"
   ]
  },
  {
   "cell_type": "code",
   "execution_count": 24,
   "id": "enabling-comparison",
   "metadata": {
    "execution": {
     "iopub.execute_input": "2021-05-02T16:44:57.167997Z",
     "iopub.status.busy": "2021-05-02T16:44:57.166680Z",
     "iopub.status.idle": "2021-05-02T16:44:57.395056Z",
     "shell.execute_reply": "2021-05-02T16:44:57.395470Z"
    },
    "papermill": {
     "duration": 0.328418,
     "end_time": "2021-05-02T16:44:57.395616",
     "exception": false,
     "start_time": "2021-05-02T16:44:57.067198",
     "status": "completed"
    },
    "tags": []
   },
   "outputs": [
    {
     "data": {
      "text/plain": [
       "<AxesSubplot:>"
      ]
     },
     "execution_count": 24,
     "metadata": {},
     "output_type": "execute_result"
    },
    {
     "data": {
      "image/png": "[encoded data removed]",
      "text/plain": [
       "<Figure size 432x288 with 1 Axes>"
      ]
     },
     "metadata": {
      "needs_background": "light"
     },
     "output_type": "display_data"
    }
   ],
   "source": [
    "df.corrwith(df.loan_repaid).drop('loan_repaid').sort_values().plot(kind = 'bar')"
   ]
  },
  {
   "cell_type": "markdown",
   "id": "perfect-nurse",
   "metadata": {
    "papermill": {
     "duration": 0.092319,
     "end_time": "2021-05-02T16:44:57.580140",
     "exception": false,
     "start_time": "2021-05-02T16:44:57.487821",
     "status": "completed"
    },
    "tags": []
   },
   "source": [
    "---\n",
    "---\n",
    "# Data PreProcessing\n",
    "\n",
    "**Goals: Missing data handling. Removing unnecessary or repetitive features. Convert categorical string features to dummy variables.**\n",
    "\n",
    "Lets have a look at the dataframe using the method head()\n"
   ]
  },
  {
   "cell_type": "code",
   "execution_count": 25,
   "id": "north-hearing",
   "metadata": {
    "execution": {
     "iopub.execute_input": "2021-05-02T16:44:57.792795Z",
     "iopub.status.busy": "2021-05-02T16:44:57.791975Z",
     "iopub.status.idle": "2021-05-02T16:44:57.796050Z",
     "shell.execute_reply": "2021-05-02T16:44:57.795607Z"
    },
    "papermill": {
     "duration": 0.122374,
     "end_time": "2021-05-02T16:44:57.796183",
     "exception": false,
     "start_time": "2021-05-02T16:44:57.673809",
     "status": "completed"
    },
    "tags": []
   },
   "outputs": [
    {
     "data": {
      "text/html": [
       "<div>\n",
       "<style scoped>\n",
       "    .dataframe tbody tr th:only-of-type {\n",
       "        vertical-align: middle;\n",
       "    }\n",
       "\n",
       "    .dataframe tbody tr th {\n",
       "        vertical-align: top;\n",
       "    }\n",
       "\n",
       "    .dataframe thead th {\n",
       "        text-align: right;\n",
       "    }\n",
       "</style>\n",
       "<table border=\"1\" class=\"dataframe\">\n",
       "  <thead>\n",
       "    <tr style=\"text-align: right;\">\n",
       "      <th></th>\n",
       "      <th>loan_amnt</th>\n",
       "      <th>term</th>\n",
       "      <th>int_rate</th>\n",
       "      <th>installment</th>\n",
       "      <th>grade</th>\n",
       "      <th>sub_grade</th>\n",
       "      <th>emp_title</th>\n",
       "      <th>emp_length</th>\n",
       "      <th>home_ownership</th>\n",
       "      <th>annual_inc</th>\n",
       "      <th>...</th>\n",
       "      <th>pub_rec</th>\n",
       "      <th>revol_bal</th>\n",
       "      <th>revol_util</th>\n",
       "      <th>total_acc</th>\n",
       "      <th>initial_list_status</th>\n",
       "      <th>application_type</th>\n",
       "      <th>mort_acc</th>\n",
       "      <th>pub_rec_bankruptcies</th>\n",
       "      <th>address</th>\n",
       "      <th>loan_repaid</th>\n",
       "    </tr>\n",
       "  </thead>\n",
       "  <tbody>\n",
       "    <tr>\n",
       "      <th>0</th>\n",
       "      <td>10000.0</td>\n",
       "      <td>36 months</td>\n",
       "      <td>11.44</td>\n",
       "      <td>329.48</td>\n",
       "      <td>B</td>\n",
       "      <td>B4</td>\n",
       "      <td>Marketing</td>\n",
       "      <td>10+ years</td>\n",
       "      <td>RENT</td>\n",
       "      <td>117000.0</td>\n",
       "      <td>...</td>\n",
       "      <td>0.0</td>\n",
       "      <td>36369.0</td>\n",
       "      <td>41.8</td>\n",
       "      <td>25.0</td>\n",
       "      <td>w</td>\n",
       "      <td>INDIVIDUAL</td>\n",
       "      <td>0.0</td>\n",
       "      <td>0.0</td>\n",
       "      <td>0174 Michelle Gateway\\nMendozaberg, OK 22690</td>\n",
       "      <td>1</td>\n",
       "    </tr>\n",
       "    <tr>\n",
       "      <th>1</th>\n",
       "      <td>8000.0</td>\n",
       "      <td>36 months</td>\n",
       "      <td>11.99</td>\n",
       "      <td>265.68</td>\n",
       "      <td>B</td>\n",
       "      <td>B5</td>\n",
       "      <td>Credit analyst</td>\n",
       "      <td>4 years</td>\n",
       "      <td>MORTGAGE</td>\n",
       "      <td>65000.0</td>\n",
       "      <td>...</td>\n",
       "      <td>0.0</td>\n",
       "      <td>20131.0</td>\n",
       "      <td>53.3</td>\n",
       "      <td>27.0</td>\n",
       "      <td>f</td>\n",
       "      <td>INDIVIDUAL</td>\n",
       "      <td>3.0</td>\n",
       "      <td>0.0</td>\n",
       "      <td>1076 Carney Fort Apt. 347\\nLoganmouth, SD 05113</td>\n",
       "      <td>1</td>\n",
       "    </tr>\n",
       "    <tr>\n",
       "      <th>2</th>\n",
       "      <td>15600.0</td>\n",
       "      <td>36 months</td>\n",
       "      <td>10.49</td>\n",
       "      <td>506.97</td>\n",
       "      <td>B</td>\n",
       "      <td>B3</td>\n",
       "      <td>Statistician</td>\n",
       "      <td>&lt; 1 year</td>\n",
       "      <td>RENT</td>\n",
       "      <td>43057.0</td>\n",
       "      <td>...</td>\n",
       "      <td>0.0</td>\n",
       "      <td>11987.0</td>\n",
       "      <td>92.2</td>\n",
       "      <td>26.0</td>\n",
       "      <td>f</td>\n",
       "      <td>INDIVIDUAL</td>\n",
       "      <td>0.0</td>\n",
       "      <td>0.0</td>\n",
       "      <td>87025 Mark Dale Apt. 269\\nNew Sabrina, WV 05113</td>\n",
       "      <td>1</td>\n",
       "    </tr>\n",
       "    <tr>\n",
       "      <th>3</th>\n",
       "      <td>7200.0</td>\n",
       "      <td>36 months</td>\n",
       "      <td>6.49</td>\n",
       "      <td>220.65</td>\n",
       "      <td>A</td>\n",
       "      <td>A2</td>\n",
       "      <td>Client Advocate</td>\n",
       "      <td>6 years</td>\n",
       "      <td>RENT</td>\n",
       "      <td>54000.0</td>\n",
       "      <td>...</td>\n",
       "      <td>0.0</td>\n",
       "      <td>5472.0</td>\n",
       "      <td>21.5</td>\n",
       "      <td>13.0</td>\n",
       "      <td>f</td>\n",
       "      <td>INDIVIDUAL</td>\n",
       "      <td>0.0</td>\n",
       "      <td>0.0</td>\n",
       "      <td>823 Reid Ford\\nDelacruzside, MA 00813</td>\n",
       "      <td>1</td>\n",
       "    </tr>\n",
       "    <tr>\n",
       "      <th>4</th>\n",
       "      <td>24375.0</td>\n",
       "      <td>60 months</td>\n",
       "      <td>17.27</td>\n",
       "      <td>609.33</td>\n",
       "      <td>C</td>\n",
       "      <td>C5</td>\n",
       "      <td>Destiny Management Inc.</td>\n",
       "      <td>9 years</td>\n",
       "      <td>MORTGAGE</td>\n",
       "      <td>55000.0</td>\n",
       "      <td>...</td>\n",
       "      <td>0.0</td>\n",
       "      <td>24584.0</td>\n",
       "      <td>69.8</td>\n",
       "      <td>43.0</td>\n",
       "      <td>f</td>\n",
       "      <td>INDIVIDUAL</td>\n",
       "      <td>1.0</td>\n",
       "      <td>0.0</td>\n",
       "      <td>679 Luna Roads\\nGreggshire, VA 11650</td>\n",
       "      <td>0</td>\n",
       "    </tr>\n",
       "  </tbody>\n",
       "</table>\n",
       "<p>5 rows × 28 columns</p>\n",
       "</div>"
      ],
      "text/plain": [
       "   loan_amnt        term  int_rate  installment grade sub_grade  \\\n",
       "0    10000.0   36 months     11.44       329.48     B        B4   \n",
       "1     8000.0   36 months     11.99       265.68     B        B5   \n",
       "2    15600.0   36 months     10.49       506.97     B        B3   \n",
       "3     7200.0   36 months      6.49       220.65     A        A2   \n",
       "4    24375.0   60 months     17.27       609.33     C        C5   \n",
       "\n",
       "                 emp_title emp_length home_ownership  annual_inc  ... pub_rec  \\\n",
       "0                Marketing  10+ years           RENT    117000.0  ...     0.0   \n",
       "1          Credit analyst     4 years       MORTGAGE     65000.0  ...     0.0   \n",
       "2             Statistician   < 1 year           RENT     43057.0  ...     0.0   \n",
       "3          Client Advocate    6 years           RENT     54000.0  ...     0.0   \n",
       "4  Destiny Management Inc.    9 years       MORTGAGE     55000.0  ...     0.0   \n",
       "\n",
       "  revol_bal revol_util total_acc initial_list_status  application_type  \\\n",
       "0   36369.0       41.8      25.0                   w        INDIVIDUAL   \n",
       "1   20131.0       53.3      27.0                   f        INDIVIDUAL   \n",
       "2   11987.0       92.2      26.0                   f        INDIVIDUAL   \n",
       "3    5472.0       21.5      13.0                   f        INDIVIDUAL   \n",
       "4   24584.0       69.8      43.0                   f        INDIVIDUAL   \n",
       "\n",
       "  mort_acc  pub_rec_bankruptcies  \\\n",
       "0      0.0                   0.0   \n",
       "1      3.0                   0.0   \n",
       "2      0.0                   0.0   \n",
       "3      0.0                   0.0   \n",
       "4      1.0                   0.0   \n",
       "\n",
       "                                           address  loan_repaid  \n",
       "0     0174 Michelle Gateway\\nMendozaberg, OK 22690            1  \n",
       "1  1076 Carney Fort Apt. 347\\nLoganmouth, SD 05113            1  \n",
       "2  87025 Mark Dale Apt. 269\\nNew Sabrina, WV 05113            1  \n",
       "3            823 Reid Ford\\nDelacruzside, MA 00813            1  \n",
       "4             679 Luna Roads\\nGreggshire, VA 11650            0  \n",
       "\n",
       "[5 rows x 28 columns]"
      ]
     },
     "execution_count": 25,
     "metadata": {},
     "output_type": "execute_result"
    }
   ],
   "source": [
    "df.head()"
   ]
  },
  {
   "cell_type": "markdown",
   "id": "bottom-johns",
   "metadata": {
    "papermill": {
     "duration": 0.092267,
     "end_time": "2021-05-02T16:44:57.982667",
     "exception": false,
     "start_time": "2021-05-02T16:44:57.890400",
     "status": "completed"
    },
    "tags": []
   },
   "source": [
    "# Missing Data\n",
    "\n",
    "**Let's explore this missing data columns. We use a variety of factors to decide whether or not they would be useful, to see if we should keep, discard, or fill in the missing data.**"
   ]
  },
  {
   "cell_type": "markdown",
   "id": "dynamic-latino",
   "metadata": {
    "papermill": {
     "duration": 0.091508,
     "end_time": "2021-05-02T16:44:58.167630",
     "exception": false,
     "start_time": "2021-05-02T16:44:58.076122",
     "status": "completed"
    },
    "tags": []
   },
   "source": [
    "**Total length of the dataframe?**"
   ]
  },
  {
   "cell_type": "code",
   "execution_count": 26,
   "id": "biological-preparation",
   "metadata": {
    "execution": {
     "iopub.execute_input": "2021-05-02T16:44:58.367345Z",
     "iopub.status.busy": "2021-05-02T16:44:58.366578Z",
     "iopub.status.idle": "2021-05-02T16:44:58.370220Z",
     "shell.execute_reply": "2021-05-02T16:44:58.369793Z"
    },
    "papermill": {
     "duration": 0.100743,
     "end_time": "2021-05-02T16:44:58.370331",
     "exception": false,
     "start_time": "2021-05-02T16:44:58.269588",
     "status": "completed"
    },
    "tags": []
   },
   "outputs": [
    {
     "data": {
      "text/plain": [
       "396030"
      ]
     },
     "execution_count": 26,
     "metadata": {},
     "output_type": "execute_result"
    }
   ],
   "source": [
    "len(df.index)"
   ]
  },
  {
   "cell_type": "markdown",
   "id": "persistent-dictionary",
   "metadata": {
    "papermill": {
     "duration": 0.093395,
     "end_time": "2021-05-02T16:44:58.556162",
     "exception": false,
     "start_time": "2021-05-02T16:44:58.462767",
     "status": "completed"
    },
    "tags": []
   },
   "source": [
    "**TASK: Total count of missing values per column.**"
   ]
  },
  {
   "cell_type": "code",
   "execution_count": 27,
   "id": "linear-serve",
   "metadata": {
    "execution": {
     "iopub.execute_input": "2021-05-02T16:44:58.745749Z",
     "iopub.status.busy": "2021-05-02T16:44:58.744879Z",
     "iopub.status.idle": "2021-05-02T16:44:59.251799Z",
     "shell.execute_reply": "2021-05-02T16:44:59.250957Z"
    },
    "papermill": {
     "duration": 0.603501,
     "end_time": "2021-05-02T16:44:59.251945",
     "exception": false,
     "start_time": "2021-05-02T16:44:58.648444",
     "status": "completed"
    },
    "tags": []
   },
   "outputs": [
    {
     "data": {
      "text/plain": [
       "loan_amnt                   0\n",
       "term                        0\n",
       "int_rate                    0\n",
       "installment                 0\n",
       "grade                       0\n",
       "sub_grade                   0\n",
       "emp_title               22927\n",
       "emp_length              18301\n",
       "home_ownership              0\n",
       "annual_inc                  0\n",
       "verification_status         0\n",
       "issue_d                     0\n",
       "loan_status                 0\n",
       "purpose                     0\n",
       "title                    1755\n",
       "dti                         0\n",
       "earliest_cr_line            0\n",
       "open_acc                    0\n",
       "pub_rec                     0\n",
       "revol_bal                   0\n",
       "revol_util                276\n",
       "total_acc                   0\n",
       "initial_list_status         0\n",
       "application_type            0\n",
       "mort_acc                37795\n",
       "pub_rec_bankruptcies      535\n",
       "address                     0\n",
       "loan_repaid                 0\n",
       "dtype: int64"
      ]
     },
     "execution_count": 27,
     "metadata": {},
     "output_type": "execute_result"
    }
   ],
   "source": [
    "df.isnull().sum()"
   ]
  },
  {
   "cell_type": "markdown",
   "id": "super-heater",
   "metadata": {
    "papermill": {
     "duration": 0.094323,
     "end_time": "2021-05-02T16:44:59.439825",
     "exception": false,
     "start_time": "2021-05-02T16:44:59.345502",
     "status": "completed"
    },
    "tags": []
   },
   "source": [
    "**Lets display in terms of percentage of the total DataFrame**"
   ]
  },
  {
   "cell_type": "code",
   "execution_count": 28,
   "id": "jewish-model",
   "metadata": {
    "execution": {
     "iopub.execute_input": "2021-05-02T16:44:59.631728Z",
     "iopub.status.busy": "2021-05-02T16:44:59.630702Z",
     "iopub.status.idle": "2021-05-02T16:45:00.130306Z",
     "shell.execute_reply": "2021-05-02T16:45:00.130718Z"
    },
    "papermill": {
     "duration": 0.597938,
     "end_time": "2021-05-02T16:45:00.130882",
     "exception": false,
     "start_time": "2021-05-02T16:44:59.532944",
     "status": "completed"
    },
    "tags": []
   },
   "outputs": [
    {
     "data": {
      "text/plain": [
       "mort_acc                9.543469\n",
       "emp_title               5.789208\n",
       "emp_length              4.621115\n",
       "title                   0.443148\n",
       "pub_rec_bankruptcies    0.135091\n",
       "revol_util              0.069692\n",
       "loan_repaid             0.000000\n",
       "issue_d                 0.000000\n",
       "term                    0.000000\n",
       "int_rate                0.000000\n",
       "installment             0.000000\n",
       "grade                   0.000000\n",
       "sub_grade               0.000000\n",
       "home_ownership          0.000000\n",
       "annual_inc              0.000000\n",
       "verification_status     0.000000\n",
       "purpose                 0.000000\n",
       "loan_status             0.000000\n",
       "address                 0.000000\n",
       "dti                     0.000000\n",
       "earliest_cr_line        0.000000\n",
       "open_acc                0.000000\n",
       "pub_rec                 0.000000\n",
       "revol_bal               0.000000\n",
       "total_acc               0.000000\n",
       "initial_list_status     0.000000\n",
       "application_type        0.000000\n",
       "loan_amnt               0.000000\n",
       "dtype: float64"
      ]
     },
     "execution_count": 28,
     "metadata": {},
     "output_type": "execute_result"
    }
   ],
   "source": [
    "(df.isnull().sum() * 100 / len(df)).sort_values(ascending = False)"
   ]
  },
  {
   "cell_type": "markdown",
   "id": "elect-offense",
   "metadata": {
    "papermill": {
     "duration": 0.096897,
     "end_time": "2021-05-02T16:45:00.328098",
     "exception": false,
     "start_time": "2021-05-02T16:45:00.231201",
     "status": "completed"
    },
    "tags": []
   },
   "source": [
    "**Let's examine emp_title and emp_length columns to see whether it will be okay to drop them.**"
   ]
  },
  {
   "cell_type": "code",
   "execution_count": 29,
   "id": "advised-local",
   "metadata": {
    "execution": {
     "iopub.execute_input": "2021-05-02T16:45:00.527399Z",
     "iopub.status.busy": "2021-05-02T16:45:00.526712Z",
     "iopub.status.idle": "2021-05-02T16:45:00.530826Z",
     "shell.execute_reply": "2021-05-02T16:45:00.530387Z"
    },
    "papermill": {
     "duration": 0.104544,
     "end_time": "2021-05-02T16:45:00.530952",
     "exception": false,
     "start_time": "2021-05-02T16:45:00.426408",
     "status": "completed"
    },
    "tags": []
   },
   "outputs": [
    {
     "name": "stdout",
     "output_type": "stream",
     "text": [
      "The job title supplied by the Borrower when applying for the loan.*\n",
      "Employment length in years. Possible values are between 0 and 10 where 0 means less than one year and 10 means ten or more years. \n"
     ]
    }
   ],
   "source": [
    "feat_info('emp_title')\n",
    "feat_info('emp_length')"
   ]
  },
  {
   "cell_type": "markdown",
   "id": "together-upgrade",
   "metadata": {
    "papermill": {
     "duration": 0.094832,
     "end_time": "2021-05-02T16:45:00.726582",
     "exception": false,
     "start_time": "2021-05-02T16:45:00.631750",
     "status": "completed"
    },
    "tags": []
   },
   "source": [
    "**Looks like there are many employement job titles are present. Finding out the unique employment job titles will help us estimate the importance of that column?**"
   ]
  },
  {
   "cell_type": "code",
   "execution_count": 30,
   "id": "prescription-defeat",
   "metadata": {
    "execution": {
     "iopub.execute_input": "2021-05-02T16:45:01.003953Z",
     "iopub.status.busy": "2021-05-02T16:45:01.001076Z",
     "iopub.status.idle": "2021-05-02T16:45:01.006816Z",
     "shell.execute_reply": "2021-05-02T16:45:01.007240Z"
    },
    "papermill": {
     "duration": 0.18646,
     "end_time": "2021-05-02T16:45:01.007380",
     "exception": false,
     "start_time": "2021-05-02T16:45:00.820920",
     "status": "completed"
    },
    "tags": []
   },
   "outputs": [
    {
     "data": {
      "text/plain": [
       "173105"
      ]
     },
     "execution_count": 30,
     "metadata": {},
     "output_type": "execute_result"
    }
   ],
   "source": [
    "df.emp_title.nunique()"
   ]
  },
  {
   "cell_type": "code",
   "execution_count": 31,
   "id": "cheap-phase",
   "metadata": {
    "execution": {
     "iopub.execute_input": "2021-05-02T16:45:01.291273Z",
     "iopub.status.busy": "2021-05-02T16:45:01.290555Z",
     "iopub.status.idle": "2021-05-02T16:45:01.390461Z",
     "shell.execute_reply": "2021-05-02T16:45:01.390882Z"
    },
    "papermill": {
     "duration": 0.288455,
     "end_time": "2021-05-02T16:45:01.391030",
     "exception": false,
     "start_time": "2021-05-02T16:45:01.102575",
     "status": "completed"
    },
    "tags": []
   },
   "outputs": [
    {
     "data": {
      "text/plain": [
       "Teacher                                4389\n",
       "Manager                                4250\n",
       "Registered Nurse                       1856\n",
       "RN                                     1846\n",
       "Supervisor                             1830\n",
       "                                       ... \n",
       "Collections Associate                     1\n",
       "Staff Scientist / HazMat Instructor       1\n",
       "Associate Compliance Consultant           1\n",
       "operatinal manager                        1\n",
       "E k g technician                          1\n",
       "Name: emp_title, Length: 173105, dtype: int64"
      ]
     },
     "execution_count": 31,
     "metadata": {},
     "output_type": "execute_result"
    }
   ],
   "source": [
    "df.emp_title.value_counts()"
   ]
  },
  {
   "cell_type": "markdown",
   "id": "designed-insider",
   "metadata": {
    "papermill": {
     "duration": 0.094786,
     "end_time": "2021-05-02T16:45:01.581094",
     "exception": false,
     "start_time": "2021-05-02T16:45:01.486308",
     "status": "completed"
    },
    "tags": []
   },
   "source": [
    "**Realistically there are too many unique job titles to try to convert this to a dummy variable feature. Let's remove that emp_title column.**"
   ]
  },
  {
   "cell_type": "code",
   "execution_count": 32,
   "id": "unknown-heather",
   "metadata": {
    "execution": {
     "iopub.execute_input": "2021-05-02T16:45:01.812886Z",
     "iopub.status.busy": "2021-05-02T16:45:01.786827Z",
     "iopub.status.idle": "2021-05-02T16:45:01.837437Z",
     "shell.execute_reply": "2021-05-02T16:45:01.836929Z"
    },
    "papermill": {
     "duration": 0.162078,
     "end_time": "2021-05-02T16:45:01.837578",
     "exception": false,
     "start_time": "2021-05-02T16:45:01.675500",
     "status": "completed"
    },
    "tags": []
   },
   "outputs": [],
   "source": [
    "df.drop(columns = ['emp_title'], inplace = True)"
   ]
  },
  {
   "cell_type": "markdown",
   "id": "indie-better",
   "metadata": {
    "papermill": {
     "duration": 0.095772,
     "end_time": "2021-05-02T16:45:02.035052",
     "exception": false,
     "start_time": "2021-05-02T16:45:01.939280",
     "status": "completed"
    },
    "tags": []
   },
   "source": [
    "* Lets create a count plot of the emp_length feature column.<br>\n",
    "* Sorting the order of the values will be challenge here<br>\n",
    "* Hence we use **CategoricalDtype** method from pandas to set the datatype for emp_length column with the specified order"
   ]
  },
  {
   "cell_type": "code",
   "execution_count": 33,
   "id": "brief-representation",
   "metadata": {
    "execution": {
     "iopub.execute_input": "2021-05-02T16:45:02.292297Z",
     "iopub.status.busy": "2021-05-02T16:45:02.289353Z",
     "iopub.status.idle": "2021-05-02T16:45:02.478596Z",
     "shell.execute_reply": "2021-05-02T16:45:02.479685Z"
    },
    "papermill": {
     "duration": 0.348188,
     "end_time": "2021-05-02T16:45:02.479922",
     "exception": false,
     "start_time": "2021-05-02T16:45:02.131734",
     "status": "completed"
    },
    "tags": []
   },
   "outputs": [],
   "source": [
    "cat_emp_length = pd.CategoricalDtype(\n",
    "    ['< 1 year','1 year', '2 years', '3 years', '4 years', '5 years', '6 years', '7 years', '8 years', '9 years', '10+ years'], \n",
    "    ordered=True,\n",
    ")\n",
    "df['emp_length'] = df['emp_length'].astype(cat_emp_length)"
   ]
  },
  {
   "cell_type": "code",
   "execution_count": 34,
   "id": "rolled-anthony",
   "metadata": {
    "execution": {
     "iopub.execute_input": "2021-05-02T16:45:02.914601Z",
     "iopub.status.busy": "2021-05-02T16:45:02.913925Z",
     "iopub.status.idle": "2021-05-02T16:45:03.453398Z",
     "shell.execute_reply": "2021-05-02T16:45:03.454309Z"
    },
    "papermill": {
     "duration": 0.816528,
     "end_time": "2021-05-02T16:45:03.454497",
     "exception": false,
     "start_time": "2021-05-02T16:45:02.637969",
     "status": "completed"
    },
    "tags": []
   },
   "outputs": [
    {
     "data": {
      "text/plain": [
       "<AxesSubplot:xlabel='emp_length', ylabel='count'>"
      ]
     },
     "execution_count": 34,
     "metadata": {},
     "output_type": "execute_result"
    },
    {
     "data": {
      "image/png": "[encoded data removed]",
      "text/plain": [
       "<Figure size 1152x360 with 1 Axes>"
      ]
     },
     "metadata": {
      "needs_background": "light"
     },
     "output_type": "display_data"
    }
   ],
   "source": [
    "fig,ax = plt.subplots(figsize = (16,5))\n",
    "sns.countplot(data = df.sort_values(by = 'emp_length'), x = 'emp_length')"
   ]
  },
  {
   "cell_type": "markdown",
   "id": "radio-armenia",
   "metadata": {
    "papermill": {
     "duration": 0.097537,
     "end_time": "2021-05-02T16:45:03.671951",
     "exception": false,
     "start_time": "2021-05-02T16:45:03.574414",
     "status": "completed"
    },
    "tags": []
   },
   "source": [
    "**Let's plot out the countplot with a hue separating Fully Paid vs Charged Off**"
   ]
  },
  {
   "cell_type": "code",
   "execution_count": 35,
   "id": "published-tunnel",
   "metadata": {
    "execution": {
     "iopub.execute_input": "2021-05-02T16:45:03.889011Z",
     "iopub.status.busy": "2021-05-02T16:45:03.888192Z",
     "iopub.status.idle": "2021-05-02T16:45:04.496287Z",
     "shell.execute_reply": "2021-05-02T16:45:04.495826Z"
    },
    "papermill": {
     "duration": 0.727227,
     "end_time": "2021-05-02T16:45:04.496411",
     "exception": false,
     "start_time": "2021-05-02T16:45:03.769184",
     "status": "completed"
    },
    "tags": []
   },
   "outputs": [
    {
     "data": {
      "text/plain": [
       "<AxesSubplot:xlabel='emp_length', ylabel='count'>"
      ]
     },
     "execution_count": 35,
     "metadata": {},
     "output_type": "execute_result"
    },
    {
     "data": {
      "image/png": "[encoded data removed]",
      "text/plain": [
       "<Figure size 1152x360 with 1 Axes>"
      ]
     },
     "metadata": {
      "needs_background": "light"
     },
     "output_type": "display_data"
    }
   ],
   "source": [
    "fig,ax = plt.subplots(figsize = (16,5))\n",
    "sns.countplot(data = df.sort_values(by = 'emp_length'), x = 'emp_length', hue = 'loan_status')"
   ]
  },
  {
   "cell_type": "markdown",
   "id": "clean-fruit",
   "metadata": {
    "papermill": {
     "duration": 0.100373,
     "end_time": "2021-05-02T16:45:04.700271",
     "exception": false,
     "start_time": "2021-05-02T16:45:04.599898",
     "status": "completed"
    },
    "tags": []
   },
   "source": [
    "**This still doesn't really inform us if there is a strong relationship between employment length and being charged off, what we want is the percentage of charge offs per category. Essentially informing us what percent of people per employment category didn't pay back their loan.**"
   ]
  },
  {
   "cell_type": "code",
   "execution_count": 36,
   "id": "recent-monitoring",
   "metadata": {
    "execution": {
     "iopub.execute_input": "2021-05-02T16:45:04.909038Z",
     "iopub.status.busy": "2021-05-02T16:45:04.908175Z",
     "iopub.status.idle": "2021-05-02T16:45:05.112652Z",
     "shell.execute_reply": "2021-05-02T16:45:05.113070Z"
    },
    "papermill": {
     "duration": 0.312858,
     "end_time": "2021-05-02T16:45:05.113218",
     "exception": false,
     "start_time": "2021-05-02T16:45:04.800360",
     "status": "completed"
    },
    "tags": []
   },
   "outputs": [
    {
     "data": {
      "text/plain": [
       "<AxesSubplot:xlabel='emp_length'>"
      ]
     },
     "execution_count": 36,
     "metadata": {},
     "output_type": "execute_result"
    },
    {
     "data": {
      "image/png": "[encoded data removed]",
      "text/plain": [
       "<Figure size 432x288 with 1 Axes>"
      ]
     },
     "metadata": {
      "needs_background": "light"
     },
     "output_type": "display_data"
    }
   ],
   "source": [
    "grp_ln_stat = pd.pivot_table(df, index = ['emp_length'],columns = ['loan_status'],values=[\"loan_amnt\"],aggfunc=len).loan_amnt\n",
    "grp_ln_stat['percent'] = grp_ln_stat['Charged Off']/grp_ln_stat['Fully Paid']*100\n",
    "grp_ln_stat.percent.plot(kind = 'bar')"
   ]
  },
  {
   "cell_type": "markdown",
   "id": "industrial-settle",
   "metadata": {
    "papermill": {
     "duration": 0.097735,
     "end_time": "2021-05-02T16:45:05.309727",
     "exception": false,
     "start_time": "2021-05-02T16:45:05.211992",
     "status": "completed"
    },
    "tags": []
   },
   "source": [
    "**Lets drop the column emp_length, As the Charge off rates are extremely similar across all employment lengths.**"
   ]
  },
  {
   "cell_type": "code",
   "execution_count": 37,
   "id": "standard-consortium",
   "metadata": {
    "execution": {
     "iopub.execute_input": "2021-05-02T16:45:05.578028Z",
     "iopub.status.busy": "2021-05-02T16:45:05.523692Z",
     "iopub.status.idle": "2021-05-02T16:45:05.580582Z",
     "shell.execute_reply": "2021-05-02T16:45:05.580172Z"
    },
    "papermill": {
     "duration": 0.172916,
     "end_time": "2021-05-02T16:45:05.580704",
     "exception": false,
     "start_time": "2021-05-02T16:45:05.407788",
     "status": "completed"
    },
    "tags": []
   },
   "outputs": [],
   "source": [
    "df.drop(columns = ['emp_length'], inplace = True)"
   ]
  },
  {
   "cell_type": "markdown",
   "id": "laughing-immune",
   "metadata": {
    "papermill": {
     "duration": 0.097923,
     "end_time": "2021-05-02T16:45:05.778288",
     "exception": false,
     "start_time": "2021-05-02T16:45:05.680365",
     "status": "completed"
    },
    "tags": []
   },
   "source": [
    "**Revisiting the DataFrame to see what feature columns still have missing data.**"
   ]
  },
  {
   "cell_type": "code",
   "execution_count": 38,
   "id": "fifty-sacramento",
   "metadata": {
    "execution": {
     "iopub.execute_input": "2021-05-02T16:45:05.979973Z",
     "iopub.status.busy": "2021-05-02T16:45:05.979108Z",
     "iopub.status.idle": "2021-05-02T16:45:06.416076Z",
     "shell.execute_reply": "2021-05-02T16:45:06.416495Z"
    },
    "papermill": {
     "duration": 0.540316,
     "end_time": "2021-05-02T16:45:06.416643",
     "exception": false,
     "start_time": "2021-05-02T16:45:05.876327",
     "status": "completed"
    },
    "tags": []
   },
   "outputs": [
    {
     "data": {
      "text/plain": [
       "loan_amnt                   0\n",
       "term                        0\n",
       "int_rate                    0\n",
       "installment                 0\n",
       "grade                       0\n",
       "sub_grade                   0\n",
       "home_ownership              0\n",
       "annual_inc                  0\n",
       "verification_status         0\n",
       "issue_d                     0\n",
       "loan_status                 0\n",
       "purpose                     0\n",
       "title                    1755\n",
       "dti                         0\n",
       "earliest_cr_line            0\n",
       "open_acc                    0\n",
       "pub_rec                     0\n",
       "revol_bal                   0\n",
       "revol_util                276\n",
       "total_acc                   0\n",
       "initial_list_status         0\n",
       "application_type            0\n",
       "mort_acc                37795\n",
       "pub_rec_bankruptcies      535\n",
       "address                     0\n",
       "loan_repaid                 0\n",
       "dtype: int64"
      ]
     },
     "execution_count": 38,
     "metadata": {},
     "output_type": "execute_result"
    }
   ],
   "source": [
    "df.isnull().sum()"
   ]
  },
  {
   "cell_type": "markdown",
   "id": "handmade-macintosh",
   "metadata": {
    "papermill": {
     "duration": 0.099716,
     "end_time": "2021-05-02T16:45:06.616062",
     "exception": false,
     "start_time": "2021-05-02T16:45:06.516346",
     "status": "completed"
    },
    "tags": []
   },
   "source": [
    "**Review the title column vs the purpose column. Is this repeated information?**"
   ]
  },
  {
   "cell_type": "code",
   "execution_count": 39,
   "id": "broken-insured",
   "metadata": {
    "execution": {
     "iopub.execute_input": "2021-05-02T16:45:06.823227Z",
     "iopub.status.busy": "2021-05-02T16:45:06.822253Z",
     "iopub.status.idle": "2021-05-02T16:45:06.834452Z",
     "shell.execute_reply": "2021-05-02T16:45:06.833836Z"
    },
    "papermill": {
     "duration": 0.119839,
     "end_time": "2021-05-02T16:45:06.834574",
     "exception": false,
     "start_time": "2021-05-02T16:45:06.714735",
     "status": "completed"
    },
    "tags": []
   },
   "outputs": [
    {
     "data": {
      "text/html": [
       "<div>\n",
       "<style scoped>\n",
       "    .dataframe tbody tr th:only-of-type {\n",
       "        vertical-align: middle;\n",
       "    }\n",
       "\n",
       "    .dataframe tbody tr th {\n",
       "        vertical-align: top;\n",
       "    }\n",
       "\n",
       "    .dataframe thead th {\n",
       "        text-align: right;\n",
       "    }\n",
       "</style>\n",
       "<table border=\"1\" class=\"dataframe\">\n",
       "  <thead>\n",
       "    <tr style=\"text-align: right;\">\n",
       "      <th></th>\n",
       "      <th>purpose</th>\n",
       "      <th>title</th>\n",
       "    </tr>\n",
       "  </thead>\n",
       "  <tbody>\n",
       "    <tr>\n",
       "      <th>0</th>\n",
       "      <td>vacation</td>\n",
       "      <td>Vacation</td>\n",
       "    </tr>\n",
       "    <tr>\n",
       "      <th>1</th>\n",
       "      <td>debt_consolidation</td>\n",
       "      <td>Debt consolidation</td>\n",
       "    </tr>\n",
       "    <tr>\n",
       "      <th>2</th>\n",
       "      <td>credit_card</td>\n",
       "      <td>Credit card refinancing</td>\n",
       "    </tr>\n",
       "    <tr>\n",
       "      <th>3</th>\n",
       "      <td>credit_card</td>\n",
       "      <td>Credit card refinancing</td>\n",
       "    </tr>\n",
       "    <tr>\n",
       "      <th>4</th>\n",
       "      <td>credit_card</td>\n",
       "      <td>Credit Card Refinance</td>\n",
       "    </tr>\n",
       "  </tbody>\n",
       "</table>\n",
       "</div>"
      ],
      "text/plain": [
       "              purpose                    title\n",
       "0            vacation                 Vacation\n",
       "1  debt_consolidation       Debt consolidation\n",
       "2         credit_card  Credit card refinancing\n",
       "3         credit_card  Credit card refinancing\n",
       "4         credit_card    Credit Card Refinance"
      ]
     },
     "execution_count": 39,
     "metadata": {},
     "output_type": "execute_result"
    }
   ],
   "source": [
    "df[['purpose','title']].head()"
   ]
  },
  {
   "cell_type": "code",
   "execution_count": 40,
   "id": "pregnant-opera",
   "metadata": {
    "execution": {
     "iopub.execute_input": "2021-05-02T16:45:07.040832Z",
     "iopub.status.busy": "2021-05-02T16:45:07.039888Z",
     "iopub.status.idle": "2021-05-02T16:45:07.043636Z",
     "shell.execute_reply": "2021-05-02T16:45:07.044078Z"
    },
    "papermill": {
     "duration": 0.10927,
     "end_time": "2021-05-02T16:45:07.044211",
     "exception": false,
     "start_time": "2021-05-02T16:45:06.934941",
     "status": "completed"
    },
    "tags": []
   },
   "outputs": [
    {
     "data": {
      "text/plain": [
       "0                   Vacation\n",
       "1         Debt consolidation\n",
       "2    Credit card refinancing\n",
       "3    Credit card refinancing\n",
       "4      Credit Card Refinance\n",
       "5         Debt consolidation\n",
       "6           Home improvement\n",
       "7       No More Credit Cards\n",
       "8         Debt consolidation\n",
       "9         Debt Consolidation\n",
       "Name: title, dtype: object"
      ]
     },
     "execution_count": 40,
     "metadata": {},
     "output_type": "execute_result"
    }
   ],
   "source": [
    "df['title'].head(10)"
   ]
  },
  {
   "cell_type": "markdown",
   "id": "comparative-barrel",
   "metadata": {
    "papermill": {
     "duration": 0.106132,
     "end_time": "2021-05-02T16:45:07.253537",
     "exception": false,
     "start_time": "2021-05-02T16:45:07.147405",
     "status": "completed"
    },
    "tags": []
   },
   "source": [
    "**The title column is simply a string subcategory/description of the purpose column. Let's go ahead and drop the title column.**"
   ]
  },
  {
   "cell_type": "code",
   "execution_count": 41,
   "id": "personalized-madrid",
   "metadata": {
    "execution": {
     "iopub.execute_input": "2021-05-02T16:45:07.510413Z",
     "iopub.status.busy": "2021-05-02T16:45:07.508589Z",
     "iopub.status.idle": "2021-05-02T16:45:07.511092Z",
     "shell.execute_reply": "2021-05-02T16:45:07.511487Z"
    },
    "papermill": {
     "duration": 0.158331,
     "end_time": "2021-05-02T16:45:07.511631",
     "exception": false,
     "start_time": "2021-05-02T16:45:07.353300",
     "status": "completed"
    },
    "tags": []
   },
   "outputs": [],
   "source": [
    "df.drop(columns = ['title'], inplace = True)"
   ]
  },
  {
   "cell_type": "markdown",
   "id": "promotional-poverty",
   "metadata": {
    "papermill": {
     "duration": 0.100654,
     "end_time": "2021-05-02T16:45:07.712022",
     "exception": false,
     "start_time": "2021-05-02T16:45:07.611368",
     "status": "completed"
    },
    "tags": []
   },
   "source": [
    "**Let's find out what the mort_acc feature represents**"
   ]
  },
  {
   "cell_type": "code",
   "execution_count": 42,
   "id": "compressed-track",
   "metadata": {
    "execution": {
     "iopub.execute_input": "2021-05-02T16:45:07.916536Z",
     "iopub.status.busy": "2021-05-02T16:45:07.915900Z",
     "iopub.status.idle": "2021-05-02T16:45:07.919280Z",
     "shell.execute_reply": "2021-05-02T16:45:07.919863Z"
    },
    "papermill": {
     "duration": 0.108727,
     "end_time": "2021-05-02T16:45:07.920039",
     "exception": false,
     "start_time": "2021-05-02T16:45:07.811312",
     "status": "completed"
    },
    "tags": []
   },
   "outputs": [
    {
     "name": "stdout",
     "output_type": "stream",
     "text": [
      "Number of mortgage accounts.\n"
     ]
    }
   ],
   "source": [
    "feat_info('mort_acc')"
   ]
  },
  {
   "cell_type": "markdown",
   "id": "worth-member",
   "metadata": {
    "papermill": {
     "duration": 0.101458,
     "end_time": "2021-05-02T16:45:08.123747",
     "exception": false,
     "start_time": "2021-05-02T16:45:08.022289",
     "status": "completed"
    },
    "tags": []
   },
   "source": [
    "**Displaying the unique values with its counts of the mort_acc column.**"
   ]
  },
  {
   "cell_type": "code",
   "execution_count": 43,
   "id": "quantitative-browse",
   "metadata": {
    "execution": {
     "iopub.execute_input": "2021-05-02T16:45:08.344251Z",
     "iopub.status.busy": "2021-05-02T16:45:08.343495Z",
     "iopub.status.idle": "2021-05-02T16:45:08.357155Z",
     "shell.execute_reply": "2021-05-02T16:45:08.356648Z"
    },
    "papermill": {
     "duration": 0.12174,
     "end_time": "2021-05-02T16:45:08.357277",
     "exception": false,
     "start_time": "2021-05-02T16:45:08.235537",
     "status": "completed"
    },
    "tags": []
   },
   "outputs": [
    {
     "data": {
      "text/plain": [
       "0.0     139777\n",
       "1.0      60416\n",
       "2.0      49948\n",
       "3.0      38049\n",
       "4.0      27887\n",
       "5.0      18194\n",
       "6.0      11069\n",
       "7.0       6052\n",
       "8.0       3121\n",
       "9.0       1656\n",
       "10.0       865\n",
       "11.0       479\n",
       "12.0       264\n",
       "13.0       146\n",
       "14.0       107\n",
       "15.0        61\n",
       "16.0        37\n",
       "17.0        22\n",
       "18.0        18\n",
       "19.0        15\n",
       "20.0        13\n",
       "24.0        10\n",
       "22.0         7\n",
       "21.0         4\n",
       "25.0         4\n",
       "27.0         3\n",
       "23.0         2\n",
       "32.0         2\n",
       "26.0         2\n",
       "31.0         2\n",
       "30.0         1\n",
       "28.0         1\n",
       "34.0         1\n",
       "Name: mort_acc, dtype: int64"
      ]
     },
     "execution_count": 43,
     "metadata": {},
     "output_type": "execute_result"
    }
   ],
   "source": [
    "df.mort_acc.value_counts()"
   ]
  },
  {
   "cell_type": "markdown",
   "id": "atlantic-california",
   "metadata": {
    "papermill": {
     "duration": 0.101324,
     "end_time": "2021-05-02T16:45:08.563237",
     "exception": false,
     "start_time": "2021-05-02T16:45:08.461913",
     "status": "completed"
    },
    "tags": []
   },
   "source": [
    "**There are many ways we could deal with this missing data. We could attempt to build a simple model to fill it in, such as a linear model, we could just fill it in based on the mean of the other columns, or you could even bin the columns into categories and then set NaN as its own category. As there is no 100% correct approach, Let's review the other column to see which most highly correlates to mort_acc**"
   ]
  },
  {
   "cell_type": "code",
   "execution_count": 44,
   "id": "developmental-hungary",
   "metadata": {
    "execution": {
     "iopub.execute_input": "2021-05-02T16:45:08.771867Z",
     "iopub.status.busy": "2021-05-02T16:45:08.770689Z",
     "iopub.status.idle": "2021-05-02T16:45:08.942441Z",
     "shell.execute_reply": "2021-05-02T16:45:08.942888Z"
    },
    "papermill": {
     "duration": 0.278495,
     "end_time": "2021-05-02T16:45:08.943041",
     "exception": false,
     "start_time": "2021-05-02T16:45:08.664546",
     "status": "completed"
    },
    "tags": []
   },
   "outputs": [
    {
     "data": {
      "text/plain": [
       "int_rate               -0.082583\n",
       "dti                    -0.025439\n",
       "revol_util              0.007514\n",
       "pub_rec                 0.011552\n",
       "pub_rec_bankruptcies    0.027239\n",
       "loan_repaid             0.073111\n",
       "open_acc                0.109205\n",
       "installment             0.193694\n",
       "revol_bal               0.194925\n",
       "loan_amnt               0.222315\n",
       "annual_inc              0.236320\n",
       "total_acc               0.381072\n",
       "Name: mort_acc, dtype: float64"
      ]
     },
     "execution_count": 44,
     "metadata": {},
     "output_type": "execute_result"
    }
   ],
   "source": [
    "df.corr().mort_acc.drop('mort_acc').sort_values()"
   ]
  },
  {
   "cell_type": "markdown",
   "id": "detected-negative",
   "metadata": {
    "papermill": {
     "duration": 0.101677,
     "end_time": "2021-05-02T16:45:09.149010",
     "exception": false,
     "start_time": "2021-05-02T16:45:09.047333",
     "status": "completed"
    },
    "tags": []
   },
   "source": [
    "**Looks like the total_acc feature correlates with the mort_acc, this makes sense! Let's try this fillna() approach. We will group the dataframe by the total_acc and calculate the mean value for the mort_acc per total_acc entry. To get the result below:**"
   ]
  },
  {
   "cell_type": "code",
   "execution_count": 45,
   "id": "serial-darkness",
   "metadata": {
    "execution": {
     "iopub.execute_input": "2021-05-02T16:45:09.449085Z",
     "iopub.status.busy": "2021-05-02T16:45:09.448274Z",
     "iopub.status.idle": "2021-05-02T16:45:09.484236Z",
     "shell.execute_reply": "2021-05-02T16:45:09.484603Z"
    },
    "papermill": {
     "duration": 0.196505,
     "end_time": "2021-05-02T16:45:09.484748",
     "exception": false,
     "start_time": "2021-05-02T16:45:09.288243",
     "status": "completed"
    },
    "tags": []
   },
   "outputs": [
    {
     "data": {
      "text/plain": [
       "total_acc\n",
       "2.0      0.000000\n",
       "3.0      0.052023\n",
       "4.0      0.066743\n",
       "5.0      0.103289\n",
       "6.0      0.151293\n",
       "           ...   \n",
       "124.0    1.000000\n",
       "129.0    1.000000\n",
       "135.0    3.000000\n",
       "150.0    2.000000\n",
       "151.0    0.000000\n",
       "Name: mort_acc, Length: 118, dtype: float64"
      ]
     },
     "execution_count": 45,
     "metadata": {},
     "output_type": "execute_result"
    }
   ],
   "source": [
    "total_acc_grp = df.groupby('total_acc').mean().mort_acc\n",
    "total_acc_grp"
   ]
  },
  {
   "cell_type": "markdown",
   "id": "honey-brunei",
   "metadata": {
    "papermill": {
     "duration": 0.102201,
     "end_time": "2021-05-02T16:45:09.690418",
     "exception": false,
     "start_time": "2021-05-02T16:45:09.588217",
     "status": "completed"
    },
    "tags": []
   },
   "source": [
    "**Let's fill in the missing mort_acc values based on their total_acc value. If the mort_acc is missing, then we will fill in that missing value with the mean value corresponding to its total_acc value from the Series we created above. We are going to use .apply() method on axis=1. Check out the link below for more info.**\n",
    "\n",
    "[Reference](https://stackoverflow.com/questions/13331698/how-to-apply-a-function-to-two-columns-of-pandas-dataframe) "
   ]
  },
  {
   "cell_type": "code",
   "execution_count": 46,
   "id": "parental-trouble",
   "metadata": {
    "execution": {
     "iopub.execute_input": "2021-05-02T16:45:09.899699Z",
     "iopub.status.busy": "2021-05-02T16:45:09.898988Z",
     "iopub.status.idle": "2021-05-02T16:45:09.902100Z",
     "shell.execute_reply": "2021-05-02T16:45:09.902511Z"
    },
    "papermill": {
     "duration": 0.110569,
     "end_time": "2021-05-02T16:45:09.902641",
     "exception": false,
     "start_time": "2021-05-02T16:45:09.792072",
     "status": "completed"
    },
    "tags": []
   },
   "outputs": [
    {
     "data": {
      "text/plain": [
       "False"
      ]
     },
     "execution_count": 46,
     "metadata": {},
     "output_type": "execute_result"
    }
   ],
   "source": [
    "df.loc[10].isnull().mort_acc"
   ]
  },
  {
   "cell_type": "code",
   "execution_count": 47,
   "id": "accompanied-garbage",
   "metadata": {
    "execution": {
     "iopub.execute_input": "2021-05-02T16:45:10.454168Z",
     "iopub.status.busy": "2021-05-02T16:45:10.374085Z",
     "iopub.status.idle": "2021-05-02T16:46:00.970924Z",
     "shell.execute_reply": "2021-05-02T16:46:00.970410Z"
    },
    "papermill": {
     "duration": 50.96684,
     "end_time": "2021-05-02T16:46:00.971073",
     "exception": false,
     "start_time": "2021-05-02T16:45:10.004233",
     "status": "completed"
    },
    "tags": []
   },
   "outputs": [],
   "source": [
    "df['mort_acc'] = df.apply(lambda x : total_acc_grp[x.total_acc] if x.isnull().mort_acc else x.mort_acc, axis = 1)"
   ]
  },
  {
   "cell_type": "code",
   "execution_count": 48,
   "id": "moved-accounting",
   "metadata": {
    "execution": {
     "iopub.execute_input": "2021-05-02T16:46:01.191525Z",
     "iopub.status.busy": "2021-05-02T16:46:01.190679Z",
     "iopub.status.idle": "2021-05-02T16:46:01.197478Z",
     "shell.execute_reply": "2021-05-02T16:46:01.197048Z"
    },
    "papermill": {
     "duration": 0.115044,
     "end_time": "2021-05-02T16:46:01.197583",
     "exception": false,
     "start_time": "2021-05-02T16:46:01.082539",
     "status": "completed"
    },
    "tags": []
   },
   "outputs": [
    {
     "data": {
      "text/plain": [
       "0"
      ]
     },
     "execution_count": 48,
     "metadata": {},
     "output_type": "execute_result"
    }
   ],
   "source": [
    "#Total null values in mort_acc\n",
    "df['mort_acc'].isnull().sum()"
   ]
  },
  {
   "cell_type": "code",
   "execution_count": 49,
   "id": "studied-collapse",
   "metadata": {
    "execution": {
     "iopub.execute_input": "2021-05-02T16:46:01.409402Z",
     "iopub.status.busy": "2021-05-02T16:46:01.408501Z",
     "iopub.status.idle": "2021-05-02T16:46:01.818377Z",
     "shell.execute_reply": "2021-05-02T16:46:01.818941Z"
    },
    "papermill": {
     "duration": 0.517025,
     "end_time": "2021-05-02T16:46:01.819112",
     "exception": false,
     "start_time": "2021-05-02T16:46:01.302087",
     "status": "completed"
    },
    "tags": []
   },
   "outputs": [
    {
     "data": {
      "text/plain": [
       "pub_rec_bankruptcies    0.135091\n",
       "revol_util              0.069692\n",
       "loan_repaid             0.000000\n",
       "loan_status             0.000000\n",
       "term                    0.000000\n",
       "int_rate                0.000000\n",
       "installment             0.000000\n",
       "grade                   0.000000\n",
       "sub_grade               0.000000\n",
       "home_ownership          0.000000\n",
       "annual_inc              0.000000\n",
       "verification_status     0.000000\n",
       "issue_d                 0.000000\n",
       "dti                     0.000000\n",
       "purpose                 0.000000\n",
       "address                 0.000000\n",
       "earliest_cr_line        0.000000\n",
       "open_acc                0.000000\n",
       "pub_rec                 0.000000\n",
       "revol_bal               0.000000\n",
       "total_acc               0.000000\n",
       "initial_list_status     0.000000\n",
       "application_type        0.000000\n",
       "mort_acc                0.000000\n",
       "loan_amnt               0.000000\n",
       "dtype: float64"
      ]
     },
     "execution_count": 49,
     "metadata": {},
     "output_type": "execute_result"
    }
   ],
   "source": [
    "#Percentage of missing values in each columns\n",
    "df.isnull().sum().sort_values(ascending = False)/len(df)*100"
   ]
  },
  {
   "cell_type": "markdown",
   "id": "hungarian-permission",
   "metadata": {
    "papermill": {
     "duration": 0.104958,
     "end_time": "2021-05-02T16:46:02.046153",
     "exception": false,
     "start_time": "2021-05-02T16:46:01.941195",
     "status": "completed"
    },
    "tags": []
   },
   "source": [
    "**revol_util and the pub_rec_bankruptcies have missing data points, but they account for less than 0.5% of the total data. Go ahead and remove the rows that are missing those values in those columns with dropna().**"
   ]
  },
  {
   "cell_type": "code",
   "execution_count": 50,
   "id": "american-prescription",
   "metadata": {
    "execution": {
     "iopub.execute_input": "2021-05-02T16:46:02.260397Z",
     "iopub.status.busy": "2021-05-02T16:46:02.259419Z",
     "iopub.status.idle": "2021-05-02T16:46:02.727080Z",
     "shell.execute_reply": "2021-05-02T16:46:02.727591Z"
    },
    "papermill": {
     "duration": 0.577584,
     "end_time": "2021-05-02T16:46:02.727742",
     "exception": false,
     "start_time": "2021-05-02T16:46:02.150158",
     "status": "completed"
    },
    "tags": []
   },
   "outputs": [
    {
     "name": "stdout",
     "output_type": "stream",
     "text": [
      "length of dataframe before and after removing the missing values\n",
      "396030\n",
      "395219\n"
     ]
    }
   ],
   "source": [
    "print(\"length of dataframe before and after removing the missing values\")\n",
    "print(len(df))\n",
    "df.dropna(inplace = True)\n",
    "print(len(df))"
   ]
  },
  {
   "cell_type": "markdown",
   "id": "extensive-delicious",
   "metadata": {
    "papermill": {
     "duration": 0.106038,
     "end_time": "2021-05-02T16:46:02.941914",
     "exception": false,
     "start_time": "2021-05-02T16:46:02.835876",
     "status": "completed"
    },
    "tags": []
   },
   "source": [
    "## Categorical Variables and Dummy Variables\n",
    "\n",
    "**We're done working with the missing data! Now we just need to deal with the string values due to the categorical columns.**\n",
    "\n",
    "**Let's list down all the columns that are currently non-numeric."
   ]
  },
  {
   "cell_type": "code",
   "execution_count": 51,
   "id": "defensive-diabetes",
   "metadata": {
    "execution": {
     "iopub.execute_input": "2021-05-02T16:46:03.208453Z",
     "iopub.status.busy": "2021-05-02T16:46:03.207561Z",
     "iopub.status.idle": "2021-05-02T16:46:03.210984Z",
     "shell.execute_reply": "2021-05-02T16:46:03.211402Z"
    },
    "papermill": {
     "duration": 0.163477,
     "end_time": "2021-05-02T16:46:03.211546",
     "exception": false,
     "start_time": "2021-05-02T16:46:03.048069",
     "status": "completed"
    },
    "tags": []
   },
   "outputs": [
    {
     "data": {
      "text/plain": [
       "Index(['term', 'grade', 'sub_grade', 'home_ownership', 'verification_status',\n",
       "       'issue_d', 'loan_status', 'purpose', 'earliest_cr_line',\n",
       "       'initial_list_status', 'application_type', 'address'],\n",
       "      dtype='object')"
      ]
     },
     "execution_count": 51,
     "metadata": {},
     "output_type": "execute_result"
    }
   ],
   "source": [
    "df.select_dtypes(include = ['object']).columns"
   ]
  },
  {
   "cell_type": "code",
   "execution_count": 52,
   "id": "cultural-subsection",
   "metadata": {
    "execution": {
     "iopub.execute_input": "2021-05-02T16:46:03.507185Z",
     "iopub.status.busy": "2021-05-02T16:46:03.506367Z",
     "iopub.status.idle": "2021-05-02T16:46:03.512531Z",
     "shell.execute_reply": "2021-05-02T16:46:03.512921Z"
    },
    "papermill": {
     "duration": 0.196118,
     "end_time": "2021-05-02T16:46:03.513067",
     "exception": false,
     "start_time": "2021-05-02T16:46:03.316949",
     "status": "completed"
    },
    "tags": []
   },
   "outputs": [
    {
     "data": {
      "text/plain": [
       " 36 months    301247\n",
       " 60 months     93972\n",
       "Name: term, dtype: int64"
      ]
     },
     "execution_count": 52,
     "metadata": {},
     "output_type": "execute_result"
    }
   ],
   "source": [
    "df.term.value_counts()"
   ]
  },
  {
   "cell_type": "markdown",
   "id": "collected-baptist",
   "metadata": {
    "papermill": {
     "duration": 0.106194,
     "end_time": "2021-05-02T16:46:03.725288",
     "exception": false,
     "start_time": "2021-05-02T16:46:03.619094",
     "status": "completed"
    },
    "tags": []
   },
   "source": [
    "---\n",
    "**Let's now go through all the string features to see what we should do with them.**\n",
    "\n",
    "---\n",
    "\n",
    "\n",
    "### Term feature\n",
    "\n",
    "**Lets Convert the term feature into either a 36 or 60 integer numeric data type**"
   ]
  },
  {
   "cell_type": "code",
   "execution_count": 53,
   "id": "returning-background",
   "metadata": {
    "execution": {
     "iopub.execute_input": "2021-05-02T16:46:03.943227Z",
     "iopub.status.busy": "2021-05-02T16:46:03.942190Z",
     "iopub.status.idle": "2021-05-02T16:46:04.250141Z",
     "shell.execute_reply": "2021-05-02T16:46:04.250562Z"
    },
    "papermill": {
     "duration": 0.418886,
     "end_time": "2021-05-02T16:46:04.250707",
     "exception": false,
     "start_time": "2021-05-02T16:46:03.831821",
     "status": "completed"
    },
    "tags": []
   },
   "outputs": [
    {
     "data": {
      "text/plain": [
       "0    301247\n",
       "1     93972\n",
       "Name: term_36_or_60, dtype: int64"
      ]
     },
     "execution_count": 53,
     "metadata": {},
     "output_type": "execute_result"
    }
   ],
   "source": [
    "df['term_36_or_60'] = df.term.apply(lambda x: 0 if int(x[:3]) == 36 else 1)\n",
    "df['term_36_or_60'].value_counts()"
   ]
  },
  {
   "cell_type": "markdown",
   "id": "functional-russia",
   "metadata": {
    "papermill": {
     "duration": 0.106172,
     "end_time": "2021-05-02T16:46:04.463497",
     "exception": false,
     "start_time": "2021-05-02T16:46:04.357325",
     "status": "completed"
    },
    "tags": []
   },
   "source": [
    "### grade feature\n",
    "\n",
    "**TASK: We already know grade is part of sub_grade, so just drop the grade feature.**"
   ]
  },
  {
   "cell_type": "code",
   "execution_count": 54,
   "id": "transsexual-salon",
   "metadata": {
    "execution": {
     "iopub.execute_input": "2021-05-02T16:46:04.682828Z",
     "iopub.status.busy": "2021-05-02T16:46:04.681775Z",
     "iopub.status.idle": "2021-05-02T16:46:04.742959Z",
     "shell.execute_reply": "2021-05-02T16:46:04.742468Z"
    },
    "papermill": {
     "duration": 0.173037,
     "end_time": "2021-05-02T16:46:04.743100",
     "exception": false,
     "start_time": "2021-05-02T16:46:04.570063",
     "status": "completed"
    },
    "tags": []
   },
   "outputs": [],
   "source": [
    "df.drop(columns = ['grade','term'], inplace = True)"
   ]
  },
  {
   "cell_type": "markdown",
   "id": "cosmetic-length",
   "metadata": {
    "papermill": {
     "duration": 0.106168,
     "end_time": "2021-05-02T16:46:04.960761",
     "exception": false,
     "start_time": "2021-05-02T16:46:04.854593",
     "status": "completed"
    },
    "tags": []
   },
   "source": [
    "**Converting the subgrade into dummy variables. Then concatenate these new columns to the original dataframe.**"
   ]
  },
  {
   "cell_type": "code",
   "execution_count": 55,
   "id": "upper-customs",
   "metadata": {
    "execution": {
     "iopub.execute_input": "2021-05-02T16:46:05.179086Z",
     "iopub.status.busy": "2021-05-02T16:46:05.177761Z",
     "iopub.status.idle": "2021-05-02T16:46:05.434097Z",
     "shell.execute_reply": "2021-05-02T16:46:05.433628Z"
    },
    "papermill": {
     "duration": 0.367188,
     "end_time": "2021-05-02T16:46:05.434225",
     "exception": false,
     "start_time": "2021-05-02T16:46:05.067037",
     "status": "completed"
    },
    "tags": []
   },
   "outputs": [],
   "source": [
    "new_df = df.copy()\n",
    "new_df = pd.get_dummies(data = new_df,columns = ['sub_grade'], prefix = 'grade',drop_first = True)"
   ]
  },
  {
   "cell_type": "code",
   "execution_count": 56,
   "id": "legendary-resort",
   "metadata": {
    "execution": {
     "iopub.execute_input": "2021-05-02T16:46:05.651858Z",
     "iopub.status.busy": "2021-05-02T16:46:05.651087Z",
     "iopub.status.idle": "2021-05-02T16:46:05.654405Z",
     "shell.execute_reply": "2021-05-02T16:46:05.654807Z"
    },
    "papermill": {
     "duration": 0.114435,
     "end_time": "2021-05-02T16:46:05.654950",
     "exception": false,
     "start_time": "2021-05-02T16:46:05.540515",
     "status": "completed"
    },
    "tags": []
   },
   "outputs": [
    {
     "data": {
      "text/plain": [
       "Index(['loan_amnt', 'int_rate', 'installment', 'home_ownership', 'annual_inc',\n",
       "       'verification_status', 'issue_d', 'loan_status', 'purpose', 'dti',\n",
       "       'earliest_cr_line', 'open_acc', 'pub_rec', 'revol_bal', 'revol_util',\n",
       "       'total_acc', 'initial_list_status', 'application_type', 'mort_acc',\n",
       "       'pub_rec_bankruptcies', 'address', 'loan_repaid', 'term_36_or_60',\n",
       "       'grade_A2', 'grade_A3', 'grade_A4', 'grade_A5', 'grade_B1', 'grade_B2',\n",
       "       'grade_B3', 'grade_B4', 'grade_B5', 'grade_C1', 'grade_C2', 'grade_C3',\n",
       "       'grade_C4', 'grade_C5', 'grade_D1', 'grade_D2', 'grade_D3', 'grade_D4',\n",
       "       'grade_D5', 'grade_E1', 'grade_E2', 'grade_E3', 'grade_E4', 'grade_E5',\n",
       "       'grade_F1', 'grade_F2', 'grade_F3', 'grade_F4', 'grade_F5', 'grade_G1',\n",
       "       'grade_G2', 'grade_G3', 'grade_G4', 'grade_G5'],\n",
       "      dtype='object')"
      ]
     },
     "execution_count": 56,
     "metadata": {},
     "output_type": "execute_result"
    }
   ],
   "source": [
    "new_df.columns"
   ]
  },
  {
   "cell_type": "code",
   "execution_count": 57,
   "id": "center-opening",
   "metadata": {
    "execution": {
     "iopub.execute_input": "2021-05-02T16:46:05.873200Z",
     "iopub.status.busy": "2021-05-02T16:46:05.872393Z",
     "iopub.status.idle": "2021-05-02T16:46:05.987417Z",
     "shell.execute_reply": "2021-05-02T16:46:05.986931Z"
    },
    "papermill": {
     "duration": 0.226236,
     "end_time": "2021-05-02T16:46:05.987579",
     "exception": false,
     "start_time": "2021-05-02T16:46:05.761343",
     "status": "completed"
    },
    "tags": []
   },
   "outputs": [
    {
     "data": {
      "text/plain": [
       "Index(['home_ownership', 'verification_status', 'issue_d', 'loan_status',\n",
       "       'purpose', 'earliest_cr_line', 'initial_list_status',\n",
       "       'application_type', 'address'],\n",
       "      dtype='object')"
      ]
     },
     "execution_count": 57,
     "metadata": {},
     "output_type": "execute_result"
    }
   ],
   "source": [
    "new_df.select_dtypes(include = ['object']).columns"
   ]
  },
  {
   "cell_type": "markdown",
   "id": "mineral-mobile",
   "metadata": {
    "papermill": {
     "duration": 0.110583,
     "end_time": "2021-05-02T16:46:06.206933",
     "exception": false,
     "start_time": "2021-05-02T16:46:06.096350",
     "status": "completed"
    },
    "tags": []
   },
   "source": [
    "### verification_status, application_type,initial_list_status,purpose \n",
    "**TASK: Convert these columns: ['verification_status', 'application_type','initial_list_status','purpose'] into dummy variables and concatenate them with the original dataframe. Remember to set drop_first=True and to drop the original columns.**"
   ]
  },
  {
   "cell_type": "code",
   "execution_count": 58,
   "id": "eligible-california",
   "metadata": {
    "execution": {
     "iopub.execute_input": "2021-05-02T16:46:06.427119Z",
     "iopub.status.busy": "2021-05-02T16:46:06.426397Z",
     "iopub.status.idle": "2021-05-02T16:46:06.659629Z",
     "shell.execute_reply": "2021-05-02T16:46:06.659155Z"
    },
    "papermill": {
     "duration": 0.346019,
     "end_time": "2021-05-02T16:46:06.659751",
     "exception": false,
     "start_time": "2021-05-02T16:46:06.313732",
     "status": "completed"
    },
    "tags": []
   },
   "outputs": [],
   "source": [
    "new_df = pd.get_dummies(data = new_df, columns =  ['verification_status', 'application_type','initial_list_status','purpose'] , prefix =  ['ver_status', 'app_type','init_list_status','purpose'],drop_first = True)"
   ]
  },
  {
   "cell_type": "code",
   "execution_count": 59,
   "id": "driving-valuation",
   "metadata": {
    "execution": {
     "iopub.execute_input": "2021-05-02T16:46:06.887554Z",
     "iopub.status.busy": "2021-05-02T16:46:06.885930Z",
     "iopub.status.idle": "2021-05-02T16:46:06.956994Z",
     "shell.execute_reply": "2021-05-02T16:46:06.957416Z"
    },
    "papermill": {
     "duration": 0.189035,
     "end_time": "2021-05-02T16:46:06.957563",
     "exception": false,
     "start_time": "2021-05-02T16:46:06.768528",
     "status": "completed"
    },
    "tags": []
   },
   "outputs": [
    {
     "data": {
      "text/plain": [
       "Index(['home_ownership', 'issue_d', 'loan_status', 'earliest_cr_line',\n",
       "       'address'],\n",
       "      dtype='object')"
      ]
     },
     "execution_count": 59,
     "metadata": {},
     "output_type": "execute_result"
    }
   ],
   "source": [
    "new_df.select_dtypes(include = ['object']).columns"
   ]
  },
  {
   "cell_type": "markdown",
   "id": "sticky-garage",
   "metadata": {
    "papermill": {
     "duration": 0.107259,
     "end_time": "2021-05-02T16:46:07.172826",
     "exception": false,
     "start_time": "2021-05-02T16:46:07.065567",
     "status": "completed"
    },
    "tags": []
   },
   "source": [
    "### home_ownership\n",
    "**LEt's review the value_counts for the home_ownership column.**"
   ]
  },
  {
   "cell_type": "code",
   "execution_count": 60,
   "id": "historical-bradford",
   "metadata": {
    "execution": {
     "iopub.execute_input": "2021-05-02T16:46:07.480946Z",
     "iopub.status.busy": "2021-05-02T16:46:07.480143Z",
     "iopub.status.idle": "2021-05-02T16:46:07.486831Z",
     "shell.execute_reply": "2021-05-02T16:46:07.486406Z"
    },
    "papermill": {
     "duration": 0.200085,
     "end_time": "2021-05-02T16:46:07.486959",
     "exception": false,
     "start_time": "2021-05-02T16:46:07.286874",
     "status": "completed"
    },
    "tags": []
   },
   "outputs": [
    {
     "data": {
      "text/plain": [
       "MORTGAGE    198022\n",
       "RENT        159395\n",
       "OWN          37660\n",
       "OTHER          110\n",
       "NONE            29\n",
       "ANY              3\n",
       "Name: home_ownership, dtype: int64"
      ]
     },
     "execution_count": 60,
     "metadata": {},
     "output_type": "execute_result"
    }
   ],
   "source": [
    "new_df.home_ownership.value_counts()"
   ]
  },
  {
   "cell_type": "markdown",
   "id": "twenty-quantum",
   "metadata": {
    "papermill": {
     "duration": 0.107665,
     "end_time": "2021-05-02T16:46:07.702173",
     "exception": false,
     "start_time": "2021-05-02T16:46:07.594508",
     "status": "completed"
    },
    "tags": []
   },
   "source": [
    "**NONE and ANY classes can be merged with OTHER, so that we end up with just 4 categories, MORTGAGE, RENT, OWN, OTHER.**"
   ]
  },
  {
   "cell_type": "code",
   "execution_count": 61,
   "id": "concerned-alexandria",
   "metadata": {
    "execution": {
     "iopub.execute_input": "2021-05-02T16:46:07.952253Z",
     "iopub.status.busy": "2021-05-02T16:46:07.951475Z",
     "iopub.status.idle": "2021-05-02T16:46:07.959291Z",
     "shell.execute_reply": "2021-05-02T16:46:07.958862Z"
    },
    "papermill": {
     "duration": 0.148627,
     "end_time": "2021-05-02T16:46:07.959398",
     "exception": false,
     "start_time": "2021-05-02T16:46:07.810771",
     "status": "completed"
    },
    "tags": []
   },
   "outputs": [],
   "source": [
    "new_df['home_ownership'] = new_df.home_ownership.replace(['NONE','ANY'], 'OTHER')"
   ]
  },
  {
   "cell_type": "markdown",
   "id": "naval-classics",
   "metadata": {
    "papermill": {
     "duration": 0.107812,
     "end_time": "2021-05-02T16:46:08.176047",
     "exception": false,
     "start_time": "2021-05-02T16:46:08.068235",
     "status": "completed"
    },
    "tags": []
   },
   "source": [
    "**TASK: Now make this zip_code column into dummy variables using pandas. Concatenate the result and drop the original zip_code column along with dropping the address column.**"
   ]
  },
  {
   "cell_type": "code",
   "execution_count": 62,
   "id": "reasonable-amino",
   "metadata": {
    "execution": {
     "iopub.execute_input": "2021-05-02T16:46:08.544761Z",
     "iopub.status.busy": "2021-05-02T16:46:08.543606Z",
     "iopub.status.idle": "2021-05-02T16:46:08.886985Z",
     "shell.execute_reply": "2021-05-02T16:46:08.887572Z"
    },
    "papermill": {
     "duration": 0.528495,
     "end_time": "2021-05-02T16:46:08.887790",
     "exception": false,
     "start_time": "2021-05-02T16:46:08.359295",
     "status": "completed"
    },
    "tags": []
   },
   "outputs": [],
   "source": [
    "new_df['zip_code'] = new_df.address.apply(lambda x: x[-5:])\n",
    "new_df.drop(columns = ['address'], inplace = True)"
   ]
  },
  {
   "cell_type": "code",
   "execution_count": 63,
   "id": "serial-arnold",
   "metadata": {
    "execution": {
     "iopub.execute_input": "2021-05-02T16:46:09.283639Z",
     "iopub.status.busy": "2021-05-02T16:46:09.282937Z",
     "iopub.status.idle": "2021-05-02T16:46:09.476812Z",
     "shell.execute_reply": "2021-05-02T16:46:09.477939Z"
    },
    "papermill": {
     "duration": 0.345636,
     "end_time": "2021-05-02T16:46:09.479234",
     "exception": false,
     "start_time": "2021-05-02T16:46:09.133598",
     "status": "completed"
    },
    "tags": []
   },
   "outputs": [],
   "source": [
    "new_df = pd.get_dummies(data = new_df, columns = ['zip_code','home_ownership'], prefix = ['zip', 'home_own'], drop_first = True)"
   ]
  },
  {
   "cell_type": "code",
   "execution_count": 64,
   "id": "amateur-brand",
   "metadata": {
    "execution": {
     "iopub.execute_input": "2021-05-02T16:46:09.715676Z",
     "iopub.status.busy": "2021-05-02T16:46:09.714030Z",
     "iopub.status.idle": "2021-05-02T16:46:09.760139Z",
     "shell.execute_reply": "2021-05-02T16:46:09.760556Z"
    },
    "papermill": {
     "duration": 0.161612,
     "end_time": "2021-05-02T16:46:09.760700",
     "exception": false,
     "start_time": "2021-05-02T16:46:09.599088",
     "status": "completed"
    },
    "tags": []
   },
   "outputs": [
    {
     "data": {
      "text/plain": [
       "Index(['issue_d', 'loan_status', 'earliest_cr_line'], dtype='object')"
      ]
     },
     "execution_count": 64,
     "metadata": {},
     "output_type": "execute_result"
    }
   ],
   "source": [
    "new_df.select_dtypes(include = ['object']).columns"
   ]
  },
  {
   "cell_type": "markdown",
   "id": "cubic-shade",
   "metadata": {
    "papermill": {
     "duration": 0.108528,
     "end_time": "2021-05-02T16:46:09.979762",
     "exception": false,
     "start_time": "2021-05-02T16:46:09.871234",
     "status": "completed"
    },
    "tags": []
   },
   "source": [
    "### issue_d \n",
    "\n",
    "**This would be data leakage, we wouldn't know beforehand whether or not a loan would be issued when using our model, so in theory we wouldn't have an issue_date, Let's drop this feature.**"
   ]
  },
  {
   "cell_type": "code",
   "execution_count": 65,
   "id": "suspected-nursing",
   "metadata": {
    "execution": {
     "iopub.execute_input": "2021-05-02T16:46:10.210977Z",
     "iopub.status.busy": "2021-05-02T16:46:10.210039Z",
     "iopub.status.idle": "2021-05-02T16:46:10.234314Z",
     "shell.execute_reply": "2021-05-02T16:46:10.233833Z"
    },
    "papermill": {
     "duration": 0.145369,
     "end_time": "2021-05-02T16:46:10.234446",
     "exception": false,
     "start_time": "2021-05-02T16:46:10.089077",
     "status": "completed"
    },
    "tags": []
   },
   "outputs": [],
   "source": [
    "new_df.drop(columns = ['issue_d'], inplace = True)"
   ]
  },
  {
   "cell_type": "markdown",
   "id": "touched-notion",
   "metadata": {
    "papermill": {
     "duration": 0.110289,
     "end_time": "2021-05-02T16:46:10.454037",
     "exception": false,
     "start_time": "2021-05-02T16:46:10.343748",
     "status": "completed"
    },
    "tags": []
   },
   "source": [
    "### earliest_cr_line\n",
    "**This appears to be a historical time stamp feature. Let's extract the year from this feature using a .apply function, then convert it to a numeric feature.**"
   ]
  },
  {
   "cell_type": "code",
   "execution_count": 66,
   "id": "induced-admission",
   "metadata": {
    "execution": {
     "iopub.execute_input": "2021-05-02T16:46:10.677889Z",
     "iopub.status.busy": "2021-05-02T16:46:10.676869Z",
     "iopub.status.idle": "2021-05-02T16:46:11.001606Z",
     "shell.execute_reply": "2021-05-02T16:46:11.001137Z"
    },
    "papermill": {
     "duration": 0.438622,
     "end_time": "2021-05-02T16:46:11.001740",
     "exception": false,
     "start_time": "2021-05-02T16:46:10.563118",
     "status": "completed"
    },
    "tags": []
   },
   "outputs": [],
   "source": [
    "new_df['earliest_cr_year'] = new_df.earliest_cr_line.apply(lambda x: int(x[-4:]))\n",
    "new_df.drop(columns = ['earliest_cr_line'], inplace = True)"
   ]
  },
  {
   "cell_type": "code",
   "execution_count": 67,
   "id": "european-witness",
   "metadata": {
    "execution": {
     "iopub.execute_input": "2021-05-02T16:46:11.235156Z",
     "iopub.status.busy": "2021-05-02T16:46:11.234359Z",
     "iopub.status.idle": "2021-05-02T16:46:11.242415Z",
     "shell.execute_reply": "2021-05-02T16:46:11.242012Z"
    },
    "papermill": {
     "duration": 0.127398,
     "end_time": "2021-05-02T16:46:11.242527",
     "exception": false,
     "start_time": "2021-05-02T16:46:11.115129",
     "status": "completed"
    },
    "tags": []
   },
   "outputs": [
    {
     "data": {
      "text/plain": [
       "Index(['loan_status'], dtype='object')"
      ]
     },
     "execution_count": 67,
     "metadata": {},
     "output_type": "execute_result"
    }
   ],
   "source": [
    "new_df.select_dtypes(include = ['object']).columns"
   ]
  },
  {
   "cell_type": "markdown",
   "id": "micro-reference",
   "metadata": {
    "papermill": {
     "duration": 0.109916,
     "end_time": "2021-05-02T16:46:11.462392",
     "exception": false,
     "start_time": "2021-05-02T16:46:11.352476",
     "status": "completed"
    },
    "tags": []
   },
   "source": [
    "## Train Test Split"
   ]
  },
  {
   "cell_type": "markdown",
   "id": "taken-interim",
   "metadata": {
    "papermill": {
     "duration": 0.108555,
     "end_time": "2021-05-02T16:46:11.680033",
     "exception": false,
     "start_time": "2021-05-02T16:46:11.571478",
     "status": "completed"
    },
    "tags": []
   },
   "source": [
    "**Import train_test_split from sklearn.**"
   ]
  },
  {
   "cell_type": "code",
   "execution_count": 68,
   "id": "hourly-twins",
   "metadata": {
    "execution": {
     "iopub.execute_input": "2021-05-02T16:46:11.905246Z",
     "iopub.status.busy": "2021-05-02T16:46:11.904503Z",
     "iopub.status.idle": "2021-05-02T16:46:12.089964Z",
     "shell.execute_reply": "2021-05-02T16:46:12.089485Z"
    },
    "papermill": {
     "duration": 0.299569,
     "end_time": "2021-05-02T16:46:12.090101",
     "exception": false,
     "start_time": "2021-05-02T16:46:11.790532",
     "status": "completed"
    },
    "tags": []
   },
   "outputs": [],
   "source": [
    "from sklearn.model_selection import train_test_split"
   ]
  },
  {
   "cell_type": "markdown",
   "id": "realistic-investing",
   "metadata": {
    "papermill": {
     "duration": 0.109316,
     "end_time": "2021-05-02T16:46:12.310334",
     "exception": false,
     "start_time": "2021-05-02T16:46:12.201018",
     "status": "completed"
    },
    "tags": []
   },
   "source": [
    "**Let's drop the load_status column we created earlier, since its a duplicate of the loan_repaid column. We'll use the loan_repaid column since its already in 0s and 1s.**"
   ]
  },
  {
   "cell_type": "code",
   "execution_count": 69,
   "id": "fundamental-roads",
   "metadata": {
    "execution": {
     "iopub.execute_input": "2021-05-02T16:46:12.544805Z",
     "iopub.status.busy": "2021-05-02T16:46:12.543004Z",
     "iopub.status.idle": "2021-05-02T16:46:12.562138Z",
     "shell.execute_reply": "2021-05-02T16:46:12.562575Z"
    },
    "papermill": {
     "duration": 0.143609,
     "end_time": "2021-05-02T16:46:12.562716",
     "exception": false,
     "start_time": "2021-05-02T16:46:12.419107",
     "status": "completed"
    },
    "tags": []
   },
   "outputs": [
    {
     "data": {
      "text/plain": [
       "79"
      ]
     },
     "execution_count": 69,
     "metadata": {},
     "output_type": "execute_result"
    }
   ],
   "source": [
    "new_df.drop(columns = ['loan_status'], inplace = True)\n",
    "len(new_df.columns)"
   ]
  },
  {
   "cell_type": "markdown",
   "id": "opened-apparel",
   "metadata": {
    "papermill": {
     "duration": 0.117294,
     "end_time": "2021-05-02T16:46:12.790173",
     "exception": false,
     "start_time": "2021-05-02T16:46:12.672879",
     "status": "completed"
    },
    "tags": []
   },
   "source": [
    "**TASK: Set X and y variables to the .values of the features and label.**"
   ]
  },
  {
   "cell_type": "code",
   "execution_count": 70,
   "id": "excited-preference",
   "metadata": {
    "execution": {
     "iopub.execute_input": "2021-05-02T16:46:13.023613Z",
     "iopub.status.busy": "2021-05-02T16:46:13.022378Z",
     "iopub.status.idle": "2021-05-02T16:46:13.112672Z",
     "shell.execute_reply": "2021-05-02T16:46:13.112204Z"
    },
    "papermill": {
     "duration": 0.213195,
     "end_time": "2021-05-02T16:46:13.112804",
     "exception": false,
     "start_time": "2021-05-02T16:46:12.899609",
     "status": "completed"
    },
    "tags": []
   },
   "outputs": [],
   "source": [
    "X = new_df.drop(columns = ['loan_repaid']).values\n",
    "y = new_df.loan_repaid.values"
   ]
  },
  {
   "cell_type": "markdown",
   "id": "complicated-battlefield",
   "metadata": {
    "papermill": {
     "duration": 0.108092,
     "end_time": "2021-05-02T16:46:13.331039",
     "exception": false,
     "start_time": "2021-05-02T16:46:13.222947",
     "status": "completed"
    },
    "tags": []
   },
   "source": [
    "----\n",
    "----\n",
    "\n",
    "## Grabbing a Sample for Training Time\n",
    "\n",
    "### Using .sample() to grab a sample of the 490k+ entries to save time on training. Highly recommended for lower RAM computers or if you are not using GPU.\n",
    "\n",
    "----\n",
    "----"
   ]
  },
  {
   "cell_type": "code",
   "execution_count": 71,
   "id": "conventional-bachelor",
   "metadata": {
    "execution": {
     "iopub.execute_input": "2021-05-02T16:46:13.553463Z",
     "iopub.status.busy": "2021-05-02T16:46:13.552769Z",
     "iopub.status.idle": "2021-05-02T16:46:13.600069Z",
     "shell.execute_reply": "2021-05-02T16:46:13.600610Z"
    },
    "papermill": {
     "duration": 0.161022,
     "end_time": "2021-05-02T16:46:13.600794",
     "exception": false,
     "start_time": "2021-05-02T16:46:13.439772",
     "status": "completed"
    },
    "tags": []
   },
   "outputs": [
    {
     "name": "stdout",
     "output_type": "stream",
     "text": [
      "39522\n"
     ]
    }
   ],
   "source": [
    "s_df = new_df.sample(frac=0.1,random_state=101)\n",
    "print(len(s_df))"
   ]
  },
  {
   "cell_type": "markdown",
   "id": "every-resistance",
   "metadata": {
    "papermill": {
     "duration": 0.108872,
     "end_time": "2021-05-02T16:46:13.818964",
     "exception": false,
     "start_time": "2021-05-02T16:46:13.710092",
     "status": "completed"
    },
    "tags": []
   },
   "source": [
    "**TASK: Perform a train/test split with test_size=0.2 and a random_state of 101.**"
   ]
  },
  {
   "cell_type": "code",
   "execution_count": 72,
   "id": "radio-resolution",
   "metadata": {
    "execution": {
     "iopub.execute_input": "2021-05-02T16:46:14.041587Z",
     "iopub.status.busy": "2021-05-02T16:46:14.040886Z",
     "iopub.status.idle": "2021-05-02T16:46:14.402974Z",
     "shell.execute_reply": "2021-05-02T16:46:14.402469Z"
    },
    "papermill": {
     "duration": 0.475488,
     "end_time": "2021-05-02T16:46:14.403115",
     "exception": false,
     "start_time": "2021-05-02T16:46:13.927627",
     "status": "completed"
    },
    "tags": []
   },
   "outputs": [],
   "source": [
    "X_train, X_test, y_train, y_test = train_test_split(X, y,test_size=0.2, random_state=101)"
   ]
  },
  {
   "cell_type": "markdown",
   "id": "played-croatia",
   "metadata": {
    "papermill": {
     "duration": 0.108532,
     "end_time": "2021-05-02T16:46:14.620571",
     "exception": false,
     "start_time": "2021-05-02T16:46:14.512039",
     "status": "completed"
    },
    "tags": []
   },
   "source": [
    "## Normalizing the Data\n",
    "\n",
    "**A MinMaxScaler can be used to normalize the feature data X_train and X_test.**"
   ]
  },
  {
   "cell_type": "code",
   "execution_count": 73,
   "id": "northern-tomato",
   "metadata": {
    "execution": {
     "iopub.execute_input": "2021-05-02T16:46:14.848202Z",
     "iopub.status.busy": "2021-05-02T16:46:14.847501Z",
     "iopub.status.idle": "2021-05-02T16:46:14.850361Z",
     "shell.execute_reply": "2021-05-02T16:46:14.849948Z"
    },
    "papermill": {
     "duration": 0.116854,
     "end_time": "2021-05-02T16:46:14.850475",
     "exception": false,
     "start_time": "2021-05-02T16:46:14.733621",
     "status": "completed"
    },
    "tags": []
   },
   "outputs": [],
   "source": [
    "from sklearn.preprocessing import MinMaxScaler"
   ]
  },
  {
   "cell_type": "code",
   "execution_count": 74,
   "id": "smoking-medication",
   "metadata": {
    "execution": {
     "iopub.execute_input": "2021-05-02T16:46:15.073978Z",
     "iopub.status.busy": "2021-05-02T16:46:15.073107Z",
     "iopub.status.idle": "2021-05-02T16:46:15.340091Z",
     "shell.execute_reply": "2021-05-02T16:46:15.339601Z"
    },
    "papermill": {
     "duration": 0.380105,
     "end_time": "2021-05-02T16:46:15.340229",
     "exception": false,
     "start_time": "2021-05-02T16:46:14.960124",
     "status": "completed"
    },
    "tags": []
   },
   "outputs": [],
   "source": [
    "scaler = MinMaxScaler()\n",
    "X_train_new = scaler.fit_transform(X_train)\n",
    "X_test_new = scaler.transform(X_test)"
   ]
  },
  {
   "cell_type": "markdown",
   "id": "young-china",
   "metadata": {
    "papermill": {
     "duration": 0.108832,
     "end_time": "2021-05-02T16:46:15.559040",
     "exception": false,
     "start_time": "2021-05-02T16:46:15.450208",
     "status": "completed"
    },
    "tags": []
   },
   "source": [
    "# The Model Creation\n",
    "\n",
    "**Importing the necessary Keras functions.**"
   ]
  },
  {
   "cell_type": "code",
   "execution_count": 75,
   "id": "hourly-pollution",
   "metadata": {
    "execution": {
     "iopub.execute_input": "2021-05-02T16:46:15.782266Z",
     "iopub.status.busy": "2021-05-02T16:46:15.781665Z",
     "iopub.status.idle": "2021-05-02T16:46:20.530236Z",
     "shell.execute_reply": "2021-05-02T16:46:20.529690Z"
    },
    "papermill": {
     "duration": 4.862633,
     "end_time": "2021-05-02T16:46:20.530375",
     "exception": false,
     "start_time": "2021-05-02T16:46:15.667742",
     "status": "completed"
    },
    "tags": []
   },
   "outputs": [],
   "source": [
    "import tensorflow as tf\n",
    "from tensorflow.keras.models import Sequential\n",
    "from tensorflow.keras.layers import Dense,Dropout"
   ]
  },
  {
   "cell_type": "markdown",
   "id": "essential-phenomenon",
   "metadata": {
    "papermill": {
     "duration": 0.110556,
     "end_time": "2021-05-02T16:46:20.751867",
     "exception": false,
     "start_time": "2021-05-02T16:46:20.641311",
     "status": "completed"
    },
    "tags": []
   },
   "source": [
    "**Build a sequential model to will be trained on the data. You have unlimited options here, but here is what the solution uses: a model that goes 78 --> 39 --> 19--> 1 output neuron.**"
   ]
  },
  {
   "cell_type": "code",
   "execution_count": 76,
   "id": "lucky-lounge",
   "metadata": {
    "execution": {
     "iopub.execute_input": "2021-05-02T16:46:21.010674Z",
     "iopub.status.busy": "2021-05-02T16:46:21.010175Z",
     "iopub.status.idle": "2021-05-02T16:46:24.039728Z",
     "shell.execute_reply": "2021-05-02T16:46:24.038868Z"
    },
    "papermill": {
     "duration": 3.146217,
     "end_time": "2021-05-02T16:46:24.039890",
     "exception": false,
     "start_time": "2021-05-02T16:46:20.893673",
     "status": "completed"
    },
    "tags": []
   },
   "outputs": [],
   "source": [
    "# CODE HERE\n",
    "model = Sequential()\n",
    "\n",
    "model.add(Dense(78, activation = 'relu'))\n",
    "model.add(Dropout(0.2))\n",
    "\n",
    "model.add(Dense(39, activation = 'relu'))\n",
    "model.add(Dropout(0.2))\n",
    "\n",
    "model.add(Dense(19, activation = 'relu'))\n",
    "model.add(Dropout(0.2))\n",
    "\n",
    "model.add(Dense(1, activation = 'sigmoid'))\n",
    "\n",
    "model.compile(loss = 'binary_crossentropy', optimizer = 'adam')"
   ]
  },
  {
   "cell_type": "code",
   "execution_count": 77,
   "id": "constant-promotion",
   "metadata": {
    "execution": {
     "iopub.execute_input": "2021-05-02T16:46:24.266308Z",
     "iopub.status.busy": "2021-05-02T16:46:24.265616Z",
     "iopub.status.idle": "2021-05-02T16:46:24.268923Z",
     "shell.execute_reply": "2021-05-02T16:46:24.269321Z"
    },
    "papermill": {
     "duration": 0.119261,
     "end_time": "2021-05-02T16:46:24.269447",
     "exception": false,
     "start_time": "2021-05-02T16:46:24.150186",
     "status": "completed"
    },
    "tags": []
   },
   "outputs": [
    {
     "data": {
      "text/plain": [
       "(316175, 78)"
      ]
     },
     "execution_count": 77,
     "metadata": {},
     "output_type": "execute_result"
    }
   ],
   "source": [
    "X_train_new.shape"
   ]
  },
  {
   "cell_type": "markdown",
   "id": "czech-outline",
   "metadata": {
    "papermill": {
     "duration": 0.176134,
     "end_time": "2021-05-02T16:46:24.588610",
     "exception": false,
     "start_time": "2021-05-02T16:46:24.412476",
     "status": "completed"
    },
    "tags": []
   },
   "source": [
    "**TASK: Fit the model to the training data for at least 25 epochs. Also add in the validation data for later plotting. Optional: add in a batch_size of 256.**"
   ]
  },
  {
   "cell_type": "code",
   "execution_count": 78,
   "id": "crucial-federal",
   "metadata": {
    "execution": {
     "iopub.execute_input": "2021-05-02T16:46:24.959176Z",
     "iopub.status.busy": "2021-05-02T16:46:24.958126Z",
     "iopub.status.idle": "2021-05-02T16:47:48.221629Z",
     "shell.execute_reply": "2021-05-02T16:47:48.221122Z"
    },
    "papermill": {
     "duration": 83.459517,
     "end_time": "2021-05-02T16:47:48.221762",
     "exception": false,
     "start_time": "2021-05-02T16:46:24.762245",
     "status": "completed"
    },
    "tags": []
   },
   "outputs": [
    {
     "name": "stdout",
     "output_type": "stream",
     "text": [
      "Epoch 1/25\n",
      "1236/1236 [==============================] - 5s 3ms/step - loss: 0.3580 - val_loss: 0.2640\n",
      "Epoch 2/25\n",
      "1236/1236 [==============================] - 3s 3ms/step - loss: 0.2682 - val_loss: 0.2632\n",
      "Epoch 3/25\n",
      "1236/1236 [==============================] - 3s 3ms/step - loss: 0.2630 - val_loss: 0.2619\n",
      "Epoch 4/25\n",
      "1236/1236 [==============================] - 3s 3ms/step - loss: 0.2633 - val_loss: 0.2619\n",
      "Epoch 5/25\n",
      "1236/1236 [==============================] - 3s 3ms/step - loss: 0.2619 - val_loss: 0.2619\n",
      "Epoch 6/25\n",
      "1236/1236 [==============================] - 3s 2ms/step - loss: 0.2589 - val_loss: 0.2614\n",
      "Epoch 7/25\n",
      "1236/1236 [==============================] - 3s 2ms/step - loss: 0.2585 - val_loss: 0.2615\n",
      "Epoch 8/25\n",
      "1236/1236 [==============================] - 3s 3ms/step - loss: 0.2598 - val_loss: 0.2614\n",
      "Epoch 9/25\n",
      "1236/1236 [==============================] - 3s 3ms/step - loss: 0.2603 - val_loss: 0.2617\n",
      "Epoch 10/25\n",
      "1236/1236 [==============================] - 4s 3ms/step - loss: 0.2580 - val_loss: 0.2623\n",
      "Epoch 11/25\n",
      "1236/1236 [==============================] - 3s 2ms/step - loss: 0.2591 - val_loss: 0.2609\n",
      "Epoch 12/25\n",
      "1236/1236 [==============================] - 3s 3ms/step - loss: 0.2580 - val_loss: 0.2613\n",
      "Epoch 13/25\n",
      "1236/1236 [==============================] - 3s 3ms/step - loss: 0.2586 - val_loss: 0.2617\n",
      "Epoch 14/25\n",
      "1236/1236 [==============================] - 3s 3ms/step - loss: 0.2576 - val_loss: 0.2607\n",
      "Epoch 15/25\n",
      "1236/1236 [==============================] - 3s 3ms/step - loss: 0.2576 - val_loss: 0.2618\n",
      "Epoch 16/25\n",
      "1236/1236 [==============================] - 3s 3ms/step - loss: 0.2571 - val_loss: 0.2609\n",
      "Epoch 17/25\n",
      "1236/1236 [==============================] - 3s 3ms/step - loss: 0.2573 - val_loss: 0.2613\n",
      "Epoch 18/25\n",
      "1236/1236 [==============================] - 3s 3ms/step - loss: 0.2574 - val_loss: 0.2609\n",
      "Epoch 19/25\n",
      "1236/1236 [==============================] - 4s 3ms/step - loss: 0.2566 - val_loss: 0.2609\n",
      "Epoch 20/25\n",
      "1236/1236 [==============================] - 3s 3ms/step - loss: 0.2565 - val_loss: 0.2617\n",
      "Epoch 21/25\n",
      "1236/1236 [==============================] - 3s 2ms/step - loss: 0.2555 - val_loss: 0.2611\n",
      "Epoch 22/25\n",
      "1236/1236 [==============================] - 3s 3ms/step - loss: 0.2558 - val_loss: 0.2609\n",
      "Epoch 23/25\n",
      "1236/1236 [==============================] - 3s 3ms/step - loss: 0.2567 - val_loss: 0.2611\n",
      "Epoch 24/25\n",
      "1236/1236 [==============================] - 3s 2ms/step - loss: 0.2547 - val_loss: 0.2616\n",
      "Epoch 25/25\n",
      "1236/1236 [==============================] - 3s 3ms/step - loss: 0.2543 - val_loss: 0.2610\n"
     ]
    },
    {
     "data": {
      "text/plain": [
       "<tensorflow.python.keras.callbacks.History at 0x7f6d50655dd0>"
      ]
     },
     "execution_count": 78,
     "metadata": {},
     "output_type": "execute_result"
    }
   ],
   "source": [
    "model.fit(x = X_train_new, y = y_train, epochs = 25, batch_size = 256, validation_data = (X_test_new, y_test))"
   ]
  },
  {
   "cell_type": "markdown",
   "id": "southeast-quarterly",
   "metadata": {
    "papermill": {
     "duration": 0.474147,
     "end_time": "2021-05-02T16:47:49.167314",
     "exception": false,
     "start_time": "2021-05-02T16:47:48.693167",
     "status": "completed"
    },
    "tags": []
   },
   "source": [
    "** Save your model.**"
   ]
  },
  {
   "cell_type": "code",
   "execution_count": 79,
   "id": "convenient-musician",
   "metadata": {
    "execution": {
     "iopub.execute_input": "2021-05-02T16:47:50.113166Z",
     "iopub.status.busy": "2021-05-02T16:47:50.111338Z",
     "iopub.status.idle": "2021-05-02T16:47:50.113906Z",
     "shell.execute_reply": "2021-05-02T16:47:50.114312Z"
    },
    "papermill": {
     "duration": 0.476859,
     "end_time": "2021-05-02T16:47:50.114445",
     "exception": false,
     "start_time": "2021-05-02T16:47:49.637586",
     "status": "completed"
    },
    "tags": []
   },
   "outputs": [],
   "source": [
    "from tensorflow.keras.models import load_model"
   ]
  },
  {
   "cell_type": "code",
   "execution_count": 80,
   "id": "minor-salon",
   "metadata": {
    "execution": {
     "iopub.execute_input": "2021-05-02T16:47:51.075099Z",
     "iopub.status.busy": "2021-05-02T16:47:51.074445Z",
     "iopub.status.idle": "2021-05-02T16:47:51.100131Z",
     "shell.execute_reply": "2021-05-02T16:47:51.099435Z"
    },
    "papermill": {
     "duration": 0.517311,
     "end_time": "2021-05-02T16:47:51.100253",
     "exception": false,
     "start_time": "2021-05-02T16:47:50.582942",
     "status": "completed"
    },
    "tags": []
   },
   "outputs": [],
   "source": [
    "model.save('lend_club_model.h5')"
   ]
  },
  {
   "cell_type": "markdown",
   "id": "accredited-association",
   "metadata": {
    "papermill": {
     "duration": 0.468909,
     "end_time": "2021-05-02T16:47:52.036981",
     "exception": false,
     "start_time": "2021-05-02T16:47:51.568072",
     "status": "completed"
    },
    "tags": []
   },
   "source": [
    "# Evaluating Model Performance.\n",
    "\n",
    "**Plot out the validation loss versus the training loss.**"
   ]
  },
  {
   "cell_type": "code",
   "execution_count": 81,
   "id": "dried-stick",
   "metadata": {
    "execution": {
     "iopub.execute_input": "2021-05-02T16:47:52.991449Z",
     "iopub.status.busy": "2021-05-02T16:47:52.990878Z",
     "iopub.status.idle": "2021-05-02T16:47:52.994897Z",
     "shell.execute_reply": "2021-05-02T16:47:52.994443Z"
    },
    "papermill": {
     "duration": 0.482636,
     "end_time": "2021-05-02T16:47:52.995056",
     "exception": false,
     "start_time": "2021-05-02T16:47:52.512420",
     "status": "completed"
    },
    "tags": []
   },
   "outputs": [],
   "source": [
    "losses = pd.DataFrame(model.history.history)"
   ]
  },
  {
   "cell_type": "code",
   "execution_count": 82,
   "id": "labeled-senator",
   "metadata": {
    "execution": {
     "iopub.execute_input": "2021-05-02T16:47:53.992645Z",
     "iopub.status.busy": "2021-05-02T16:47:53.985392Z",
     "iopub.status.idle": "2021-05-02T16:47:54.113881Z",
     "shell.execute_reply": "2021-05-02T16:47:54.113452Z"
    },
    "papermill": {
     "duration": 0.635889,
     "end_time": "2021-05-02T16:47:54.114006",
     "exception": false,
     "start_time": "2021-05-02T16:47:53.478117",
     "status": "completed"
    },
    "tags": []
   },
   "outputs": [
    {
     "data": {
      "text/plain": [
       "<AxesSubplot:>"
      ]
     },
     "execution_count": 82,
     "metadata": {},
     "output_type": "execute_result"
    },
    {
     "data": {
      "image/png": "[encoded data removed]",
      "text/plain": [
       "<Figure size 432x288 with 1 Axes>"
      ]
     },
     "metadata": {
      "needs_background": "light"
     },
     "output_type": "display_data"
    }
   ],
   "source": [
    "losses.plot()"
   ]
  },
  {
   "cell_type": "markdown",
   "id": "mental-rainbow",
   "metadata": {
    "papermill": {
     "duration": 0.511236,
     "end_time": "2021-05-02T16:47:55.106669",
     "exception": false,
     "start_time": "2021-05-02T16:47:54.595433",
     "status": "completed"
    },
    "tags": []
   },
   "source": [
    "**Create predictions from the X_test set and display a classification report and confusion matrix for the X_test set.**"
   ]
  },
  {
   "cell_type": "code",
   "execution_count": 83,
   "id": "continued-picture",
   "metadata": {
    "execution": {
     "iopub.execute_input": "2021-05-02T16:47:56.057019Z",
     "iopub.status.busy": "2021-05-02T16:47:56.056444Z",
     "iopub.status.idle": "2021-05-02T16:47:56.060497Z",
     "shell.execute_reply": "2021-05-02T16:47:56.059935Z"
    },
    "papermill": {
     "duration": 0.482109,
     "end_time": "2021-05-02T16:47:56.060618",
     "exception": false,
     "start_time": "2021-05-02T16:47:55.578509",
     "status": "completed"
    },
    "tags": []
   },
   "outputs": [],
   "source": [
    "from sklearn.metrics import classification_report, confusion_matrix"
   ]
  },
  {
   "cell_type": "code",
   "execution_count": 84,
   "id": "affiliated-session",
   "metadata": {
    "execution": {
     "iopub.execute_input": "2021-05-02T16:47:57.013113Z",
     "iopub.status.busy": "2021-05-02T16:47:57.012387Z",
     "iopub.status.idle": "2021-05-02T16:47:58.978386Z",
     "shell.execute_reply": "2021-05-02T16:47:58.977407Z"
    },
    "papermill": {
     "duration": 2.447141,
     "end_time": "2021-05-02T16:47:58.978528",
     "exception": false,
     "start_time": "2021-05-02T16:47:56.531387",
     "status": "completed"
    },
    "tags": []
   },
   "outputs": [
    {
     "name": "stderr",
     "output_type": "stream",
     "text": [
      "/opt/conda/lib/python3.7/site-packages/tensorflow/python/keras/engine/sequential.py:450: UserWarning: `model.predict_classes()` is deprecated and will be removed after 2021-01-01. Please use instead:* `np.argmax(model.predict(x), axis=-1)`,   if your model does multi-class classification   (e.g. if it uses a `softmax` last-layer activation).* `(model.predict(x) > 0.5).astype(\"int32\")`,   if your model does binary classification   (e.g. if it uses a `sigmoid` last-layer activation).\n",
      "  warnings.warn('`model.predict_classes()` is deprecated and '\n"
     ]
    }
   ],
   "source": [
    "y_pred = model.predict_classes(X_test_new)"
   ]
  },
  {
   "cell_type": "code",
   "execution_count": 85,
   "id": "direct-eating",
   "metadata": {
    "execution": {
     "iopub.execute_input": "2021-05-02T16:47:59.921175Z",
     "iopub.status.busy": "2021-05-02T16:47:59.920387Z",
     "iopub.status.idle": "2021-05-02T16:48:00.028668Z",
     "shell.execute_reply": "2021-05-02T16:48:00.028227Z"
    },
    "papermill": {
     "duration": 0.580973,
     "end_time": "2021-05-02T16:48:00.028797",
     "exception": false,
     "start_time": "2021-05-02T16:47:59.447824",
     "status": "completed"
    },
    "tags": []
   },
   "outputs": [
    {
     "name": "stdout",
     "output_type": "stream",
     "text": [
      "              precision    recall  f1-score   support\n",
      "\n",
      "           0       0.99      0.43      0.60     15658\n",
      "           1       0.88      1.00      0.93     63386\n",
      "\n",
      "    accuracy                           0.89     79044\n",
      "   macro avg       0.93      0.72      0.77     79044\n",
      "weighted avg       0.90      0.89      0.87     79044\n",
      "\n"
     ]
    }
   ],
   "source": [
    "print(classification_report(y_test, y_pred))"
   ]
  },
  {
   "cell_type": "code",
   "execution_count": 86,
   "id": "classified-lemon",
   "metadata": {
    "execution": {
     "iopub.execute_input": "2021-05-02T16:48:01.158941Z",
     "iopub.status.busy": "2021-05-02T16:48:01.157992Z",
     "iopub.status.idle": "2021-05-02T16:48:01.316952Z",
     "shell.execute_reply": "2021-05-02T16:48:01.317965Z"
    },
    "papermill": {
     "duration": 0.817792,
     "end_time": "2021-05-02T16:48:01.318173",
     "exception": false,
     "start_time": "2021-05-02T16:48:00.500381",
     "status": "completed"
    },
    "tags": []
   },
   "outputs": [
    {
     "data": {
      "text/plain": [
       "array([[ 6798,  8860],\n",
       "       [   74, 63312]])"
      ]
     },
     "execution_count": 86,
     "metadata": {},
     "output_type": "execute_result"
    }
   ],
   "source": [
    "confusion_matrix(y_test, y_pred)"
   ]
  },
  {
   "cell_type": "markdown",
   "id": "experimental-sampling",
   "metadata": {
    "papermill": {
     "duration": 0.48128,
     "end_time": "2021-05-02T16:48:02.529181",
     "exception": false,
     "start_time": "2021-05-02T16:48:02.047901",
     "status": "completed"
    },
    "tags": []
   },
   "source": [
    "##Quick check\n",
    "**Given the customer below, would you offer this person a loan?**"
   ]
  },
  {
   "cell_type": "code",
   "execution_count": 87,
   "id": "experienced-shelf",
   "metadata": {
    "execution": {
     "iopub.execute_input": "2021-05-02T16:48:03.581825Z",
     "iopub.status.busy": "2021-05-02T16:48:03.580806Z",
     "iopub.status.idle": "2021-05-02T16:48:03.610328Z",
     "shell.execute_reply": "2021-05-02T16:48:03.610850Z"
    },
    "papermill": {
     "duration": 0.589856,
     "end_time": "2021-05-02T16:48:03.611034",
     "exception": false,
     "start_time": "2021-05-02T16:48:03.021178",
     "status": "completed"
    },
    "tags": []
   },
   "outputs": [
    {
     "data": {
      "text/plain": [
       "loan_amnt           25000.00\n",
       "int_rate               18.24\n",
       "installment           638.11\n",
       "annual_inc          61665.00\n",
       "dti                    30.11\n",
       "                      ...   \n",
       "zip_93700               0.00\n",
       "home_own_OTHER          0.00\n",
       "home_own_OWN            0.00\n",
       "home_own_RENT           1.00\n",
       "earliest_cr_year     1996.00\n",
       "Name: 305323, Length: 78, dtype: float64"
      ]
     },
     "execution_count": 87,
     "metadata": {},
     "output_type": "execute_result"
    }
   ],
   "source": [
    "import random\n",
    "random.seed(101)\n",
    "random_ind = random.randint(0,len(df))\n",
    "\n",
    "new_customer = new_df.drop('loan_repaid',axis=1).iloc[random_ind]\n",
    "new_customer"
   ]
  },
  {
   "cell_type": "code",
   "execution_count": 88,
   "id": "former-slovakia",
   "metadata": {
    "execution": {
     "iopub.execute_input": "2021-05-02T16:48:04.624014Z",
     "iopub.status.busy": "2021-05-02T16:48:04.623303Z",
     "iopub.status.idle": "2021-05-02T16:48:04.628551Z",
     "shell.execute_reply": "2021-05-02T16:48:04.627911Z"
    },
    "papermill": {
     "duration": 0.502269,
     "end_time": "2021-05-02T16:48:04.628682",
     "exception": false,
     "start_time": "2021-05-02T16:48:04.126413",
     "status": "completed"
    },
    "tags": []
   },
   "outputs": [],
   "source": [
    "new_customer = scaler.transform(new_customer.values.reshape(1,78))"
   ]
  },
  {
   "cell_type": "code",
   "execution_count": 89,
   "id": "built-property",
   "metadata": {
    "execution": {
     "iopub.execute_input": "2021-05-02T16:48:05.616749Z",
     "iopub.status.busy": "2021-05-02T16:48:05.615905Z",
     "iopub.status.idle": "2021-05-02T16:48:05.659670Z",
     "shell.execute_reply": "2021-05-02T16:48:05.658791Z"
    },
    "papermill": {
     "duration": 0.533313,
     "end_time": "2021-05-02T16:48:05.659829",
     "exception": false,
     "start_time": "2021-05-02T16:48:05.126516",
     "status": "completed"
    },
    "tags": []
   },
   "outputs": [
    {
     "name": "stderr",
     "output_type": "stream",
     "text": [
      "/opt/conda/lib/python3.7/site-packages/tensorflow/python/keras/engine/sequential.py:450: UserWarning: `model.predict_classes()` is deprecated and will be removed after 2021-01-01. Please use instead:* `np.argmax(model.predict(x), axis=-1)`,   if your model does multi-class classification   (e.g. if it uses a `softmax` last-layer activation).* `(model.predict(x) > 0.5).astype(\"int32\")`,   if your model does binary classification   (e.g. if it uses a `sigmoid` last-layer activation).\n",
      "  warnings.warn('`model.predict_classes()` is deprecated and '\n"
     ]
    },
    {
     "data": {
      "text/plain": [
       "array([[1]], dtype=int32)"
      ]
     },
     "execution_count": 89,
     "metadata": {},
     "output_type": "execute_result"
    }
   ],
   "source": [
    "model.predict_classes(new_customer)"
   ]
  },
  {
   "cell_type": "markdown",
   "id": "atmospheric-harmony",
   "metadata": {
    "papermill": {
     "duration": 0.482082,
     "end_time": "2021-05-02T16:48:06.665115",
     "exception": false,
     "start_time": "2021-05-02T16:48:06.183033",
     "status": "completed"
    },
    "tags": []
   },
   "source": [
    "**Now check, did this person actually end up paying back their loan?**"
   ]
  },
  {
   "cell_type": "code",
   "execution_count": 90,
   "id": "prerequisite-military",
   "metadata": {
    "execution": {
     "iopub.execute_input": "2021-05-02T16:48:07.652365Z",
     "iopub.status.busy": "2021-05-02T16:48:07.651545Z",
     "iopub.status.idle": "2021-05-02T16:48:07.655126Z",
     "shell.execute_reply": "2021-05-02T16:48:07.655530Z"
    },
    "papermill": {
     "duration": 0.497079,
     "end_time": "2021-05-02T16:48:07.655664",
     "exception": false,
     "start_time": "2021-05-02T16:48:07.158585",
     "status": "completed"
    },
    "tags": []
   },
   "outputs": [
    {
     "data": {
      "text/plain": [
       "1.0"
      ]
     },
     "execution_count": 90,
     "metadata": {},
     "output_type": "execute_result"
    }
   ],
   "source": [
    "new_df.iloc[random_ind].loan_repaid"
   ]
  },
  {
   "cell_type": "markdown",
   "id": "resistant-future",
   "metadata": {
    "papermill": {
     "duration": 0.49828,
     "end_time": "2021-05-02T16:48:08.640937",
     "exception": false,
     "start_time": "2021-05-02T16:48:08.142657",
     "status": "completed"
    },
    "tags": []
   },
   "source": [
    "**We got it right!!**"
   ]
  }
 ],
 "metadata": {
  "kernelspec": {
   "display_name": "Python 3",
   "language": "python",
   "name": "python3"
  },
  "language_info": {
   "codemirror_mode": {
    "name": "ipython",
    "version": 3
   },
   "file_extension": ".py",
   "mimetype": "text/x-python",
   "name": "python",
   "nbconvert_exporter": "python",
   "pygments_lexer": "ipython3",
   "version": "3.7.9"
  },
  "papermill": {
   "default_parameters": {},
   "duration": 221.289912,
   "end_time": "2021-05-02T16:48:12.008109",
   "environment_variables": {},
   "exception": null,
   "input_path": "__notebook__.ipynb",
   "output_path": "__notebook__.ipynb",
   "parameters": {},
   "start_time": "2021-05-02T16:44:30.718197",
   "version": "2.3.2"
  }
 },
 "nbformat": 4,
 "nbformat_minor": 5
}
